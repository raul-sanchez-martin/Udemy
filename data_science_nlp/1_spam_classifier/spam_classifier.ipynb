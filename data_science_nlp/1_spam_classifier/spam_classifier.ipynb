{
 "cells": [
  {
   "cell_type": "markdown",
   "metadata": {},
   "source": [
    "# Spam Classifier Example\n",
    "\n",
    "## 1. Data Source\n",
    "\n",
    "url --> https://archive.ics.uci.edu/ml/datasets/Spambase"
   ]
  },
  {
   "cell_type": "markdown",
   "metadata": {},
   "source": [
    "## 2. Data Loading & Transformation"
   ]
  },
  {
   "cell_type": "code",
   "execution_count": 13,
   "metadata": {
    "collapsed": true
   },
   "outputs": [],
   "source": [
    "from sklearn.naive_bayes import MultinomialNB\n",
    "from sklearn.metrics import accuracy_score\n",
    "from sklearn.ensemble import AdaBoostClassifier\n",
    "import pandas as pd\n",
    "import numpy as np"
   ]
  },
  {
   "cell_type": "code",
   "execution_count": 3,
   "metadata": {
    "collapsed": true
   },
   "outputs": [],
   "source": [
    "data_path = \"/home/raul/Documents/spam_ml/spambase/spambase.data\"\n",
    "data = pd.read_csv(data_path).as_matrix()\n",
    "np.random.shuffle(data)"
   ]
  },
  {
   "cell_type": "code",
   "execution_count": 10,
   "metadata": {
    "collapsed": true
   },
   "outputs": [],
   "source": [
    "X = data[:, :48]\n",
    "Y = data[:,-1]\n",
    "\n",
    "Xtrain = X[:-100, ]\n",
    "Xtest = X[-100:, ]\n",
    "Ytrain = Y[:-100, ]\n",
    "Ytest = Y[-100:, ]"
   ]
  },
  {
   "cell_type": "markdown",
   "metadata": {},
   "source": [
    "## 3. Multinomial Naive Bayes Model"
   ]
  },
  {
   "cell_type": "code",
   "execution_count": 12,
   "metadata": {},
   "outputs": [
    {
     "name": "stdout",
     "output_type": "stream",
     "text": [
      "Accuracy of NB: 0.86\n"
     ]
    }
   ],
   "source": [
    "model_mnb = MultinomialNB()\n",
    "model_mnb.fit(Xtrain, Ytrain)\n",
    "accuracy_mnb = model_mnb.score(Xtest, Ytest)\n",
    "print(\"Accuracy of NB: {0}\".format(accuracy_mnb))"
   ]
  },
  {
   "cell_type": "markdown",
   "metadata": {},
   "source": [
    "## 4. Adam Boost Model"
   ]
  },
  {
   "cell_type": "code",
   "execution_count": 14,
   "metadata": {},
   "outputs": [
    {
     "name": "stdout",
     "output_type": "stream",
     "text": [
      "Accuracy of AdaBoost: 0.92\n"
     ]
    }
   ],
   "source": [
    "model_ab = AdaBoostClassifier()\n",
    "model_ab.fit(Xtrain, Ytrain)\n",
    "accuracy_ab = model_ab.score(Xtest, Ytest)\n",
    "print(\"Accuracy of AdaBoost: {0}\".format(accuracy_ab))"
   ]
  },
  {
   "cell_type": "code",
   "execution_count": null,
   "metadata": {
    "collapsed": true
   },
   "outputs": [],
   "source": []
  }
 ],
 "metadata": {
  "kernelspec": {
   "display_name": "Python [conda env:deep_learning]",
   "language": "python",
   "name": "conda-env-deep_learning-py"
  },
  "language_info": {
   "codemirror_mode": {
    "name": "ipython",
    "version": 3
   },
   "file_extension": ".py",
   "mimetype": "text/x-python",
   "name": "python",
   "nbconvert_exporter": "python",
   "pygments_lexer": "ipython3",
   "version": "3.5.2"
  }
 },
 "nbformat": 4,
 "nbformat_minor": 1
}
