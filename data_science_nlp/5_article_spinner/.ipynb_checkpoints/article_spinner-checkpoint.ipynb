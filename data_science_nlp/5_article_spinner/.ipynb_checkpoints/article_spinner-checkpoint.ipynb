{
 "cells": [
  {
   "cell_type": "markdown",
   "metadata": {},
   "source": [
    "# Article Spinner"
   ]
  },
  {
   "cell_type": "code",
   "execution_count": 1,
   "metadata": {
    "collapsed": true
   },
   "outputs": [],
   "source": [
    "data_path = '/home/raul/data/udemy/nlp/electronics'"
   ]
  },
  {
   "cell_type": "code",
   "execution_count": 3,
   "metadata": {
    "collapsed": true
   },
   "outputs": [],
   "source": [
    "import nltk\n",
    "import numpy as np\n",
    "import random\n",
    "from bs4 import BeautifulSoup\n",
    "import os"
   ]
  },
  {
   "cell_type": "markdown",
   "metadata": {},
   "source": [
    "## 1. Load the Data"
   ]
  },
  {
   "cell_type": "code",
   "execution_count": 5,
   "metadata": {
    "collapsed": true
   },
   "outputs": [],
   "source": [
    "pos_reviews_path = os.path.join(data_path, 'positive.review')\n",
    "positive_reviews = BeautifulSoup(open(pos_reviews_path).read(), \"lxml\")\n",
    "positive_reviews = positive_reviews.findAll('review_text')"
   ]
  },
  {
   "cell_type": "markdown",
   "metadata": {},
   "source": [
    "## 2. Get the Trigrams"
   ]
  },
  {
   "cell_type": "code",
   "execution_count": 7,
   "metadata": {
    "collapsed": false
   },
   "outputs": [],
   "source": [
    "trigrams = {}\n",
    "for review in positive_reviews:\n",
    "    s = review.text.lower()\n",
    "    tokens = nltk.tokenize.word_tokenize(s)\n",
    "    for i in range(len(tokens)-2):\n",
    "        k = (tokens[i], tokens[i+2])\n",
    "        if k not in trigrams:\n",
    "            trigrams[k] = []\n",
    "        trigrams[k].append(tokens[i+1])"
   ]
  },
  {
   "cell_type": "code",
   "execution_count": 14,
   "metadata": {
    "collapsed": false
   },
   "outputs": [
    {
     "name": "stdout",
     "output_type": "stream",
     "text": [
      "('my', 'buying') ['lesson']\n",
      "('running', '20') ['two']\n",
      "('any', 'headphones') ['expensive', 'other']\n",
      "('good..they', 'all') ['answer']\n",
      "('scanner', 'photos') ['for']\n",
      "('use', 'advance') ['the']\n",
      "(\"'s\", 'abilities') ['cooking']\n",
      "('and', 'expense') ['the']\n",
      "('adapter', 'installing') [',']\n",
      "('look', 'my') ['at', 'on', 'to']\n"
     ]
    }
   ],
   "source": [
    "for key in list(trigrams.keys())[:10]:\n",
    "    print(key, trigrams[key])"
   ]
  },
  {
   "cell_type": "code",
   "execution_count": 16,
   "metadata": {
    "collapsed": false
   },
   "outputs": [],
   "source": [
    "trigrams_probabilities = {}\n",
    "for k, words in trigrams.items():\n",
    "    if len(set(words)) > 1:\n",
    "        d = {}\n",
    "        n = 0\n",
    "        for w in words:\n",
    "            if w not in d:\n",
    "                d[w] = 0\n",
    "            d[w] += 1\n",
    "            n += 1\n",
    "        for w, c in d.items():\n",
    "            d[w] = float(c) / n\n",
    "        trigrams_probabilities[k] = d    "
   ]
  },
  {
   "cell_type": "code",
   "execution_count": 17,
   "metadata": {
    "collapsed": false
   },
   "outputs": [
    {
     "name": "stdout",
     "output_type": "stream",
     "text": [
      "('my', 'most') {'camera': 0.5, 'hand': 0.5}\n",
      "('any', 'headphones') {'expensive': 0.5, 'other': 0.5}\n",
      "('no', 'setting') {'problems': 0.5, 'difficulty': 0.5}\n",
      "('and', 'tracks') {'music': 0.5, 'blues': 0.5}\n",
      "('just', 'my') {'recieved': 0.2, 'got': 0.4, 'removed': 0.2, 'take': 0.2}\n",
      "('i', 'gotten') {'have': 0.3333333333333333, \"'ve\": 0.6666666666666666}\n",
      "('wide', 'of') {'range': 0.5, 'number': 0.5}\n",
      "('as', 'my') {'though': 0.3333333333333333, 'keeping': 0.3333333333333333, 'on': 0.3333333333333333}\n",
      "('look', 'my') {'to': 0.3333333333333333, 'at': 0.3333333333333333, 'on': 0.3333333333333333}\n",
      "(\"''\", 'have') {'that': 0.5, 'models': 0.5}\n"
     ]
    }
   ],
   "source": [
    "for key in list(trigrams_probabilities.keys())[:10]:\n",
    "    print(key, trigrams_probabilities[key])"
   ]
  },
  {
   "cell_type": "code",
   "execution_count": 18,
   "metadata": {
    "collapsed": false
   },
   "outputs": [
    {
     "name": "stdout",
     "output_type": "stream",
     "text": [
      "['take', 'got', 'removed', 'recieved', 'got']\n"
     ]
    }
   ],
   "source": [
    "print(trigrams[('just', 'my')])"
   ]
  },
  {
   "cell_type": "markdown",
   "metadata": {},
   "source": [
    "## 3. Implement the Spinner"
   ]
  },
  {
   "cell_type": "code",
   "execution_count": 42,
   "metadata": {
    "collapsed": false
   },
   "outputs": [],
   "source": [
    "def random_sample(d):\n",
    "    r = random.random()\n",
    "    cumulative = 0\n",
    "    for w, p in d.items():\n",
    "        cumulative += p\n",
    "        if r < cumulative:\n",
    "            return w"
   ]
  },
  {
   "cell_type": "code",
   "execution_count": 43,
   "metadata": {
    "collapsed": true
   },
   "outputs": [],
   "source": [
    "def test_spinner(trigrams_probabilities):\n",
    "    review = random.choice(positive_reviews)\n",
    "    s = review.text.lower()\n",
    "    print(\"Original: {0}\".format(s))\n",
    "    tokens = nltk.tokenize.word_tokenize(s)\n",
    "    for i in range(len(tokens) - 2):\n",
    "        if random.random() < 0.2:\n",
    "            k = (tokens[i], tokens[i+2])\n",
    "            if k in trigrams_probabilities:\n",
    "                w = random_sample(trigrams_probabilities[k])\n",
    "                tokens[i+1] = w\n",
    "                \n",
    "    print(\"Spun:\")\n",
    "    spun_article = \" \".join(word for word in tokens if word)\n",
    "    spun_article = spun_article.replace(\" .\", \".\").replace(\" ,\", \",\").replace(\"$ \", \"$\").replace(\" !\", \"!\")\n",
    "    print(spun_article)"
   ]
  },
  {
   "cell_type": "code",
   "execution_count": 44,
   "metadata": {
    "collapsed": false
   },
   "outputs": [
    {
     "name": "stdout",
     "output_type": "stream",
     "text": [
      "Original: \n",
      "i got this jacket a month into having my ipod.  i had to buy it because i had been using the one that comes with the ipod and when i pulled the ipod out of that case it was easy to drop.  one time i did drop it and within a month of owning the ipod i had it in fro repairs.\n",
      "\n",
      "this case protected my ipod of another 11 months just fine.  my complaint with it tough is the plastic peice that protects the screen and pod from falling out.  it is stiched on the inside so when the ipod is in there is creates friction.  acrilic and plastic do not mux and you get a slightly scraped serface.\n",
      "\n",
      "it will protect your pod though\n",
      "\n",
      "Spun:\n",
      "i do this jacket a month into having my playlist. i had to get it because i had been using the one that comes with the ipod and when i pulled the ipod photo of that case it was easy to drop. one time i did drop it and within a month of owning the ipod i had it in fro repairs. this case with my ipod of another 11 months just fine. my car with it truly is the plastic peice that protects the screen and pod from falling out. it is stiched on the inside so when the ipod lays in there is creates friction. acrilic and plastic do not mux and you get a slightly scraped serface. it will protect your pod though\n"
     ]
    }
   ],
   "source": [
    "test_spinner(trigrams_probabilities)"
   ]
  },
  {
   "cell_type": "code",
   "execution_count": null,
   "metadata": {
    "collapsed": true
   },
   "outputs": [],
   "source": []
  }
 ],
 "metadata": {
  "kernelspec": {
   "display_name": "Python [conda env:datascience]",
   "language": "python",
   "name": "conda-env-datascience-py"
  },
  "language_info": {
   "codemirror_mode": {
    "name": "ipython",
    "version": 3
   },
   "file_extension": ".py",
   "mimetype": "text/x-python",
   "name": "python",
   "nbconvert_exporter": "python",
   "pygments_lexer": "ipython3",
   "version": "3.5.2"
  }
 },
 "nbformat": 4,
 "nbformat_minor": 1
}
