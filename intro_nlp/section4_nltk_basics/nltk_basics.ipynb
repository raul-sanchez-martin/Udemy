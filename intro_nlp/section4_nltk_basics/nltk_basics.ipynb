{
 "cells": [
  {
   "cell_type": "markdown",
   "metadata": {},
   "source": [
    "# NLTK Basics"
   ]
  },
  {
   "cell_type": "markdown",
   "metadata": {},
   "source": [
    "## 1. Counting"
   ]
  },
  {
   "cell_type": "code",
   "execution_count": 1,
   "metadata": {
    "collapsed": true
   },
   "outputs": [],
   "source": [
    "import nltk"
   ]
  },
  {
   "cell_type": "markdown",
   "metadata": {},
   "source": [
    "https://www.gutenberg.org/wiki/Main_Page"
   ]
  },
  {
   "cell_type": "code",
   "execution_count": 2,
   "metadata": {
    "collapsed": false
   },
   "outputs": [
    {
     "data": {
      "text/plain": [
       "['austen-emma.txt',\n",
       " 'austen-persuasion.txt',\n",
       " 'austen-sense.txt',\n",
       " 'bible-kjv.txt',\n",
       " 'blake-poems.txt',\n",
       " 'bryant-stories.txt',\n",
       " 'burgess-busterbrown.txt',\n",
       " 'carroll-alice.txt',\n",
       " 'chesterton-ball.txt',\n",
       " 'chesterton-brown.txt',\n",
       " 'chesterton-thursday.txt',\n",
       " 'edgeworth-parents.txt',\n",
       " 'melville-moby_dick.txt',\n",
       " 'milton-paradise.txt',\n",
       " 'shakespeare-caesar.txt',\n",
       " 'shakespeare-hamlet.txt',\n",
       " 'shakespeare-macbeth.txt',\n",
       " 'whitman-leaves.txt']"
      ]
     },
     "execution_count": 2,
     "metadata": {},
     "output_type": "execute_result"
    }
   ],
   "source": [
    "nltk.corpus.gutenberg.fileids()"
   ]
  },
  {
   "cell_type": "code",
   "execution_count": 3,
   "metadata": {
    "collapsed": true
   },
   "outputs": [],
   "source": [
    "md = nltk.corpus.gutenberg.words('melville-moby_dick.txt')"
   ]
  },
  {
   "cell_type": "code",
   "execution_count": 4,
   "metadata": {
    "collapsed": false
   },
   "outputs": [
    {
     "data": {
      "text/plain": [
       "['[', 'Moby', 'Dick', 'by', 'Herman', 'Melville', '1851', ']']"
      ]
     },
     "execution_count": 4,
     "metadata": {},
     "output_type": "execute_result"
    }
   ],
   "source": [
    "# the \n",
    "md[:8]"
   ]
  },
  {
   "cell_type": "code",
   "execution_count": 5,
   "metadata": {
    "collapsed": false
   },
   "outputs": [
    {
     "data": {
      "text/plain": [
       "906"
      ]
     },
     "execution_count": 5,
     "metadata": {},
     "output_type": "execute_result"
    }
   ],
   "source": [
    "# count words\n",
    "md.count(\"whale\")"
   ]
  },
  {
   "cell_type": "code",
   "execution_count": 6,
   "metadata": {
    "collapsed": false
   },
   "outputs": [
    {
     "data": {
      "text/plain": [
       "330"
      ]
     },
     "execution_count": 6,
     "metadata": {},
     "output_type": "execute_result"
    }
   ],
   "source": [
    "md.count(\"boat\")"
   ]
  },
  {
   "cell_type": "code",
   "execution_count": 7,
   "metadata": {
    "collapsed": false
   },
   "outputs": [
    {
     "data": {
      "text/plain": [
       "0"
      ]
     },
     "execution_count": 7,
     "metadata": {},
     "output_type": "execute_result"
    }
   ],
   "source": [
    "md.count(\"laptop\")"
   ]
  },
  {
   "cell_type": "code",
   "execution_count": 8,
   "metadata": {
    "collapsed": false
   },
   "outputs": [
    {
     "data": {
      "text/plain": [
       "260819"
      ]
     },
     "execution_count": 8,
     "metadata": {},
     "output_type": "execute_result"
    }
   ],
   "source": [
    "# number of words\n",
    "len(md)"
   ]
  },
  {
   "cell_type": "code",
   "execution_count": 10,
   "metadata": {
    "collapsed": false
   },
   "outputs": [],
   "source": [
    "md_set = set(md)"
   ]
  },
  {
   "cell_type": "code",
   "execution_count": 11,
   "metadata": {
    "collapsed": false
   },
   "outputs": [
    {
     "data": {
      "text/plain": [
       "19317"
      ]
     },
     "execution_count": 11,
     "metadata": {},
     "output_type": "execute_result"
    }
   ],
   "source": [
    "# number of unique words\n",
    "len(md_set)"
   ]
  },
  {
   "cell_type": "code",
   "execution_count": 12,
   "metadata": {
    "collapsed": false
   },
   "outputs": [
    {
     "data": {
      "text/plain": [
       "13.502044830977896"
      ]
     },
     "execution_count": 12,
     "metadata": {},
     "output_type": "execute_result"
    }
   ],
   "source": [
    "# average number of times each word is repeated\n",
    "len(md)/len(md_set)"
   ]
  },
  {
   "cell_type": "code",
   "execution_count": 13,
   "metadata": {
    "collapsed": true
   },
   "outputs": [],
   "source": [
    "# load the book as a list of sentences\n",
    "md_sents = nltk.corpus.gutenberg.sents('melville-moby_dick.txt')"
   ]
  },
  {
   "cell_type": "code",
   "execution_count": null,
   "metadata": {
    "collapsed": true
   },
   "outputs": [],
   "source": [
    "# average number of words for each sentence\n",
    "len(md)/len(md_sents)"
   ]
  },
  {
   "cell_type": "markdown",
   "metadata": {},
   "source": [
    "## 2. Words Per Sentence Trends"
   ]
  },
  {
   "cell_type": "code",
   "execution_count": 14,
   "metadata": {
    "collapsed": true
   },
   "outputs": [],
   "source": [
    "# load some inaugural speeches\n",
    "from nltk.corpus import inaugural"
   ]
  },
  {
   "cell_type": "code",
   "execution_count": 15,
   "metadata": {
    "collapsed": false
   },
   "outputs": [
    {
     "data": {
      "text/plain": [
       "['1789-Washington.txt',\n",
       " '1793-Washington.txt',\n",
       " '1797-Adams.txt',\n",
       " '1801-Jefferson.txt',\n",
       " '1805-Jefferson.txt',\n",
       " '1809-Madison.txt',\n",
       " '1813-Madison.txt',\n",
       " '1817-Monroe.txt',\n",
       " '1821-Monroe.txt',\n",
       " '1825-Adams.txt',\n",
       " '1829-Jackson.txt',\n",
       " '1833-Jackson.txt',\n",
       " '1837-VanBuren.txt',\n",
       " '1841-Harrison.txt',\n",
       " '1845-Polk.txt',\n",
       " '1849-Taylor.txt',\n",
       " '1853-Pierce.txt',\n",
       " '1857-Buchanan.txt',\n",
       " '1861-Lincoln.txt',\n",
       " '1865-Lincoln.txt',\n",
       " '1869-Grant.txt',\n",
       " '1873-Grant.txt',\n",
       " '1877-Hayes.txt',\n",
       " '1881-Garfield.txt',\n",
       " '1885-Cleveland.txt',\n",
       " '1889-Harrison.txt',\n",
       " '1893-Cleveland.txt',\n",
       " '1897-McKinley.txt',\n",
       " '1901-McKinley.txt',\n",
       " '1905-Roosevelt.txt',\n",
       " '1909-Taft.txt',\n",
       " '1913-Wilson.txt',\n",
       " '1917-Wilson.txt',\n",
       " '1921-Harding.txt',\n",
       " '1925-Coolidge.txt',\n",
       " '1929-Hoover.txt',\n",
       " '1933-Roosevelt.txt',\n",
       " '1937-Roosevelt.txt',\n",
       " '1941-Roosevelt.txt',\n",
       " '1945-Roosevelt.txt',\n",
       " '1949-Truman.txt',\n",
       " '1953-Eisenhower.txt',\n",
       " '1957-Eisenhower.txt',\n",
       " '1961-Kennedy.txt',\n",
       " '1965-Johnson.txt',\n",
       " '1969-Nixon.txt',\n",
       " '1973-Nixon.txt',\n",
       " '1977-Carter.txt',\n",
       " '1981-Reagan.txt',\n",
       " '1985-Reagan.txt',\n",
       " '1989-Bush.txt',\n",
       " '1993-Clinton.txt',\n",
       " '1997-Clinton.txt',\n",
       " '2001-Bush.txt',\n",
       " '2005-Bush.txt',\n",
       " '2009-Obama.txt']"
      ]
     },
     "execution_count": 15,
     "metadata": {},
     "output_type": "execute_result"
    }
   ],
   "source": [
    "inaugural.fileids()"
   ]
  },
  {
   "cell_type": "code",
   "execution_count": 19,
   "metadata": {
    "collapsed": false
   },
   "outputs": [
    {
     "name": "stdout",
     "output_type": "stream",
     "text": [
      "1538 1789-Washington.txt\n",
      "147 1793-Washington.txt\n",
      "2585 1797-Adams.txt\n",
      "1935 1801-Jefferson.txt\n",
      "2384 1805-Jefferson.txt\n",
      "1265 1809-Madison.txt\n",
      "1304 1813-Madison.txt\n",
      "3693 1817-Monroe.txt\n",
      "4909 1821-Monroe.txt\n",
      "3150 1825-Adams.txt\n",
      "1208 1829-Jackson.txt\n",
      "1267 1833-Jackson.txt\n",
      "4171 1837-VanBuren.txt\n",
      "9165 1841-Harrison.txt\n",
      "5196 1845-Polk.txt\n",
      "1182 1849-Taylor.txt\n",
      "3657 1853-Pierce.txt\n",
      "3098 1857-Buchanan.txt\n",
      "4005 1861-Lincoln.txt\n",
      "785 1865-Lincoln.txt\n",
      "1239 1869-Grant.txt\n",
      "1478 1873-Grant.txt\n",
      "2724 1877-Hayes.txt\n",
      "3239 1881-Garfield.txt\n",
      "1828 1885-Cleveland.txt\n",
      "4750 1889-Harrison.txt\n",
      "2153 1893-Cleveland.txt\n",
      "4371 1897-McKinley.txt\n",
      "2450 1901-McKinley.txt\n",
      "1091 1905-Roosevelt.txt\n",
      "5846 1909-Taft.txt\n",
      "1905 1913-Wilson.txt\n",
      "1656 1917-Wilson.txt\n",
      "3756 1921-Harding.txt\n",
      "4442 1925-Coolidge.txt\n",
      "3890 1929-Hoover.txt\n",
      "2063 1933-Roosevelt.txt\n",
      "2019 1937-Roosevelt.txt\n",
      "1536 1941-Roosevelt.txt\n",
      "637 1945-Roosevelt.txt\n",
      "2528 1949-Truman.txt\n",
      "2775 1953-Eisenhower.txt\n",
      "1917 1957-Eisenhower.txt\n",
      "1546 1961-Kennedy.txt\n",
      "1715 1965-Johnson.txt\n",
      "2425 1969-Nixon.txt\n",
      "2028 1973-Nixon.txt\n",
      "1380 1977-Carter.txt\n",
      "2801 1981-Reagan.txt\n",
      "2946 1985-Reagan.txt\n",
      "2713 1989-Bush.txt\n",
      "1855 1993-Clinton.txt\n",
      "2462 1997-Clinton.txt\n",
      "1825 2001-Bush.txt\n",
      "2376 2005-Bush.txt\n",
      "2726 2009-Obama.txt\n"
     ]
    }
   ],
   "source": [
    "for speech in inaugural.fileids():\n",
    "    words_total = len(inaugural.words(speech))\n",
    "    print(words_total, speech)"
   ]
  },
  {
   "cell_type": "code",
   "execution_count": 20,
   "metadata": {
    "collapsed": true
   },
   "outputs": [],
   "source": [
    "speech_len = [(len(inaugural.words(speech)), speech) for speech in inaugural.fileids()]"
   ]
  },
  {
   "cell_type": "code",
   "execution_count": 21,
   "metadata": {
    "collapsed": false
   },
   "outputs": [
    {
     "data": {
      "text/plain": [
       "[(1538, '1789-Washington.txt'),\n",
       " (147, '1793-Washington.txt'),\n",
       " (2585, '1797-Adams.txt'),\n",
       " (1935, '1801-Jefferson.txt'),\n",
       " (2384, '1805-Jefferson.txt'),\n",
       " (1265, '1809-Madison.txt'),\n",
       " (1304, '1813-Madison.txt'),\n",
       " (3693, '1817-Monroe.txt'),\n",
       " (4909, '1821-Monroe.txt'),\n",
       " (3150, '1825-Adams.txt'),\n",
       " (1208, '1829-Jackson.txt'),\n",
       " (1267, '1833-Jackson.txt'),\n",
       " (4171, '1837-VanBuren.txt'),\n",
       " (9165, '1841-Harrison.txt'),\n",
       " (5196, '1845-Polk.txt'),\n",
       " (1182, '1849-Taylor.txt'),\n",
       " (3657, '1853-Pierce.txt'),\n",
       " (3098, '1857-Buchanan.txt'),\n",
       " (4005, '1861-Lincoln.txt'),\n",
       " (785, '1865-Lincoln.txt'),\n",
       " (1239, '1869-Grant.txt'),\n",
       " (1478, '1873-Grant.txt'),\n",
       " (2724, '1877-Hayes.txt'),\n",
       " (3239, '1881-Garfield.txt'),\n",
       " (1828, '1885-Cleveland.txt'),\n",
       " (4750, '1889-Harrison.txt'),\n",
       " (2153, '1893-Cleveland.txt'),\n",
       " (4371, '1897-McKinley.txt'),\n",
       " (2450, '1901-McKinley.txt'),\n",
       " (1091, '1905-Roosevelt.txt'),\n",
       " (5846, '1909-Taft.txt'),\n",
       " (1905, '1913-Wilson.txt'),\n",
       " (1656, '1917-Wilson.txt'),\n",
       " (3756, '1921-Harding.txt'),\n",
       " (4442, '1925-Coolidge.txt'),\n",
       " (3890, '1929-Hoover.txt'),\n",
       " (2063, '1933-Roosevelt.txt'),\n",
       " (2019, '1937-Roosevelt.txt'),\n",
       " (1536, '1941-Roosevelt.txt'),\n",
       " (637, '1945-Roosevelt.txt'),\n",
       " (2528, '1949-Truman.txt'),\n",
       " (2775, '1953-Eisenhower.txt'),\n",
       " (1917, '1957-Eisenhower.txt'),\n",
       " (1546, '1961-Kennedy.txt'),\n",
       " (1715, '1965-Johnson.txt'),\n",
       " (2425, '1969-Nixon.txt'),\n",
       " (2028, '1973-Nixon.txt'),\n",
       " (1380, '1977-Carter.txt'),\n",
       " (2801, '1981-Reagan.txt'),\n",
       " (2946, '1985-Reagan.txt'),\n",
       " (2713, '1989-Bush.txt'),\n",
       " (1855, '1993-Clinton.txt'),\n",
       " (2462, '1997-Clinton.txt'),\n",
       " (1825, '2001-Bush.txt'),\n",
       " (2376, '2005-Bush.txt'),\n",
       " (2726, '2009-Obama.txt')]"
      ]
     },
     "execution_count": 21,
     "metadata": {},
     "output_type": "execute_result"
    }
   ],
   "source": [
    "speech_len"
   ]
  },
  {
   "cell_type": "code",
   "execution_count": 22,
   "metadata": {
    "collapsed": false
   },
   "outputs": [
    {
     "data": {
      "text/plain": [
       "(9165, '1841-Harrison.txt')"
      ]
     },
     "execution_count": 22,
     "metadata": {},
     "output_type": "execute_result"
    }
   ],
   "source": [
    "max(speech_len)"
   ]
  },
  {
   "cell_type": "code",
   "execution_count": 23,
   "metadata": {
    "collapsed": false
   },
   "outputs": [
    {
     "data": {
      "text/plain": [
       "(147, '1793-Washington.txt')"
      ]
     },
     "execution_count": 23,
     "metadata": {},
     "output_type": "execute_result"
    }
   ],
   "source": [
    "min(speech_len)"
   ]
  },
  {
   "cell_type": "code",
   "execution_count": 24,
   "metadata": {
    "collapsed": false
   },
   "outputs": [
    {
     "name": "stdout",
     "output_type": "stream",
     "text": [
      "64.08333333333333 1789-Washington.txt\n",
      "36.75 1793-Washington.txt\n",
      "69.86486486486487 1797-Adams.txt\n",
      "46.07142857142857 1801-Jefferson.txt\n",
      "52.977777777777774 1805-Jefferson.txt\n",
      "60.23809523809524 1809-Madison.txt\n",
      "39.515151515151516 1813-Madison.txt\n",
      "30.270491803278688 1817-Monroe.txt\n",
      "38.054263565891475 1821-Monroe.txt\n",
      "42.567567567567565 1825-Adams.txt\n",
      "48.32 1829-Jackson.txt\n",
      "42.233333333333334 1833-Jackson.txt\n",
      "43.90526315789474 1837-VanBuren.txt\n",
      "43.642857142857146 1841-Harrison.txt\n",
      "33.96078431372549 1845-Polk.txt\n",
      "53.72727272727273 1849-Taylor.txt\n",
      "35.16346153846154 1853-Pierce.txt\n",
      "34.80898876404494 1857-Buchanan.txt\n",
      "29.02173913043478 1861-Lincoln.txt\n",
      "29.074074074074073 1865-Lincoln.txt\n",
      "30.21951219512195 1869-Grant.txt\n",
      "33.59090909090909 1873-Grant.txt\n",
      "46.16949152542373 1877-Hayes.txt\n",
      "28.919642857142858 1881-Garfield.txt\n",
      "41.54545454545455 1885-Cleveland.txt\n",
      "30.254777070063696 1889-Harrison.txt\n",
      "37.12068965517241 1893-Cleveland.txt\n",
      "33.62307692307692 1897-McKinley.txt\n",
      "24.5 1901-McKinley.txt\n",
      "33.06060606060606 1905-Roosevelt.txt\n",
      "36.76729559748428 1909-Taft.txt\n",
      "28.014705882352942 1913-Wilson.txt\n",
      "27.6 1917-Wilson.txt\n",
      "25.20805369127517 1921-Harding.txt\n",
      "22.548223350253807 1925-Coolidge.txt\n",
      "24.620253164556964 1929-Hoover.txt\n",
      "24.270588235294117 1933-Roosevelt.txt\n",
      "21.03125 1937-Roosevelt.txt\n",
      "22.58823529411765 1941-Roosevelt.txt\n",
      "24.5 1945-Roosevelt.txt\n",
      "21.79310344827586 1949-Truman.txt\n",
      "22.5609756097561 1953-Eisenhower.txt\n",
      "20.83695652173913 1957-Eisenhower.txt\n",
      "29.73076923076923 1961-Kennedy.txt\n",
      "18.24468085106383 1965-Johnson.txt\n",
      "22.87735849056604 1969-Nixon.txt\n",
      "29.391304347826086 1973-Nixon.txt\n",
      "26.037735849056602 1977-Carter.txt\n",
      "22.055118110236222 1981-Reagan.txt\n",
      "23.38095238095238 1985-Reagan.txt\n",
      "18.71034482758621 1989-Bush.txt\n",
      "22.901234567901234 1993-Clinton.txt\n",
      "21.982142857142858 1997-Clinton.txt\n",
      "18.814432989690722 2001-Bush.txt\n",
      "25.010526315789473 2005-Bush.txt\n",
      "24.339285714285715 2009-Obama.txt\n"
     ]
    }
   ],
   "source": [
    "for speech in inaugural.fileids():\n",
    "    words_total = len(inaugural.words(speech))\n",
    "    sents_total = len(inaugural.sents(speech))\n",
    "    print(words_total/sents_total, speech)"
   ]
  },
  {
   "cell_type": "code",
   "execution_count": 25,
   "metadata": {
    "collapsed": true
   },
   "outputs": [],
   "source": [
    "import pandas as pd"
   ]
  },
  {
   "cell_type": "code",
   "execution_count": 26,
   "metadata": {
    "collapsed": true
   },
   "outputs": [],
   "source": [
    "data = pd.DataFrame([int(speech[:4]), \n",
    "                     len(inaugural.words(speech))/len(inaugural.sents(speech))] for speech in inaugural.fileids())"
   ]
  },
  {
   "cell_type": "code",
   "execution_count": 27,
   "metadata": {
    "collapsed": false
   },
   "outputs": [
    {
     "data": {
      "text/html": [
       "<div>\n",
       "<table border=\"1\" class=\"dataframe\">\n",
       "  <thead>\n",
       "    <tr style=\"text-align: right;\">\n",
       "      <th></th>\n",
       "      <th>0</th>\n",
       "      <th>1</th>\n",
       "    </tr>\n",
       "  </thead>\n",
       "  <tbody>\n",
       "    <tr>\n",
       "      <th>0</th>\n",
       "      <td>1789</td>\n",
       "      <td>64.083333</td>\n",
       "    </tr>\n",
       "    <tr>\n",
       "      <th>1</th>\n",
       "      <td>1793</td>\n",
       "      <td>36.750000</td>\n",
       "    </tr>\n",
       "    <tr>\n",
       "      <th>2</th>\n",
       "      <td>1797</td>\n",
       "      <td>69.864865</td>\n",
       "    </tr>\n",
       "    <tr>\n",
       "      <th>3</th>\n",
       "      <td>1801</td>\n",
       "      <td>46.071429</td>\n",
       "    </tr>\n",
       "    <tr>\n",
       "      <th>4</th>\n",
       "      <td>1805</td>\n",
       "      <td>52.977778</td>\n",
       "    </tr>\n",
       "    <tr>\n",
       "      <th>5</th>\n",
       "      <td>1809</td>\n",
       "      <td>60.238095</td>\n",
       "    </tr>\n",
       "    <tr>\n",
       "      <th>6</th>\n",
       "      <td>1813</td>\n",
       "      <td>39.515152</td>\n",
       "    </tr>\n",
       "    <tr>\n",
       "      <th>7</th>\n",
       "      <td>1817</td>\n",
       "      <td>30.270492</td>\n",
       "    </tr>\n",
       "    <tr>\n",
       "      <th>8</th>\n",
       "      <td>1821</td>\n",
       "      <td>38.054264</td>\n",
       "    </tr>\n",
       "    <tr>\n",
       "      <th>9</th>\n",
       "      <td>1825</td>\n",
       "      <td>42.567568</td>\n",
       "    </tr>\n",
       "  </tbody>\n",
       "</table>\n",
       "</div>"
      ],
      "text/plain": [
       "      0          1\n",
       "0  1789  64.083333\n",
       "1  1793  36.750000\n",
       "2  1797  69.864865\n",
       "3  1801  46.071429\n",
       "4  1805  52.977778\n",
       "5  1809  60.238095\n",
       "6  1813  39.515152\n",
       "7  1817  30.270492\n",
       "8  1821  38.054264\n",
       "9  1825  42.567568"
      ]
     },
     "execution_count": 27,
     "metadata": {},
     "output_type": "execute_result"
    }
   ],
   "source": [
    "data.head(10)"
   ]
  },
  {
   "cell_type": "code",
   "execution_count": 28,
   "metadata": {
    "collapsed": true
   },
   "outputs": [],
   "source": [
    "data.columns = [\"Year\", \"Average WPS\"]"
   ]
  },
  {
   "cell_type": "code",
   "execution_count": 29,
   "metadata": {
    "collapsed": false
   },
   "outputs": [
    {
     "data": {
      "text/html": [
       "<div>\n",
       "<table border=\"1\" class=\"dataframe\">\n",
       "  <thead>\n",
       "    <tr style=\"text-align: right;\">\n",
       "      <th></th>\n",
       "      <th>Year</th>\n",
       "      <th>Average WPS</th>\n",
       "    </tr>\n",
       "  </thead>\n",
       "  <tbody>\n",
       "    <tr>\n",
       "      <th>0</th>\n",
       "      <td>1789</td>\n",
       "      <td>64.083333</td>\n",
       "    </tr>\n",
       "    <tr>\n",
       "      <th>1</th>\n",
       "      <td>1793</td>\n",
       "      <td>36.750000</td>\n",
       "    </tr>\n",
       "    <tr>\n",
       "      <th>2</th>\n",
       "      <td>1797</td>\n",
       "      <td>69.864865</td>\n",
       "    </tr>\n",
       "    <tr>\n",
       "      <th>3</th>\n",
       "      <td>1801</td>\n",
       "      <td>46.071429</td>\n",
       "    </tr>\n",
       "    <tr>\n",
       "      <th>4</th>\n",
       "      <td>1805</td>\n",
       "      <td>52.977778</td>\n",
       "    </tr>\n",
       "    <tr>\n",
       "      <th>5</th>\n",
       "      <td>1809</td>\n",
       "      <td>60.238095</td>\n",
       "    </tr>\n",
       "    <tr>\n",
       "      <th>6</th>\n",
       "      <td>1813</td>\n",
       "      <td>39.515152</td>\n",
       "    </tr>\n",
       "    <tr>\n",
       "      <th>7</th>\n",
       "      <td>1817</td>\n",
       "      <td>30.270492</td>\n",
       "    </tr>\n",
       "    <tr>\n",
       "      <th>8</th>\n",
       "      <td>1821</td>\n",
       "      <td>38.054264</td>\n",
       "    </tr>\n",
       "    <tr>\n",
       "      <th>9</th>\n",
       "      <td>1825</td>\n",
       "      <td>42.567568</td>\n",
       "    </tr>\n",
       "  </tbody>\n",
       "</table>\n",
       "</div>"
      ],
      "text/plain": [
       "   Year  Average WPS\n",
       "0  1789    64.083333\n",
       "1  1793    36.750000\n",
       "2  1797    69.864865\n",
       "3  1801    46.071429\n",
       "4  1805    52.977778\n",
       "5  1809    60.238095\n",
       "6  1813    39.515152\n",
       "7  1817    30.270492\n",
       "8  1821    38.054264\n",
       "9  1825    42.567568"
      ]
     },
     "execution_count": 29,
     "metadata": {},
     "output_type": "execute_result"
    }
   ],
   "source": [
    "data.head(10)"
   ]
  },
  {
   "cell_type": "code",
   "execution_count": 30,
   "metadata": {
    "collapsed": false
   },
   "outputs": [
    {
     "data": {
      "text/plain": [
       "<matplotlib.axes._subplots.AxesSubplot at 0x7f2611f00ac8>"
      ]
     },
     "execution_count": 30,
     "metadata": {},
     "output_type": "execute_result"
    },
    {
     "data": {
      "image/png": "[encoded data removed]",
      "text/plain": [
       "<matplotlib.figure.Figure at 0x7f2611eed390>"
      ]
     },
     "metadata": {},
     "output_type": "display_data"
    }
   ],
   "source": [
    "import matplotlib\n",
    "%matplotlib inline\n",
    "data.plot(\"Year\", figsize=(15, 5))"
   ]
  },
  {
   "cell_type": "markdown",
   "metadata": {},
   "source": [
    "## 3. Frequency Distribution"
   ]
  },
  {
   "cell_type": "code",
   "execution_count": 31,
   "metadata": {
    "collapsed": true
   },
   "outputs": [],
   "source": [
    "alice = nltk.corpus.gutenberg.words(\"carroll-alice.txt\")"
   ]
  },
  {
   "cell_type": "code",
   "execution_count": 32,
   "metadata": {
    "collapsed": true
   },
   "outputs": [],
   "source": [
    "alice_fd = nltk.FreqDist(alice)"
   ]
  },
  {
   "cell_type": "code",
   "execution_count": 33,
   "metadata": {
    "collapsed": false
   },
   "outputs": [
    {
     "data": {
      "text/plain": [
       "FreqDist({'swallowing': 1,\n",
       "          'bowing': 1,\n",
       "          'hopeless': 1,\n",
       "          'Improve': 1,\n",
       "          'take': 18,\n",
       "          'unjust': 1,\n",
       "          'apples': 2,\n",
       "          'under': 16,\n",
       "          'wasn': 11,\n",
       "          'held': 4,\n",
       "          'their': 50,\n",
       "          'suet': 1,\n",
       "          'made': 30,\n",
       "          'daisies': 1,\n",
       "          'scaly': 1,\n",
       "          'settled': 3,\n",
       "          'dropping': 1,\n",
       "          'shouted': 9,\n",
       "          'killing': 1,\n",
       "          'twice': 5,\n",
       "          'Suddenly': 1,\n",
       "          'Back': 1,\n",
       "          'Explain': 2,\n",
       "          'difficulties': 1,\n",
       "          'likes': 1,\n",
       "          'field': 1,\n",
       "          'partner': 1,\n",
       "          'bent': 1,\n",
       "          'fine': 2,\n",
       "          'curtain': 1,\n",
       "          'tucked': 3,\n",
       "          'adoption': 1,\n",
       "          'claws': 2,\n",
       "          'impertinent': 1,\n",
       "          'uncommonly': 1,\n",
       "          'Tis': 2,\n",
       "          'trickling': 1,\n",
       "          'QUITE': 2,\n",
       "          'carefully': 3,\n",
       "          'friends': 2,\n",
       "          '.--': 3,\n",
       "          'pop': 1,\n",
       "          'back': 38,\n",
       "          'Ahem': 1,\n",
       "          'yesterday': 3,\n",
       "          'Ada': 1,\n",
       "          'name': 10,\n",
       "          'severity': 1,\n",
       "          'herself': 83,\n",
       "          'nowhere': 2,\n",
       "          'scrambling': 1,\n",
       "          'provoking': 1,\n",
       "          'footman': 3,\n",
       "          'buttered': 1,\n",
       "          'first': 44,\n",
       "          'Ah': 5,\n",
       "          'wind': 2,\n",
       "          'sage': 1,\n",
       "          'ridge': 1,\n",
       "          'twelfth': 1,\n",
       "          'despair': 1,\n",
       "          'teacup': 3,\n",
       "          'By': 4,\n",
       "          'A': 17,\n",
       "          'wonder': 18,\n",
       "          'become': 5,\n",
       "          'eye': 7,\n",
       "          'eel': 2,\n",
       "          'speaking': 5,\n",
       "          'avoid': 1,\n",
       "          'Pepper': 2,\n",
       "          'fixed': 1,\n",
       "          'fourth': 1,\n",
       "          '?)': 1,\n",
       "          'Would': 8,\n",
       "          'shrimp': 1,\n",
       "          'Waiting': 1,\n",
       "          'butterfly': 1,\n",
       "          'balanced': 1,\n",
       "          \"?'\": 154,\n",
       "          'ugly': 2,\n",
       "          'considering': 3,\n",
       "          'WASHING': 1,\n",
       "          'often': 5,\n",
       "          'warning': 1,\n",
       "          'mind': 9,\n",
       "          \"!')\": 1,\n",
       "          'prizes': 3,\n",
       "          'Take': 4,\n",
       "          'sea': 14,\n",
       "          'encouraged': 1,\n",
       "          'rabbits': 1,\n",
       "          'are': 44,\n",
       "          'reasons': 1,\n",
       "          'puzzle': 1,\n",
       "          'invented': 1,\n",
       "          'lullaby': 1,\n",
       "          'impossible': 3,\n",
       "          'tomorrow': 1,\n",
       "          'shiny': 1,\n",
       "          'lips': 1,\n",
       "          'denial': 1,\n",
       "          'fact': 8,\n",
       "          'WAISTCOAT': 1,\n",
       "          'happy': 1,\n",
       "          'someone': 1,\n",
       "          'spread': 3,\n",
       "          'height': 5,\n",
       "          'himself': 6,\n",
       "          'occasionally': 1,\n",
       "          'Stigand': 1,\n",
       "          'violence': 1,\n",
       "          'twenty': 2,\n",
       "          'fright': 2,\n",
       "          'directed': 2,\n",
       "          'went': 83,\n",
       "          'pause': 2,\n",
       "          'mixed': 2,\n",
       "          'arm': 15,\n",
       "          'form': 1,\n",
       "          'makes': 11,\n",
       "          'within': 2,\n",
       "          'shan': 5,\n",
       "          'Canary': 1,\n",
       "          'youth': 6,\n",
       "          'soothing': 1,\n",
       "          'Tears': 1,\n",
       "          'Herald': 1,\n",
       "          'dunce': 1,\n",
       "          \"';\": 5,\n",
       "          'clinging': 1,\n",
       "          'trees': 7,\n",
       "          'moral': 8,\n",
       "          'thank': 1,\n",
       "          'laid': 2,\n",
       "          'tis': 2,\n",
       "          'tales': 1,\n",
       "          'taken': 4,\n",
       "          'Let': 11,\n",
       "          'Forty': 1,\n",
       "          'll': 56,\n",
       "          'thunder': 1,\n",
       "          'remained': 3,\n",
       "          'possibly': 3,\n",
       "          'immense': 1,\n",
       "          'wore': 1,\n",
       "          'unless': 2,\n",
       "          'idea': 15,\n",
       "          'whiting': 8,\n",
       "          'dark': 3,\n",
       "          'THROUGH': 1,\n",
       "          'water': 5,\n",
       "          'star': 1,\n",
       "          'oop': 7,\n",
       "          'KNOW': 1,\n",
       "          'fifth': 1,\n",
       "          'asking': 5,\n",
       "          'Treacle': 2,\n",
       "          'meanwhile': 1,\n",
       "          'thing': 49,\n",
       "          'sounds': 3,\n",
       "          'familiarly': 1,\n",
       "          'meekly': 2,\n",
       "          'sang': 2,\n",
       "          'custard': 1,\n",
       "          'NEAR': 1,\n",
       "          'curiosity': 5,\n",
       "          'draw': 7,\n",
       "          'Tea': 1,\n",
       "          'creep': 1,\n",
       "          'Found': 2,\n",
       "          'truth': 1,\n",
       "          'important': 7,\n",
       "          'footsteps': 2,\n",
       "          'turkey': 1,\n",
       "          'commotion': 1,\n",
       "          'hopeful': 1,\n",
       "          'skurried': 1,\n",
       "          'breath': 4,\n",
       "          'nicely': 2,\n",
       "          'opened': 10,\n",
       "          'watched': 2,\n",
       "          'terribly': 1,\n",
       "          'rude': 2,\n",
       "          'practice': 1,\n",
       "          'let': 11,\n",
       "          'obstacle': 1,\n",
       "          'white': 8,\n",
       "          'do': 68,\n",
       "          'Allow': 1,\n",
       "          'savage': 4,\n",
       "          'Involved': 1,\n",
       "          'questions': 4,\n",
       "          'tremulous': 1,\n",
       "          'give': 9,\n",
       "          'tops': 1,\n",
       "          'wish': 21,\n",
       "          'extra': 1,\n",
       "          'remembering': 1,\n",
       "          'SHOES': 1,\n",
       "          'dog': 3,\n",
       "          'whiles': 1,\n",
       "          'afraid': 12,\n",
       "          'humbly': 2,\n",
       "          'unwillingly': 1,\n",
       "          'if': 78,\n",
       "          'histories': 1,\n",
       "          'shock': 1,\n",
       "          're': 38,\n",
       "          'opening': 3,\n",
       "          'buttercup': 1,\n",
       "          'thoroughly': 2,\n",
       "          'spoon': 2,\n",
       "          'not': 129,\n",
       "          'judge': 4,\n",
       "          'sharks': 1,\n",
       "          'pattering': 3,\n",
       "          'knife': 3,\n",
       "          'from': 34,\n",
       "          'wrong': 5,\n",
       "          'rubbing': 2,\n",
       "          'act': 1,\n",
       "          'execution': 3,\n",
       "          'day': 29,\n",
       "          'With': 4,\n",
       "          'voices': 3,\n",
       "          'proved': 2,\n",
       "          'incessantly': 1,\n",
       "          'others': 7,\n",
       "          'No': 20,\n",
       "          'currants': 1,\n",
       "          'fly': 3,\n",
       "          'HAVE': 4,\n",
       "          'extremely': 2,\n",
       "          'hate': 2,\n",
       "          'Hush': 2,\n",
       "          'learn': 7,\n",
       "          'silence': 11,\n",
       "          'tiny': 4,\n",
       "          'Wonderland': 3,\n",
       "          'older': 2,\n",
       "          'having': 10,\n",
       "          'Antipathies': 1,\n",
       "          'shutting': 2,\n",
       "          'simple': 5,\n",
       "          'attempt': 1,\n",
       "          'straightening': 1,\n",
       "          'On': 4,\n",
       "          'many': 12,\n",
       "          'front': 2,\n",
       "          'subject': 6,\n",
       "          'III': 1,\n",
       "          'jumped': 6,\n",
       "          'partners': 1,\n",
       "          'm': 58,\n",
       "          'tale': 3,\n",
       "          'grand': 3,\n",
       "          'words': 21,\n",
       "          'crawling': 1,\n",
       "          'Perhaps': 3,\n",
       "          'welcome': 1,\n",
       "          'tulip': 1,\n",
       "          'birthday': 1,\n",
       "          'room': 13,\n",
       "          'Queens': 1,\n",
       "          'nice': 6,\n",
       "          'pretend': 1,\n",
       "          'feather': 1,\n",
       "          'SOUP': 1,\n",
       "          'snorting': 1,\n",
       "          'triumphantly': 2,\n",
       "          'tremble': 1,\n",
       "          'proceed': 2,\n",
       "          'tumbled': 1,\n",
       "          'half': 22,\n",
       "          'suit': 3,\n",
       "          'wig': 2,\n",
       "          'allow': 2,\n",
       "          'undoing': 1,\n",
       "          'WILLIAM': 2,\n",
       "          'smile': 2,\n",
       "          'notion': 3,\n",
       "          'tougher': 1,\n",
       "          'attending': 3,\n",
       "          'since': 4,\n",
       "          'advice': 1,\n",
       "          'yourself': 10,\n",
       "          'NEVER': 2,\n",
       "          'burn': 2,\n",
       "          'pronounced': 1,\n",
       "          'make': 27,\n",
       "          'bone': 1,\n",
       "          'hatters': 1,\n",
       "          'He': 20,\n",
       "          'London': 1,\n",
       "          'throat': 2,\n",
       "          'OUT': 1,\n",
       "          'tells': 2,\n",
       "          'anger': 2,\n",
       "          'hookah': 5,\n",
       "          'growling': 1,\n",
       "          'thump': 2,\n",
       "          'watch': 7,\n",
       "          'rat': 1,\n",
       "          'stalk': 1,\n",
       "          'easy': 2,\n",
       "          'couple': 1,\n",
       "          'school': 6,\n",
       "          'prize': 1,\n",
       "          'too': 25,\n",
       "          'manner': 2,\n",
       "          'handwriting': 1,\n",
       "          'all': 173,\n",
       "          'jumping': 4,\n",
       "          'read': 10,\n",
       "          'useful': 2,\n",
       "          'heavy': 2,\n",
       "          'chimneys': 1,\n",
       "          'fortunately': 1,\n",
       "          'oldest': 1,\n",
       "          'woke': 1,\n",
       "          'usurpation': 1,\n",
       "          'miserable': 2,\n",
       "          'difficult': 2,\n",
       "          'oblong': 1,\n",
       "          'hour': 2,\n",
       "          'appearance': 1,\n",
       "          'besides': 3,\n",
       "          'ONE': 4,\n",
       "          'come': 25,\n",
       "          'shape': 1,\n",
       "          'seemed': 27,\n",
       "          'evidently': 1,\n",
       "          'Shy': 1,\n",
       "          'Run': 1,\n",
       "          'courtiers': 2,\n",
       "          'next': 28,\n",
       "          'gather': 1,\n",
       "          'instantly': 5,\n",
       "          'shelves': 2,\n",
       "          'stopping': 1,\n",
       "          'simply': 3,\n",
       "          'Uglification': 2,\n",
       "          'shoes': 6,\n",
       "          'camomile': 1,\n",
       "          'OURS': 1,\n",
       "          'proves': 1,\n",
       "          'smallest': 2,\n",
       "          'threw': 2,\n",
       "          'riddle': 1,\n",
       "          'treading': 2,\n",
       "          'never': 42,\n",
       "          'somebody': 5,\n",
       "          'became': 2,\n",
       "          'sisters': 2,\n",
       "          'Tale': 1,\n",
       "          'morals': 1,\n",
       "          'bite': 2,\n",
       "          'bed': 1,\n",
       "          'grunt': 1,\n",
       "          'stand': 5,\n",
       "          'cherry': 1,\n",
       "          'crowded': 5,\n",
       "          'rubbed': 1,\n",
       "          'its': 56,\n",
       "          'bill': 1,\n",
       "          'appealed': 1,\n",
       "          'X': 1,\n",
       "          'Everybody': 2,\n",
       "          'peeping': 1,\n",
       "          'splendidly': 1,\n",
       "          \"?',\": 1,\n",
       "          'cost': 1,\n",
       "          'hush': 1,\n",
       "          'SWIM': 1,\n",
       "          'Pinch': 1,\n",
       "          'cheered': 3,\n",
       "          'second': 4,\n",
       "          '?\"\\'': 3,\n",
       "          'singing': 2,\n",
       "          'solemn': 3,\n",
       "          'raving': 2,\n",
       "          'ladder': 1,\n",
       "          'hurry': 11,\n",
       "          'laughing': 1,\n",
       "          'lovely': 2,\n",
       "          'directions': 3,\n",
       "          'helpless': 1,\n",
       "          'violent': 2,\n",
       "          'yours': 2,\n",
       "          'towards': 1,\n",
       "          'patriotic': 1,\n",
       "          'Stand': 1,\n",
       "          'NOT': 7,\n",
       "          'Either': 1,\n",
       "          'case': 5,\n",
       "          'guessed': 3,\n",
       "          'drive': 1,\n",
       "          'conduct': 1,\n",
       "          'upstairs': 1,\n",
       "          'rudeness': 1,\n",
       "          'cry': 3,\n",
       "          'At': 9,\n",
       "          'cut': 5,\n",
       "          'foolish': 1,\n",
       "          'brush': 1,\n",
       "          'Drawling': 3,\n",
       "          'housemaid': 1,\n",
       "          'listeners': 1,\n",
       "          'ESQ': 1,\n",
       "          'soon': 24,\n",
       "          'Shakespeare': 1,\n",
       "          'ye': 1,\n",
       "          'Drink': 1,\n",
       "          'shake': 1,\n",
       "          'WATCH': 1,\n",
       "          'curled': 2,\n",
       "          'felt': 23,\n",
       "          'riper': 1,\n",
       "          'advisable': 2,\n",
       "          'flowers': 2,\n",
       "          'bore': 1,\n",
       "          'howled': 1,\n",
       "          'joined': 3,\n",
       "          'adventures': 4,\n",
       "          'move': 3,\n",
       "          '.\"\\'': 7,\n",
       "          'nobody': 5,\n",
       "          'full': 6,\n",
       "          'find': 21,\n",
       "          'land': 1,\n",
       "          'will': 24,\n",
       "          'crab': 1,\n",
       "          'hatter': 1,\n",
       "          'missed': 2,\n",
       "          'lost': 3,\n",
       "          'traps': 1,\n",
       "          'sleepy': 5,\n",
       "          'till': 21,\n",
       "          'again': 83,\n",
       "          'IN': 1,\n",
       "          'yelp': 1,\n",
       "          'happens': 5,\n",
       "          'argued': 1,\n",
       "          \".')\": 1,\n",
       "          'fifteen': 1,\n",
       "          'wasting': 2,\n",
       "          'Hold': 4,\n",
       "          'hedges': 1,\n",
       "          'company': 1,\n",
       "          'permitted': 1,\n",
       "          'walk': 5,\n",
       "          'history': 7,\n",
       "          'chuckled': 1,\n",
       "          'Anything': 1,\n",
       "          'try': 12,\n",
       "          'cur': 1,\n",
       "          'alone': 4,\n",
       "          'SLUGGARD': 1,\n",
       "          'OUTSIDE': 1,\n",
       "          'respectful': 1,\n",
       "          'muscular': 1,\n",
       "          'mostly': 2,\n",
       "          'rush': 2,\n",
       "          'elbow': 3,\n",
       "          'seldom': 1,\n",
       "          'Has': 1,\n",
       "          'Ground': 1,\n",
       "          'Digging': 2,\n",
       "          'Rome': 2,\n",
       "          'Ma': 2,\n",
       "          'done': 15,\n",
       "          'While': 5,\n",
       "          'Two': 6,\n",
       "          'Each': 1,\n",
       "          'Does': 2,\n",
       "          'duck': 1,\n",
       "          'undo': 1,\n",
       "          'driest': 1,\n",
       "          'cook': 13,\n",
       "          'interrupted': 9,\n",
       "          'tide': 1,\n",
       "          'twinkle': 5,\n",
       "          'green': 4,\n",
       "          '1865': 1,\n",
       "          'brightened': 2,\n",
       "          'Reeling': 1,\n",
       "          'curiouser': 1,\n",
       "          'lamps': 1,\n",
       "          'patiently': 2,\n",
       "          'agony': 1,\n",
       "          'edge': 3,\n",
       "          'VII': 1,\n",
       "          'reaching': 1,\n",
       "          'tunnel': 1,\n",
       "          ':': 216,\n",
       "          'cries': 1,\n",
       "          'becoming': 1,\n",
       "          'His': 1,\n",
       "          'paused': 1,\n",
       "          'Dinn': 1,\n",
       "          'EVER': 1,\n",
       "          'one': 94,\n",
       "          'bark': 2,\n",
       "          \"('\": 5,\n",
       "          'throne': 1,\n",
       "          'appearing': 1,\n",
       "          'snout': 1,\n",
       "          'panted': 1,\n",
       "          'rabbit': 5,\n",
       "          'passage': 4,\n",
       "          'pass': 1,\n",
       "          'lefthand': 2,\n",
       "          'cheap': 1,\n",
       "          'laugh': 1,\n",
       "          'ma': 1,\n",
       "          'Suppress': 1,\n",
       "          'digging': 2,\n",
       "          'rosetree': 1,\n",
       "          'twinkled': 1,\n",
       "          'officer': 1,\n",
       "          'wet': 2,\n",
       "          'VIII': 1,\n",
       "          'relief': 2,\n",
       "          'actually': 1,\n",
       "          'chop': 1,\n",
       "          'feelings': 2,\n",
       "          'sixpence': 1,\n",
       "          'doubtfully': 2,\n",
       "          'toss': 1,\n",
       "          'together': 9,\n",
       "          'brain': 1,\n",
       "          'brought': 3,\n",
       "          'when': 69,\n",
       "          'closely': 1,\n",
       "          'Serpent': 3,\n",
       "          'axes': 1,\n",
       "          'extras': 1,\n",
       "          'promising': 1,\n",
       "          'there': 65,\n",
       "          'explanation': 2,\n",
       "          'Consider': 3,\n",
       "          'where': 10,\n",
       "          'Panther': 3,\n",
       "          'telescopes': 1,\n",
       "          'Silence': 3,\n",
       "          'removed': 2,\n",
       "          'muddle': 1,\n",
       "          'fork': 1,\n",
       "          'fury': 1,\n",
       "          'VERY': 13,\n",
       "          'say': 51,\n",
       "          'arrow': 1,\n",
       "          'candle': 3,\n",
       "          'so': 124,\n",
       "          'flapper': 1,\n",
       "          'wrote': 3,\n",
       "          'drinking': 1,\n",
       "          'king': 1,\n",
       "          'dream': 7,\n",
       "          'ever': 20,\n",
       "          'everything': 12,\n",
       "          'turning': 12,\n",
       "          'ignorant': 1,\n",
       "          'wretched': 2,\n",
       "          'authority': 2,\n",
       "          'noise': 3,\n",
       "          'minutes': 11,\n",
       "          'dreadful': 2,\n",
       "          'lark': 1,\n",
       "          'WILL': 3,\n",
       "          'cards': 3,\n",
       "          'stamping': 2,\n",
       "          'immediately': 3,\n",
       "          'they': 129,\n",
       "          'respect': 1,\n",
       "          'offer': 2,\n",
       "          'worry': 1,\n",
       "          'speak': 13,\n",
       "          'stole': 1,\n",
       "          'anxious': 3,\n",
       "          'Just': 7,\n",
       "          'hastily': 16,\n",
       "          'end': 17,\n",
       "          'England': 1,\n",
       "          'upsetting': 1,\n",
       "          'gloves': 11,\n",
       "          'mushroom': 8,\n",
       "          'pulling': 1,\n",
       "          'upright': 1,\n",
       "          'feebly': 1,\n",
       "          'Conqueror': 2,\n",
       "          'hedge': 2,\n",
       "          'suddenly': 12,\n",
       "          'ending': 2,\n",
       "          'Why': 27,\n",
       "          'drew': 5,\n",
       "          'journey': 1,\n",
       "          'yards': 1,\n",
       "          'whistle': 1,\n",
       "          'finds': 1,\n",
       "          'shyly': 1,\n",
       "          'steam': 1,\n",
       "          'addressed': 2,\n",
       "          'something': 17,\n",
       "          'accounting': 1,\n",
       "          'boxed': 1,\n",
       "          'recognised': 1,\n",
       "          'interest': 1,\n",
       "          'escape': 4,\n",
       "          'young': 5,\n",
       "          'sort': 20,\n",
       "          'thrown': 1,\n",
       "          'listen': 7,\n",
       "          'secondly': 2,\n",
       "          'beasts': 2,\n",
       "          'clapping': 1,\n",
       "          'leaders': 1,\n",
       "          'shaking': 3,\n",
       "          'finish': 5,\n",
       "          'boy': 3,\n",
       "          'Get': 2,\n",
       "          'pleases': 1,\n",
       "          'gazing': 1,\n",
       "          'reading': 3,\n",
       "          'spite': 1,\n",
       "          'lived': 3,\n",
       "          'past': 3,\n",
       "          'Distraction': 1,\n",
       "          \"'\": 1731,\n",
       "          'fear': 4,\n",
       "          'prevent': 1,\n",
       "          'kid': 5,\n",
       "          'dancing': 2,\n",
       "          'breathe': 3,\n",
       "          'bristling': 1,\n",
       "          'backs': 1,\n",
       "          'slightest': 1,\n",
       "          'feet': 19,\n",
       "          'Tut': 1,\n",
       "          'succeeded': 3,\n",
       "          'lock': 1,\n",
       "          'poor': 25,\n",
       "          'enormous': 1,\n",
       "          'deserved': 1,\n",
       "          'supple': 1,\n",
       "          'poison': 3,\n",
       "          'Story': 1,\n",
       "          'rich': 1,\n",
       "          'Mercia': 2,\n",
       "          'blacking': 1,\n",
       "          'strength': 1,\n",
       "          'desk': 1,\n",
       "          'coaxing': 2,\n",
       "          'irritated': 1,\n",
       "          'linked': 1,\n",
       "          'answered': 4,\n",
       "          'Indeed': 1,\n",
       "          'Duck': 3,\n",
       "          'Have': 3,\n",
       "          'perhaps': 14,\n",
       "          'my': 55,\n",
       "          'bye': 2,\n",
       "          '?--': 4,\n",
       "          'THEN': 1,\n",
       "          'either': 9,\n",
       "          'sense': 3,\n",
       "          'jaw': 1,\n",
       "          '.)': 16,\n",
       "          'accident': 2,\n",
       "          'dry': 8,\n",
       "          'swallowed': 1,\n",
       "          'bag': 1,\n",
       "          'shorter': 2,\n",
       "          'above': 3,\n",
       "          'Fish': 2,\n",
       "          'fancied': 2,\n",
       "          'picture': 1,\n",
       "          'eyelids': 1,\n",
       "          'affair': 1,\n",
       "          'thought': 74,\n",
       "          'comes': 2,\n",
       "          'stockings': 1,\n",
       "          'wife': 1,\n",
       "          'added': 23,\n",
       "          'Who': 15,\n",
       "          'noticed': 8,\n",
       "          'loving': 1,\n",
       "          'hunting': 3,\n",
       "          'music': 3,\n",
       "          'thinking': 10,\n",
       "          'seem': 8,\n",
       "          'well': 40,\n",
       "          'beak': 1,\n",
       "          'cheerfully': 1,\n",
       "          'denied': 2,\n",
       "          'TO': 3,\n",
       "          'vote': 1,\n",
       "          'waist': 1,\n",
       "          '\"?\\'': 1,\n",
       "          'encouraging': 2,\n",
       "          'barking': 1,\n",
       "          'gained': 1,\n",
       "          'Sit': 1,\n",
       "          'POCKET': 1,\n",
       "          'mallets': 1,\n",
       "          'educations': 1,\n",
       "          'puppy': 7,\n",
       "          'absence': 1,\n",
       "          'speech': 3,\n",
       "          'Morcar': 2,\n",
       "          'always': 12,\n",
       "          'bring': 2,\n",
       "          'tastes': 1,\n",
       "          'undertone': 2,\n",
       "          '!--': 3,\n",
       "          'pace': 1,\n",
       "          'catch': 3,\n",
       "          'change': 13,\n",
       "          'met': 3,\n",
       "          'beloved': 1,\n",
       "          'great': 39,\n",
       "          'beautify': 1,\n",
       "          'cake': 3,\n",
       "          ':--': 15,\n",
       "          'lonely': 2,\n",
       "          'hurriedly': 2,\n",
       "          'furiously': 1,\n",
       "          'timidly': 9,\n",
       "          'FIT': 2,\n",
       "          'eating': 1,\n",
       "          'animal': 2,\n",
       "          'feel': 8,\n",
       "          'I': 543,\n",
       "          'four': 8,\n",
       "          'hungry': 3,\n",
       "          'Duchess': 42,\n",
       "          'doesn': 16,\n",
       "          'proper': 3,\n",
       "          'poker': 1,\n",
       "          'quite': 53,\n",
       "          'flew': 1,\n",
       "          'what': 93,\n",
       "          'Miss': 3,\n",
       "          'bitter': 1,\n",
       "          'talk': 14,\n",
       "          'nevertheless': 1,\n",
       "          'rustled': 1,\n",
       "          'boldly': 1,\n",
       "          'race': 5,\n",
       "          'sky': 5,\n",
       "          'running': 8,\n",
       "          'SIT': 1,\n",
       "          'nearly': 10,\n",
       "          'roared': 1,\n",
       "          'behind': 13,\n",
       "          'slates': 8,\n",
       "          'venture': 3,\n",
       "          'putting': 3,\n",
       "          'graceful': 1,\n",
       "          'sits': 1,\n",
       "          'must': 41,\n",
       "          'evidence': 6,\n",
       "          'fall': 7,\n",
       "          'impatient': 1,\n",
       "          'Carroll': 1,\n",
       "          'My': 3,\n",
       "          'louder': 1,\n",
       "          'tiptoe': 2,\n",
       "          'teeth': 1,\n",
       "          'thanked': 1,\n",
       "          'Alas': 1,\n",
       "          'Alice': 396,\n",
       "          'true': 3,\n",
       "          'home': 5,\n",
       "          'repeated': 10,\n",
       "          'hope': 3,\n",
       "          'sulky': 3,\n",
       "          'HIS': 1,\n",
       "          'carrier': 1,\n",
       "          'dinner': 2,\n",
       "          'An': 5,\n",
       "          'may': 11,\n",
       "          'wine': 2,\n",
       "          'memory': 1,\n",
       "          'tart': 1,\n",
       "          'carry': 1,\n",
       "          'across': 5,\n",
       "          'RIGHT': 1,\n",
       "          'excellent': 2,\n",
       "          'ago': 2,\n",
       "          'flame': 1,\n",
       "          'Too': 1,\n",
       "          'us': 14,\n",
       "          'seated': 1,\n",
       "          'scroll': 2,\n",
       "          'flustered': 1,\n",
       "          'times': 6,\n",
       "          'purring': 2,\n",
       "          'faint': 1,\n",
       "          'ointment': 1,\n",
       "          'crown': 3,\n",
       "          'Five': 7,\n",
       "          'good': 26,\n",
       "          'hair': 7,\n",
       "          'ashamed': 2,\n",
       "          'days': 4,\n",
       "          ')': 8,\n",
       "          'twentieth': 1,\n",
       "          \")--'\": 2,\n",
       "          'AND': 3,\n",
       "          'playing': 2,\n",
       "          \".'\": 187,\n",
       "          'fellow': 4,\n",
       "          'six': 2,\n",
       "          'Party': 1,\n",
       "          'dish': 4,\n",
       "          'stupid': 5,\n",
       "          'mean': 10,\n",
       "          'Only': 3,\n",
       "          'bawled': 1,\n",
       "          'players': 4,\n",
       "          'nose': 8,\n",
       "          'Such': 1,\n",
       "          'knowledge': 3,\n",
       "          'tut': 1,\n",
       "          'Here': 11,\n",
       "          'weak': 2,\n",
       "          'flung': 1,\n",
       "          'pretexts': 1,\n",
       "          'picked': 3,\n",
       "          'both': 14,\n",
       "          'strange': 5,\n",
       "          'reason': 9,\n",
       "          'Long': 1,\n",
       "          'smoke': 1,\n",
       "          'Not': 9,\n",
       "          'How': 27,\n",
       "          'purple': 1,\n",
       "          'Writhing': 1,\n",
       "          'resource': 1,\n",
       "          'quarrel': 1,\n",
       "          'such': 40,\n",
       "          'prettier': 1,\n",
       "          'love': 2,\n",
       "          'PLENTY': 1,\n",
       "          'men': 1,\n",
       "          'II': 1,\n",
       "          'Always': 1,\n",
       "          'mice': 4,\n",
       "          'lady': 3,\n",
       "          'COULD': 4,\n",
       "          'play': 8,\n",
       "          'unfortunate': 3,\n",
       "          'Will': 6,\n",
       "          'things': 31,\n",
       "          'trouble': 6,\n",
       "          've': 43,\n",
       "          ',\"': 4,\n",
       "          'complaining': 1,\n",
       "          'write': 5,\n",
       "          'beauti': 1,\n",
       "          'further': 3,\n",
       "          'tell': 27,\n",
       "          'In': 11,\n",
       "          'fancying': 1,\n",
       "          'safe': 2,\n",
       "          'girls': 3,\n",
       "          'soft': 1,\n",
       "          'stool': 1,\n",
       "          'Lewis': 1,\n",
       "          'foot': 9,\n",
       "          'sternly': 1,\n",
       "          'offended': 10,\n",
       "          'Latitude': 2,\n",
       "          'fanned': 1,\n",
       "          'out': 116,\n",
       "          'thick': 1,\n",
       "          'hall': 9,\n",
       "          'says': 4,\n",
       "          'spoken': 1,\n",
       "          'drink': 4,\n",
       "          'rose': 4,\n",
       "          'insult': 1,\n",
       "          'court': 17,\n",
       "          'joys': 1,\n",
       "          'bringing': 3,\n",
       "          'couldn': 9,\n",
       "          'prison': 1,\n",
       "          'Call': 4,\n",
       "          'unpleasant': 2,\n",
       "          'William': 6,\n",
       "          'bats': 4,\n",
       "          'flock': 1,\n",
       "          'sour': 1,\n",
       "          'cauldron': 2,\n",
       "          'reeds': 1,\n",
       "          '--(': 1,\n",
       "          'Northumbria': 2,\n",
       "          'flappers': 1,\n",
       "          'leaning': 2,\n",
       "          'kettle': 1,\n",
       "          'child': 11,\n",
       "          'EAT': 1,\n",
       "          'Collar': 1,\n",
       "          'pieces': 3,\n",
       "          'emphasis': 1,\n",
       "          'wait': 1,\n",
       "          'am': 16,\n",
       "          'less': 3,\n",
       "          'locked': 1,\n",
       "          'porpoise': 4,\n",
       "          'natural': 4,\n",
       "          'teapot': 1,\n",
       "          'ran': 16,\n",
       "          'beating': 2,\n",
       "          'got': 45,\n",
       "          'Thank': 3,\n",
       "          'clear': 2,\n",
       "          'rope': 1,\n",
       "          'decided': 3,\n",
       "          'paint': 1,\n",
       "          'produced': 1,\n",
       "          'matter': 9,\n",
       "          'Table': 1,\n",
       "          'violently': 4,\n",
       "          'fat': 1,\n",
       "          'tray': 1,\n",
       "          'remembered': 5,\n",
       "          'shedding': 1,\n",
       "          'hers': 4,\n",
       "          'Twenty': 1,\n",
       "          'Change': 1,\n",
       "          'died': 1,\n",
       "          'itself': 14,\n",
       "          'Same': 1,\n",
       "          'lesson': 3,\n",
       "          'wild': 2,\n",
       "          'stirring': 2,\n",
       "          'salmon': 1,\n",
       "          'bathing': 1,\n",
       "          'IF': 2,\n",
       "          'MYSELF': 1,\n",
       "          'inkstand': 1,\n",
       "          'it': 527,\n",
       "          'pool': 10,\n",
       "          'forgotten': 6,\n",
       "          'wags': 1,\n",
       "          'lap': 2,\n",
       "          'Presently': 2,\n",
       "          'queer': 12,\n",
       "          'THINK': 3,\n",
       "          'pebbles': 2,\n",
       "          'her': 243,\n",
       "          'salt': 2,\n",
       "          'hadn': 7,\n",
       "          'screaming': 1,\n",
       "          'old': 17,\n",
       "          'steady': 1,\n",
       "          'spectacles': 3,\n",
       "          'today': 1,\n",
       "          'unable': 1,\n",
       "          'MILE': 1,\n",
       "          'year': 2,\n",
       "          'fading': 1,\n",
       "          'forget': 2,\n",
       "          '-': 141,\n",
       "          'audibly': 1,\n",
       "          'own': 10,\n",
       "          'tails': 3,\n",
       "          'quiet': 2,\n",
       "          'desks': 1,\n",
       "          'choosing': 1,\n",
       "          'vulgar': 1,\n",
       "          'hole': 4,\n",
       "          'straight': 2,\n",
       "          'later': 3,\n",
       "          'hot': 7,\n",
       "          'changing': 2,\n",
       "          'myself': 6,\n",
       "          'Or': 1,\n",
       "          'gravely': 3,\n",
       "          'arrived': 1,\n",
       "          'knee': 5,\n",
       "          'piteous': 1,\n",
       "          'repeating': 3,\n",
       "          'stupidly': 1,\n",
       "          'snail': 3,\n",
       "          'moon': 1,\n",
       "          'walrus': 1,\n",
       "          'heard': 30,\n",
       "          '*': 60,\n",
       "          'order': 3,\n",
       "          'ventured': 4,\n",
       "          'adding': 1,\n",
       "          'trumpet': 3,\n",
       "          'children': 10,\n",
       "          'arms': 6,\n",
       "          'breeze': 1,\n",
       "          'goes': 7,\n",
       "          ...})"
      ]
     },
     "execution_count": 33,
     "metadata": {},
     "output_type": "execute_result"
    }
   ],
   "source": [
    "alice_fd"
   ]
  },
  {
   "cell_type": "code",
   "execution_count": 34,
   "metadata": {
    "collapsed": false
   },
   "outputs": [
    {
     "data": {
      "text/plain": [
       "45"
      ]
     },
     "execution_count": 34,
     "metadata": {},
     "output_type": "execute_result"
    }
   ],
   "source": [
    "alice_fd[\"Rabbit\"]"
   ]
  },
  {
   "cell_type": "code",
   "execution_count": 35,
   "metadata": {
    "collapsed": false
   },
   "outputs": [
    {
     "data": {
      "text/plain": [
       "[(',', 1993),\n",
       " (\"'\", 1731),\n",
       " ('the', 1527),\n",
       " ('and', 802),\n",
       " ('.', 764),\n",
       " ('to', 725),\n",
       " ('a', 615),\n",
       " ('I', 543),\n",
       " ('it', 527),\n",
       " ('she', 509),\n",
       " ('of', 500),\n",
       " ('said', 456),\n",
       " (\",'\", 397),\n",
       " ('Alice', 396),\n",
       " ('in', 357)]"
      ]
     },
     "execution_count": 35,
     "metadata": {},
     "output_type": "execute_result"
    }
   ],
   "source": [
    "alice_fd.most_common(15)"
   ]
  },
  {
   "cell_type": "code",
   "execution_count": 36,
   "metadata": {
    "collapsed": false
   },
   "outputs": [
    {
     "data": {
      "text/plain": [
       "['swallowing',\n",
       " 'bowing',\n",
       " 'hopeless',\n",
       " 'Improve',\n",
       " 'unjust',\n",
       " 'desks',\n",
       " 'suet',\n",
       " 'daisies',\n",
       " 'scaly',\n",
       " 'duck',\n",
       " 'undo',\n",
       " 'Suddenly',\n",
       " 'promised',\n",
       " 'driest',\n",
       " 'Suppress',\n",
       " 'likes',\n",
       " 'field',\n",
       " 'bent',\n",
       " 'curtain',\n",
       " 'adoption',\n",
       " 'impertinent',\n",
       " 'trickling',\n",
       " 'pop',\n",
       " 'Latin',\n",
       " 'Ahem',\n",
       " 'Ada',\n",
       " 'severity',\n",
       " 'scrambling',\n",
       " 'buttered',\n",
       " 'sage',\n",
       " 'ridge',\n",
       " 'oldest',\n",
       " 'twelfth',\n",
       " 'avoid',\n",
       " 'fixed',\n",
       " 'Little',\n",
       " 'fourth',\n",
       " '?)',\n",
       " 'shrimp',\n",
       " 'Waiting',\n",
       " 'arrived',\n",
       " 'balanced',\n",
       " 'agony',\n",
       " 'warning',\n",
       " \"!')\",\n",
       " 'encouraged',\n",
       " 'rabbits',\n",
       " 'reasons',\n",
       " 'puzzle',\n",
       " 'invented',\n",
       " 'lullaby',\n",
       " 'tomorrow',\n",
       " 'shiny',\n",
       " 'lips',\n",
       " 'denial',\n",
       " 'WAISTCOAT',\n",
       " 'happy',\n",
       " 'someone',\n",
       " 'occasionally',\n",
       " 'Stigand',\n",
       " 'form',\n",
       " 'Canary',\n",
       " 'soothing',\n",
       " 'Tears',\n",
       " 'Herald',\n",
       " 'dunce',\n",
       " 'clinging',\n",
       " 'thank',\n",
       " 'tales',\n",
       " 'Forty',\n",
       " 'thunder',\n",
       " 'immense',\n",
       " 'wore',\n",
       " 'THROUGH',\n",
       " 'fairly',\n",
       " 'star',\n",
       " 'dozing',\n",
       " 'fifth',\n",
       " 'meanwhile',\n",
       " 'familiarly',\n",
       " 'Classics',\n",
       " 'custard',\n",
       " 'NEAR',\n",
       " 'Tea',\n",
       " 'creep',\n",
       " 'truth',\n",
       " 'commotion',\n",
       " 'hopeful',\n",
       " 'skurried',\n",
       " 'curtsey',\n",
       " 'terribly',\n",
       " 'practice',\n",
       " 'obstacle',\n",
       " 'Allow',\n",
       " 'Involved',\n",
       " 'tops',\n",
       " 'extra',\n",
       " 'remembering',\n",
       " 'SHOES',\n",
       " 'whiles',\n",
       " 'unwillingly',\n",
       " 'histories',\n",
       " 'Tale',\n",
       " 'buttercup',\n",
       " 'sharks',\n",
       " 'act',\n",
       " 'panted',\n",
       " 'incessantly',\n",
       " 'currants',\n",
       " 'daughter',\n",
       " 'attempt',\n",
       " 'pass',\n",
       " 'III',\n",
       " 'crawling',\n",
       " 'welcome',\n",
       " 'tulip',\n",
       " 'birthday',\n",
       " 'askance',\n",
       " 'pretend',\n",
       " 'feather',\n",
       " 'SOUP',\n",
       " 'tumbled',\n",
       " 'undoing',\n",
       " 'tougher',\n",
       " 'advice',\n",
       " 'pronounced',\n",
       " 'bone',\n",
       " 'hatters',\n",
       " 'London',\n",
       " 'twinkled',\n",
       " 'rat',\n",
       " 'stalk',\n",
       " 'couple',\n",
       " 'prize',\n",
       " 'chimneys',\n",
       " 'fortunately',\n",
       " 'woke',\n",
       " 'usurpation',\n",
       " 'favoured',\n",
       " 'oblong',\n",
       " 'appearance',\n",
       " 'shape',\n",
       " 'evidently',\n",
       " 'Shy',\n",
       " 'affair',\n",
       " 'Run',\n",
       " 'gather',\n",
       " 'stopping',\n",
       " 'camomile',\n",
       " 'OURS',\n",
       " 'proves',\n",
       " 'riddle',\n",
       " 'brain',\n",
       " 'doze',\n",
       " 'morals',\n",
       " 'bed',\n",
       " 'riper',\n",
       " 'cherry',\n",
       " 'barley',\n",
       " 'bill',\n",
       " 'appealed',\n",
       " 'Therefore',\n",
       " 'splendidly',\n",
       " \"?',\",\n",
       " 'cost',\n",
       " 'pegs',\n",
       " 'hush',\n",
       " 'SWIM',\n",
       " 'needs',\n",
       " 'ladder',\n",
       " 'laughing',\n",
       " 'pattern',\n",
       " 'helpless',\n",
       " 'towards',\n",
       " 'patriotic',\n",
       " 'Stand',\n",
       " 'Either',\n",
       " 'drive',\n",
       " 'conduct',\n",
       " 'upstairs',\n",
       " 'rudeness',\n",
       " 'foolish',\n",
       " 'brush',\n",
       " 'housemaid',\n",
       " 'listeners',\n",
       " 'ESQ',\n",
       " 'roared',\n",
       " 'Shakespeare',\n",
       " 'ye',\n",
       " 'shake',\n",
       " 'WATCH',\n",
       " 'IX',\n",
       " 'BEE',\n",
       " 'bore',\n",
       " 'Game',\n",
       " 'land',\n",
       " 'series',\n",
       " 'honest',\n",
       " 'hatter',\n",
       " 'Catch',\n",
       " 'IN',\n",
       " 'yelp',\n",
       " 'hat',\n",
       " \".')\",\n",
       " 'fifteen',\n",
       " 'hedges',\n",
       " 'dried',\n",
       " 'permitted',\n",
       " 'chuckled',\n",
       " 'Anything',\n",
       " 'SLUGGARD',\n",
       " 'OUTSIDE',\n",
       " 'respectful',\n",
       " 'muscular',\n",
       " 'seldom',\n",
       " 'Ground',\n",
       " 'Each',\n",
       " 'dropping',\n",
       " 'killing',\n",
       " 'difficulties',\n",
       " 'uncommonly',\n",
       " 'tide',\n",
       " 'Reeling',\n",
       " 'curiouser',\n",
       " 'WASHING',\n",
       " 'VII',\n",
       " 'tunnel',\n",
       " 'cries',\n",
       " 'busy',\n",
       " 'paused',\n",
       " 'Dinn',\n",
       " 'EVER',\n",
       " 'crust',\n",
       " 'shyly',\n",
       " 'throne',\n",
       " 'appearing',\n",
       " 'snout',\n",
       " 'cheap',\n",
       " 'laugh',\n",
       " 'ma',\n",
       " 'To',\n",
       " 'rosetree',\n",
       " 'OUT',\n",
       " 'officer',\n",
       " 'growling',\n",
       " 'VIII',\n",
       " 'trampled',\n",
       " 'actually',\n",
       " 'chop',\n",
       " 'sixpence',\n",
       " 'toss',\n",
       " 'brother',\n",
       " 'closely',\n",
       " 'axes',\n",
       " 'extras',\n",
       " 'promising',\n",
       " 'harm',\n",
       " 'telescopes',\n",
       " 'remain',\n",
       " 'muddle',\n",
       " 'fork',\n",
       " 'fury',\n",
       " 'arrow',\n",
       " 'flapper',\n",
       " 'drinking',\n",
       " 'king',\n",
       " 'ignorant',\n",
       " 'lark',\n",
       " 'respect',\n",
       " 'worry',\n",
       " 'stole',\n",
       " 'England',\n",
       " 'upsetting',\n",
       " 'pulling',\n",
       " 'upright',\n",
       " 'feebly',\n",
       " 'journey',\n",
       " 'yards',\n",
       " 'whistle',\n",
       " 'finds',\n",
       " 'signify',\n",
       " 'steam',\n",
       " 'toffee',\n",
       " 'accounting',\n",
       " 'boxed',\n",
       " 'recognised',\n",
       " 'interest',\n",
       " 'thrown',\n",
       " 'clapping',\n",
       " 'leaders',\n",
       " 'pleases',\n",
       " 'gazing',\n",
       " 'spite',\n",
       " 'Distraction',\n",
       " 'prevent',\n",
       " 'bristling',\n",
       " 'backs',\n",
       " 'slightest',\n",
       " 'Tut',\n",
       " 'lock',\n",
       " 'enormous',\n",
       " 'supple',\n",
       " 'Story',\n",
       " 'rich',\n",
       " 'blacking',\n",
       " 'strength',\n",
       " 'desk',\n",
       " 'irritated',\n",
       " 'linked',\n",
       " 'jaw',\n",
       " 'bag',\n",
       " 'picture',\n",
       " 'eyelids',\n",
       " 'vague',\n",
       " 'attempted',\n",
       " 'loving',\n",
       " 'beak',\n",
       " 'cheerfully',\n",
       " 'vote',\n",
       " 'waist',\n",
       " '\"?\\'',\n",
       " 'barking',\n",
       " 'gained',\n",
       " 'Sit',\n",
       " 'POCKET',\n",
       " 'mallets',\n",
       " 'pace',\n",
       " 'beloved',\n",
       " 'beautify',\n",
       " 'kissed',\n",
       " 'furiously',\n",
       " 'eating',\n",
       " 'PERSONS',\n",
       " 'poker',\n",
       " 'flew',\n",
       " 'bitter',\n",
       " 'nevertheless',\n",
       " 'WHATEVER',\n",
       " 'boldly',\n",
       " 'SIT',\n",
       " 'egg',\n",
       " 'quicker',\n",
       " 'graceful',\n",
       " 'sits',\n",
       " 'impatient',\n",
       " 'Carroll',\n",
       " 'louder',\n",
       " 'teeth',\n",
       " 'Alas',\n",
       " 'carrier',\n",
       " 'memory',\n",
       " 'tart',\n",
       " 'carry',\n",
       " 'RIGHT',\n",
       " 'Too',\n",
       " 'seated',\n",
       " 'flustered',\n",
       " 'faint',\n",
       " 'ointment',\n",
       " 'pencils',\n",
       " 'twentieth',\n",
       " 'Party',\n",
       " 'Such',\n",
       " 'flung',\n",
       " 'pretexts',\n",
       " 'Long',\n",
       " 'smoke',\n",
       " 'purple',\n",
       " 'Writhing',\n",
       " 'resource',\n",
       " 'quarrel',\n",
       " 'prettier',\n",
       " 'PLENTY',\n",
       " 'men',\n",
       " 'II',\n",
       " 'beauti',\n",
       " 'fancying',\n",
       " 'soft',\n",
       " 'stool',\n",
       " 'sternly',\n",
       " 'fanned',\n",
       " 'thick',\n",
       " 'spoken',\n",
       " 'insult',\n",
       " 'jogged',\n",
       " 'joys',\n",
       " 'croqueting',\n",
       " 'flock',\n",
       " 'sour',\n",
       " 'reeds',\n",
       " '--(',\n",
       " 'flappers',\n",
       " 'kettle',\n",
       " 'EAT',\n",
       " 'Collar',\n",
       " 'emphasis',\n",
       " 'wait',\n",
       " 'Tarts',\n",
       " 'teapot',\n",
       " 'listened',\n",
       " 'rope',\n",
       " 'paint',\n",
       " 'produced',\n",
       " 'Table',\n",
       " 'draggled',\n",
       " 'fat',\n",
       " 'tray',\n",
       " 'shedding',\n",
       " 'Change',\n",
       " 'died',\n",
       " 'Same',\n",
       " 'salmon',\n",
       " 'bathing',\n",
       " 'MYSELF',\n",
       " 'inkstand',\n",
       " 'wags',\n",
       " 'solid',\n",
       " 'affectionately',\n",
       " 'steady',\n",
       " 'neighbour',\n",
       " 'roast',\n",
       " 'today',\n",
       " 'unable',\n",
       " 'MILE',\n",
       " 'fading',\n",
       " 'spot',\n",
       " 'audibly',\n",
       " 'tremulous',\n",
       " 'choosing',\n",
       " 'vulgar',\n",
       " 'despair',\n",
       " 'Or',\n",
       " 'butterfly',\n",
       " 'Wouldn',\n",
       " 'piteous',\n",
       " 'stupidly',\n",
       " 'moon',\n",
       " 'walrus',\n",
       " 'complaining',\n",
       " 'adding',\n",
       " 'breeze',\n",
       " 'hatching',\n",
       " 'arrum',\n",
       " 'soldier',\n",
       " 'signifies',\n",
       " 'terrier',\n",
       " 'Derision',\n",
       " 'ways',\n",
       " 'morsel',\n",
       " 'maybe',\n",
       " 'meeting',\n",
       " 'bursting',\n",
       " 'Good',\n",
       " 'retire',\n",
       " 'ourselves',\n",
       " 'downwards',\n",
       " 'uncorked',\n",
       " 'daresay',\n",
       " 'naturedly',\n",
       " 'crept',\n",
       " 'ate',\n",
       " 'blades',\n",
       " 'cheeks',\n",
       " 'cur',\n",
       " 'occasional',\n",
       " 'bleeds',\n",
       " 'chatte',\n",
       " 'hiss',\n",
       " 'BOOTS',\n",
       " 'encourage',\n",
       " 'cardboard',\n",
       " 'Pinch',\n",
       " 'rises',\n",
       " 'length',\n",
       " 'existence',\n",
       " 'Talking',\n",
       " 'curly',\n",
       " 'offend',\n",
       " 'pigeon',\n",
       " 'growled',\n",
       " 'wife',\n",
       " 'touch',\n",
       " 'shillings',\n",
       " 'V',\n",
       " 'gay',\n",
       " 'educations',\n",
       " 'tastes',\n",
       " 'COURT',\n",
       " 'thanked',\n",
       " 'KNOW',\n",
       " 'sizes',\n",
       " 'swallow',\n",
       " 'pour',\n",
       " 'Canterbury',\n",
       " 'Brandy',\n",
       " 'reduced',\n",
       " 'splash',\n",
       " 'counting',\n",
       " 'pitied',\n",
       " 'shining',\n",
       " 'climb',\n",
       " 'TOOK',\n",
       " 'doubling',\n",
       " 'Advice',\n",
       " 'screaming',\n",
       " 'clean',\n",
       " 'balls',\n",
       " 'faintly',\n",
       " 'holiday',\n",
       " 'double',\n",
       " 'conversations',\n",
       " 'snappishly',\n",
       " 'choke',\n",
       " 'minded',\n",
       " 'THAN',\n",
       " 'heap',\n",
       " 'Magpie',\n",
       " 'clearly',\n",
       " 'noticing',\n",
       " 'measure',\n",
       " 'IV',\n",
       " 'largest',\n",
       " 'lazily',\n",
       " \".--'\",\n",
       " 'ceiling',\n",
       " 'downward',\n",
       " 'juror',\n",
       " 'figures',\n",
       " 'comfort',\n",
       " 'accounts',\n",
       " 'Laughing',\n",
       " 'Coming',\n",
       " 'dreamy',\n",
       " 'rapped',\n",
       " 'Lastly',\n",
       " 'sorry',\n",
       " 'XI',\n",
       " 'shrieks',\n",
       " 'plenty',\n",
       " 'quick',\n",
       " 'pressing',\n",
       " 'attends',\n",
       " 'respectable',\n",
       " 'lit',\n",
       " 'scratching',\n",
       " 'Idiot',\n",
       " 'shrieked',\n",
       " 'Was',\n",
       " 'nasty',\n",
       " 'LOVE',\n",
       " 'curls',\n",
       " 'saves',\n",
       " 'Back',\n",
       " '):',\n",
       " 'learned',\n",
       " 'seeing',\n",
       " 'cutting',\n",
       " 'New',\n",
       " 'horse',\n",
       " 'rumbling',\n",
       " 'sign',\n",
       " 'consider',\n",
       " 'HERE',\n",
       " 'nodded',\n",
       " 'account',\n",
       " 'search',\n",
       " 'France',\n",
       " 'minding',\n",
       " 'beast',\n",
       " 'frame',\n",
       " 'exclamation',\n",
       " 'bother',\n",
       " 'simpleton',\n",
       " 'XII',\n",
       " 'airs',\n",
       " 'circle',\n",
       " 'couples',\n",
       " '!\"?\\'',\n",
       " 'buttons',\n",
       " 'slippery',\n",
       " 'kiss',\n",
       " 'tight',\n",
       " 'Mad',\n",
       " 'BEFORE',\n",
       " 'frying',\n",
       " 'THERE',\n",
       " 'grew',\n",
       " 'terror',\n",
       " 'corners',\n",
       " 'awfully',\n",
       " 'Croquet',\n",
       " 'Frog',\n",
       " 'cleared',\n",
       " 'lose',\n",
       " 'DON',\n",
       " 'Stolen',\n",
       " 'scolded',\n",
       " 'contradicted',\n",
       " 'injure',\n",
       " 'queerest',\n",
       " 'ink',\n",
       " 'eh',\n",
       " 'dinn',\n",
       " 'Write',\n",
       " 'maps',\n",
       " 'proposal',\n",
       " 'partners',\n",
       " 'From',\n",
       " 'Puss',\n",
       " 'anywhere',\n",
       " 'five',\n",
       " 'eyed',\n",
       " 'ancient',\n",
       " 'FROM',\n",
       " 'pope',\n",
       " 'eaten',\n",
       " 'fitted',\n",
       " 'PLEASE',\n",
       " 'disagree',\n",
       " 'peering',\n",
       " 'Heads',\n",
       " 'tinkling',\n",
       " 'moderate',\n",
       " 'HEARTS',\n",
       " 'opposite',\n",
       " 'furrow',\n",
       " 'accusation',\n",
       " 'afore',\n",
       " 'velvet',\n",
       " 'gloomily',\n",
       " '.]',\n",
       " 'wrapping',\n",
       " 'lower',\n",
       " 'sneezed',\n",
       " 'KING',\n",
       " 'fair',\n",
       " 'fanning',\n",
       " 'SOME',\n",
       " 'cannot',\n",
       " 'sh',\n",
       " 'Visit',\n",
       " 'splashed',\n",
       " 'placed',\n",
       " 'arranged',\n",
       " 'VE',\n",
       " 'Him',\n",
       " 'ORANGE',\n",
       " 'depends',\n",
       " 'Drive',\n",
       " 'ravens',\n",
       " 'Look',\n",
       " 'trusts',\n",
       " 'Soles',\n",
       " 'empty',\n",
       " 'fairy',\n",
       " 'darkness',\n",
       " 'RED',\n",
       " 'merrily',\n",
       " 'elegant',\n",
       " 'uneasy',\n",
       " 'Hjckrrh',\n",
       " 'addressing',\n",
       " 'purpose',\n",
       " 'Christmas',\n",
       " 'mournful',\n",
       " 'heels',\n",
       " 'Sh',\n",
       " 'entrance',\n",
       " 'sharing',\n",
       " 'spades',\n",
       " 'worried',\n",
       " 'clamour',\n",
       " 'unlocking',\n",
       " 'possible',\n",
       " 'dripping',\n",
       " 'tricks',\n",
       " 'belt',\n",
       " 'fig',\n",
       " 'Jack',\n",
       " 'Shark',\n",
       " 'Seals',\n",
       " 'charges',\n",
       " 'forwards',\n",
       " 'uncivil',\n",
       " 'grant',\n",
       " 'plainly',\n",
       " 'fighting',\n",
       " 'engine',\n",
       " 'cattle',\n",
       " 'brushing',\n",
       " 'Trims',\n",
       " 'favourite',\n",
       " 'conquest',\n",
       " 'lately',\n",
       " 'dismay',\n",
       " 'abide',\n",
       " 'loveliest',\n",
       " 'sprawling',\n",
       " 'lifted',\n",
       " 'understood',\n",
       " 'chanced',\n",
       " 'rightly',\n",
       " 'executes',\n",
       " 'TRUE',\n",
       " 'grinning',\n",
       " 'stupidest',\n",
       " 'hippopotamus',\n",
       " 'happening',\n",
       " 'manners',\n",
       " 'Drink',\n",
       " 'crab',\n",
       " 'known',\n",
       " 'justice',\n",
       " 'mineral',\n",
       " 'seaside',\n",
       " 'dive',\n",
       " 'Quick',\n",
       " 'Atheling',\n",
       " 'choking',\n",
       " 'vegetable',\n",
       " 'growls',\n",
       " 'Grammar',\n",
       " 'sheep',\n",
       " 'received',\n",
       " 'squeezed',\n",
       " 'eats',\n",
       " 'reasonable',\n",
       " 'EVERYBODY',\n",
       " 'puffed',\n",
       " 'swallowed',\n",
       " 'stockings',\n",
       " 'crazy',\n",
       " 'dreaming',\n",
       " 'est',\n",
       " 'SOMETHING',\n",
       " 'burning',\n",
       " 'dreamed',\n",
       " 'Race',\n",
       " 'delay',\n",
       " 'quarrelled',\n",
       " 'crocodile',\n",
       " 'Chorus',\n",
       " 'rustled',\n",
       " 'desperate',\n",
       " 'tut',\n",
       " 'saucepan',\n",
       " 'lines',\n",
       " 'shrink',\n",
       " 'ledge',\n",
       " 'prison',\n",
       " 'ITS',\n",
       " 'calling',\n",
       " 'brass',\n",
       " ')--',\n",
       " 'crawled',\n",
       " 'globe',\n",
       " 'odd',\n",
       " 'remedies',\n",
       " 'Nile',\n",
       " 'company',\n",
       " 'meal',\n",
       " 'returned',\n",
       " 'variations',\n",
       " 'scale',\n",
       " 'stiff',\n",
       " 'sentenced',\n",
       " 'WITH',\n",
       " 'given',\n",
       " 'flinging',\n",
       " 'RETURNED',\n",
       " 'weren',\n",
       " 'treat',\n",
       " 'limbs',\n",
       " 'mischief',\n",
       " 'yard',\n",
       " 'HEARTHRUG',\n",
       " 'printed',\n",
       " 'DOES',\n",
       " 'diamonds',\n",
       " 'comfortably',\n",
       " 'newspapers',\n",
       " 'family',\n",
       " 'Ten',\n",
       " 'inclined',\n",
       " 'knuckles',\n",
       " 'MARMALADE',\n",
       " 'shiver',\n",
       " 'applause',\n",
       " 'Arithmetic',\n",
       " 'comfortable',\n",
       " 'neat',\n",
       " 'Read',\n",
       " 'Ou',\n",
       " 'labelled',\n",
       " 'lessen',\n",
       " 'Even',\n",
       " 'contemptuous',\n",
       " 'passing',\n",
       " 'acceptance',\n",
       " 'immediate',\n",
       " 'flown',\n",
       " 'deepest',\n",
       " 'disobey',\n",
       " 'Right',\n",
       " 'apple',\n",
       " 'brave',\n",
       " 'AT',\n",
       " 'Normans',\n",
       " 'death',\n",
       " '--]',\n",
       " 'mayn',\n",
       " 'bough',\n",
       " 'machines',\n",
       " 'Before',\n",
       " 'grins',\n",
       " 'trot',\n",
       " 'circumstances',\n",
       " 'belong',\n",
       " 'Kings',\n",
       " 'tureen',\n",
       " 'wider',\n",
       " 'frighten',\n",
       " 'fluttered',\n",
       " 'furious',\n",
       " 'coward',\n",
       " 'poured',\n",
       " 'speaker',\n",
       " 'patience',\n",
       " 'pun',\n",
       " 'introduced',\n",
       " 'shared',\n",
       " 'stingy',\n",
       " 'knock',\n",
       " 'BE',\n",
       " 'enjoy',\n",
       " 'examining',\n",
       " 'cold',\n",
       " 'saucer',\n",
       " 'begged',\n",
       " 'refused',\n",
       " 'boon',\n",
       " 'Sounds',\n",
       " 'Curiouser',\n",
       " 'shock',\n",
       " 'handsome',\n",
       " 'languid',\n",
       " 'Imagine',\n",
       " 'roughly',\n",
       " 'Indeed',\n",
       " 'fishes',\n",
       " 'consultation',\n",
       " 'toys',\n",
       " 'licking',\n",
       " 'managing',\n",
       " 'uncomfortably',\n",
       " 'THEIR',\n",
       " 'murder',\n",
       " 'pounds',\n",
       " 'daisy',\n",
       " 'burnt',\n",
       " 'lad',\n",
       " 'answers',\n",
       " 'punished',\n",
       " 'somehow',\n",
       " 'Hole',\n",
       " 'wander',\n",
       " 'pictured',\n",
       " 'skimming',\n",
       " 'pulled',\n",
       " 'Shan',\n",
       " 'handwriting',\n",
       " 'explained',\n",
       " 'flashed',\n",
       " 'trials',\n",
       " 'poky',\n",
       " 'hearts',\n",
       " 'readily',\n",
       " 'caterpillar',\n",
       " 'pet',\n",
       " 'furrows',\n",
       " 'reality',\n",
       " 'glanced',\n",
       " 'Hardly',\n",
       " 'beheading',\n",
       " 'eleventh',\n",
       " 'Evidence',\n",
       " 'prosecute',\n",
       " 'miss',\n",
       " 'conger',\n",
       " 'fireplace',\n",
       " 'settle',\n",
       " 'Rule',\n",
       " 'subjects',\n",
       " 'raven',\n",
       " 'rats',\n",
       " 'Edgar',\n",
       " 'chains',\n",
       " 'nest',\n",
       " 'PROVES',\n",
       " 'lodging',\n",
       " 'Zealand',\n",
       " 'magic',\n",
       " 'denies',\n",
       " 'straightened',\n",
       " '):--',\n",
       " 'Swim',\n",
       " 'whispers',\n",
       " 'fix',\n",
       " 'violence',\n",
       " 'meat',\n",
       " 'thirteen',\n",
       " 'stretching',\n",
       " 'VOICE',\n",
       " 'saucepans',\n",
       " 'blown',\n",
       " 'passionate',\n",
       " 'years',\n",
       " 'annoy',\n",
       " 'jelly',\n",
       " 'disgust',\n",
       " 'pardoned',\n",
       " 'Number',\n",
       " 'alternately',\n",
       " 'tipped',\n",
       " 'THEN',\n",
       " 'grunt',\n",
       " 'straightening',\n",
       " 'tied',\n",
       " 'worm',\n",
       " 'subdued',\n",
       " 'THESE',\n",
       " 'HAD',\n",
       " 'howled',\n",
       " 'farm',\n",
       " 'Still',\n",
       " \"')\",\n",
       " 'argued',\n",
       " 'BEG',\n",
       " 'Their',\n",
       " 'cart',\n",
       " '1865',\n",
       " 'Somebody',\n",
       " 'condemn',\n",
       " 'Ambition',\n",
       " 'wept',\n",
       " 'axis',\n",
       " 'hearth',\n",
       " 'Last',\n",
       " 'reaching',\n",
       " 'leading',\n",
       " 'Fainting',\n",
       " 'flavour',\n",
       " 'tie',\n",
       " 'Sentence',\n",
       " 'processions',\n",
       " 'glaring',\n",
       " 'Stupid',\n",
       " 'closer',\n",
       " 'uglify',\n",
       " 'Nonsense',\n",
       " 'Australia',\n",
       " 'die',\n",
       " 'seven',\n",
       " 'win',\n",
       " 'sorrows',\n",
       " 'wings',\n",
       " 'squeaked',\n",
       " 'LL',\n",
       " 'farmer',\n",
       " 'quiver',\n",
       " 'submitted',\n",
       " 'shingle',\n",
       " 'accidentally',\n",
       " 'C',\n",
       " 'engraved',\n",
       " 'guard',\n",
       " 'memorandum',\n",
       " 'softly',\n",
       " 'pinch',\n",
       " 'mournfully',\n",
       " 'luckily',\n",
       " 'Birds',\n",
       " 'branch',\n",
       " 'Hand',\n",
       " 'Tillie',\n",
       " 'burst',\n",
       " 'protection',\n",
       " 'Stole',\n",
       " 'consented',\n",
       " 'hoped',\n",
       " 'coast',\n",
       " 'frames',\n",
       " ']',\n",
       " 'Sir',\n",
       " 'drop',\n",
       " 'tidy',\n",
       " 'Like',\n",
       " 'Grief',\n",
       " 'wearily',\n",
       " 'helped',\n",
       " ...]"
      ]
     },
     "execution_count": 36,
     "metadata": {},
     "output_type": "execute_result"
    }
   ],
   "source": [
    "# words that only appears once\n",
    "alice_fd.hapaxes()"
   ]
  },
  {
   "cell_type": "markdown",
   "metadata": {},
   "source": [
    "## 4. Conditional Frequency Distribution"
   ]
  },
  {
   "cell_type": "code",
   "execution_count": 37,
   "metadata": {
    "collapsed": true
   },
   "outputs": [],
   "source": [
    "names = [(\"Group A\", \"Paul\"), (\"Group A\", \"Mike\"), (\"Group A\", \"Katy\"),\n",
    "        (\"Group B\", \"Amy\"), (\"Group B\", \"Joe\"), (\"Group B\", \"Amy\")]"
   ]
  },
  {
   "cell_type": "code",
   "execution_count": 38,
   "metadata": {
    "collapsed": false
   },
   "outputs": [
    {
     "data": {
      "text/plain": [
       "[('Group A', 'Paul'),\n",
       " ('Group A', 'Mike'),\n",
       " ('Group A', 'Katy'),\n",
       " ('Group B', 'Amy'),\n",
       " ('Group B', 'Joe'),\n",
       " ('Group B', 'Amy')]"
      ]
     },
     "execution_count": 38,
     "metadata": {},
     "output_type": "execute_result"
    }
   ],
   "source": [
    "names"
   ]
  },
  {
   "cell_type": "code",
   "execution_count": 39,
   "metadata": {
    "collapsed": false
   },
   "outputs": [
    {
     "data": {
      "text/plain": [
       "FreqDist({('Group A', 'Katy'): 1,\n",
       "          ('Group A', 'Mike'): 1,\n",
       "          ('Group A', 'Paul'): 1,\n",
       "          ('Group B', 'Amy'): 2,\n",
       "          ('Group B', 'Joe'): 1})"
      ]
     },
     "execution_count": 39,
     "metadata": {},
     "output_type": "execute_result"
    }
   ],
   "source": [
    "nltk.FreqDist(names)"
   ]
  },
  {
   "cell_type": "code",
   "execution_count": 40,
   "metadata": {
    "collapsed": false
   },
   "outputs": [
    {
     "data": {
      "text/plain": [
       "ConditionalFreqDist(nltk.probability.FreqDist,\n",
       "                    {'Group A': FreqDist({'Katy': 1, 'Mike': 1, 'Paul': 1}),\n",
       "                     'Group B': FreqDist({'Amy': 2, 'Joe': 1})})"
      ]
     },
     "execution_count": 40,
     "metadata": {},
     "output_type": "execute_result"
    }
   ],
   "source": [
    "nltk.ConditionalFreqDist(names)"
   ]
  },
  {
   "cell_type": "markdown",
   "metadata": {},
   "source": [
    "## 5. Informative Words"
   ]
  },
  {
   "cell_type": "code",
   "execution_count": 41,
   "metadata": {
    "collapsed": true
   },
   "outputs": [],
   "source": [
    "alice_fd_100 = alice_fd.most_common(100)"
   ]
  },
  {
   "cell_type": "code",
   "execution_count": 43,
   "metadata": {
    "collapsed": false
   },
   "outputs": [],
   "source": [
    "moby = nltk.corpus.gutenberg.words(\"melville-moby_dick.txt\")\n",
    "moby_fd = nltk.FreqDist(moby)\n",
    "moby_fd_100 = moby_fd.most_common(100)"
   ]
  },
  {
   "cell_type": "code",
   "execution_count": 44,
   "metadata": {
    "collapsed": true
   },
   "outputs": [],
   "source": [
    "alice_100 = [word[0] for word in alice_fd_100]\n",
    "moby_100 = [word[0] for word in moby_fd_100]"
   ]
  },
  {
   "cell_type": "code",
   "execution_count": 45,
   "metadata": {
    "collapsed": false
   },
   "outputs": [
    {
     "data": {
      "text/plain": [
       "{\"!'\",\n",
       " '*',\n",
       " \",'\",\n",
       " \"--'\",\n",
       " \".'\",\n",
       " ':',\n",
       " \"?'\",\n",
       " 'Alice',\n",
       " 'Gryphon',\n",
       " 'Hatter',\n",
       " 'King',\n",
       " 'Mock',\n",
       " 'Queen',\n",
       " 'Turtle',\n",
       " 'again',\n",
       " 'began',\n",
       " 'can',\n",
       " 'could',\n",
       " 'did',\n",
       " 'do',\n",
       " 'herself',\n",
       " 'know',\n",
       " 'little',\n",
       " 'll',\n",
       " 'm',\n",
       " 'off',\n",
       " 'quite',\n",
       " 'said',\n",
       " 'say',\n",
       " 'see',\n",
       " 'she',\n",
       " 't',\n",
       " 'thought',\n",
       " 'way',\n",
       " 'went',\n",
       " 'your'}"
      ]
     },
     "execution_count": 45,
     "metadata": {},
     "output_type": "execute_result"
    }
   ],
   "source": [
    "set(alice_100) - set(moby_100)"
   ]
  },
  {
   "cell_type": "code",
   "execution_count": 46,
   "metadata": {
    "collapsed": false
   },
   "outputs": [
    {
     "data": {
      "text/plain": [
       "{'!\"',\n",
       " '\"',\n",
       " '.\"',\n",
       " '?',\n",
       " 'Ahab',\n",
       " 'But',\n",
       " 'any',\n",
       " 'are',\n",
       " 'been',\n",
       " 'boat',\n",
       " 'from',\n",
       " 'head',\n",
       " 'him',\n",
       " 'long',\n",
       " 'man',\n",
       " 'more',\n",
       " 'now',\n",
       " 'old',\n",
       " 'only',\n",
       " 'other',\n",
       " 'over',\n",
       " 'sea',\n",
       " 'ship',\n",
       " 'some',\n",
       " 'such',\n",
       " 'than',\n",
       " 'their',\n",
       " 'these',\n",
       " 'though',\n",
       " 'upon',\n",
       " 'we',\n",
       " 'whale',\n",
       " 'which',\n",
       " 'who',\n",
       " 'will',\n",
       " 'ye'}"
      ]
     },
     "execution_count": 46,
     "metadata": {},
     "output_type": "execute_result"
    }
   ],
   "source": [
    "set(moby_100) - set(alice_100)"
   ]
  },
  {
   "cell_type": "markdown",
   "metadata": {
    "collapsed": true
   },
   "source": [
    "## 6. Bigrams, Trigrams & N-grams"
   ]
  },
  {
   "cell_type": "code",
   "execution_count": 1,
   "metadata": {
    "collapsed": true
   },
   "outputs": [],
   "source": [
    "import nltk"
   ]
  },
  {
   "cell_type": "code",
   "execution_count": 2,
   "metadata": {
    "collapsed": true
   },
   "outputs": [],
   "source": [
    "text = \"I think it might rain today.\""
   ]
  },
  {
   "cell_type": "code",
   "execution_count": 3,
   "metadata": {
    "collapsed": true
   },
   "outputs": [],
   "source": [
    "tokens = nltk.word_tokenize(text)"
   ]
  },
  {
   "cell_type": "code",
   "execution_count": 4,
   "metadata": {
    "collapsed": false
   },
   "outputs": [
    {
     "data": {
      "text/plain": [
       "['I', 'think', 'it', 'might', 'rain', 'today', '.']"
      ]
     },
     "execution_count": 4,
     "metadata": {},
     "output_type": "execute_result"
    }
   ],
   "source": [
    "tokens"
   ]
  },
  {
   "cell_type": "code",
   "execution_count": 5,
   "metadata": {
    "collapsed": true
   },
   "outputs": [],
   "source": [
    "bigrams = nltk.bigrams(tokens)"
   ]
  },
  {
   "cell_type": "code",
   "execution_count": 6,
   "metadata": {
    "collapsed": false
   },
   "outputs": [
    {
     "name": "stdout",
     "output_type": "stream",
     "text": [
      "('I', 'think')\n",
      "('think', 'it')\n",
      "('it', 'might')\n",
      "('might', 'rain')\n",
      "('rain', 'today')\n",
      "('today', '.')\n"
     ]
    }
   ],
   "source": [
    "for item in bigrams:\n",
    "    print(item)"
   ]
  },
  {
   "cell_type": "code",
   "execution_count": 7,
   "metadata": {
    "collapsed": true
   },
   "outputs": [],
   "source": [
    "trigrams = nltk.trigrams(tokens)"
   ]
  },
  {
   "cell_type": "code",
   "execution_count": 8,
   "metadata": {
    "collapsed": false
   },
   "outputs": [
    {
     "name": "stdout",
     "output_type": "stream",
     "text": [
      "('I', 'think', 'it')\n",
      "('think', 'it', 'might')\n",
      "('it', 'might', 'rain')\n",
      "('might', 'rain', 'today')\n",
      "('rain', 'today', '.')\n"
     ]
    }
   ],
   "source": [
    "for item in trigrams:\n",
    "    print(item)"
   ]
  },
  {
   "cell_type": "code",
   "execution_count": 12,
   "metadata": {
    "collapsed": true
   },
   "outputs": [],
   "source": [
    "from nltk import ngrams"
   ]
  },
  {
   "cell_type": "code",
   "execution_count": 17,
   "metadata": {
    "collapsed": true
   },
   "outputs": [],
   "source": [
    "text2 = \"If it is nice out, I will go ot the beatch.\""
   ]
  },
  {
   "cell_type": "code",
   "execution_count": 18,
   "metadata": {
    "collapsed": true
   },
   "outputs": [],
   "source": [
    "tokens = nltk.word_tokenize(text2)"
   ]
  },
  {
   "cell_type": "code",
   "execution_count": 19,
   "metadata": {
    "collapsed": true
   },
   "outputs": [],
   "source": [
    "bigrams = ngrams(tokens, 2)"
   ]
  },
  {
   "cell_type": "code",
   "execution_count": 20,
   "metadata": {
    "collapsed": false
   },
   "outputs": [
    {
     "name": "stdout",
     "output_type": "stream",
     "text": [
      "('If', 'it')\n",
      "('it', 'is')\n",
      "('is', 'nice')\n",
      "('nice', 'out')\n",
      "('out', ',')\n",
      "(',', 'I')\n",
      "('I', 'will')\n",
      "('will', 'go')\n",
      "('go', 'ot')\n",
      "('ot', 'the')\n",
      "('the', 'beatch')\n",
      "('beatch', '.')\n"
     ]
    }
   ],
   "source": [
    "for item in bigrams:\n",
    "    print(item)"
   ]
  },
  {
   "cell_type": "code",
   "execution_count": 25,
   "metadata": {
    "collapsed": true
   },
   "outputs": [],
   "source": [
    "fourgrams = ngrams(tokens, 4)"
   ]
  },
  {
   "cell_type": "code",
   "execution_count": 26,
   "metadata": {
    "collapsed": false
   },
   "outputs": [
    {
     "name": "stdout",
     "output_type": "stream",
     "text": [
      "('If', 'it', 'is', 'nice')\n",
      "('it', 'is', 'nice', 'out')\n",
      "('is', 'nice', 'out', ',')\n",
      "('nice', 'out', ',', 'I')\n",
      "('out', ',', 'I', 'will')\n",
      "(',', 'I', 'will', 'go')\n",
      "('I', 'will', 'go', 'ot')\n",
      "('will', 'go', 'ot', 'the')\n",
      "('go', 'ot', 'the', 'beatch')\n",
      "('ot', 'the', 'beatch', '.')\n"
     ]
    }
   ],
   "source": [
    "for item in fourgrams:\n",
    "    print(item)"
   ]
  },
  {
   "cell_type": "code",
   "execution_count": 27,
   "metadata": {
    "collapsed": true
   },
   "outputs": [],
   "source": [
    "def n_grams(text, n):\n",
    "    tokens = nltk.word_tokenize(text)\n",
    "    grams = ngrams(tokens, n)\n",
    "    return grams"
   ]
  },
  {
   "cell_type": "code",
   "execution_count": 28,
   "metadata": {
    "collapsed": true
   },
   "outputs": [],
   "source": [
    "text3 = text + \" \" + text2"
   ]
  },
  {
   "cell_type": "code",
   "execution_count": 29,
   "metadata": {
    "collapsed": false
   },
   "outputs": [
    {
     "data": {
      "text/plain": [
       "'I think it might rain today. If it is nice out, I will go ot the beatch.'"
      ]
     },
     "execution_count": 29,
     "metadata": {},
     "output_type": "execute_result"
    }
   ],
   "source": [
    "text3"
   ]
  },
  {
   "cell_type": "code",
   "execution_count": 30,
   "metadata": {
    "collapsed": true
   },
   "outputs": [],
   "source": [
    "grams = n_grams(text3, 5)"
   ]
  },
  {
   "cell_type": "code",
   "execution_count": 31,
   "metadata": {
    "collapsed": false
   },
   "outputs": [
    {
     "name": "stdout",
     "output_type": "stream",
     "text": [
      "('I', 'think', 'it', 'might', 'rain')\n",
      "('think', 'it', 'might', 'rain', 'today')\n",
      "('it', 'might', 'rain', 'today', '.')\n",
      "('might', 'rain', 'today', '.', 'If')\n",
      "('rain', 'today', '.', 'If', 'it')\n",
      "('today', '.', 'If', 'it', 'is')\n",
      "('.', 'If', 'it', 'is', 'nice')\n",
      "('If', 'it', 'is', 'nice', 'out')\n",
      "('it', 'is', 'nice', 'out', ',')\n",
      "('is', 'nice', 'out', ',', 'I')\n",
      "('nice', 'out', ',', 'I', 'will')\n",
      "('out', ',', 'I', 'will', 'go')\n",
      "(',', 'I', 'will', 'go', 'ot')\n",
      "('I', 'will', 'go', 'ot', 'the')\n",
      "('will', 'go', 'ot', 'the', 'beatch')\n",
      "('go', 'ot', 'the', 'beatch', '.')\n"
     ]
    }
   ],
   "source": [
    "for item in grams:\n",
    "    print(item)"
   ]
  },
  {
   "cell_type": "markdown",
   "metadata": {},
   "source": [
    "## 7. Regular Expressions"
   ]
  },
  {
   "cell_type": "code",
   "execution_count": 34,
   "metadata": {
    "collapsed": true
   },
   "outputs": [],
   "source": [
    "import nltk\n",
    "import re"
   ]
  },
  {
   "cell_type": "code",
   "execution_count": 35,
   "metadata": {
    "collapsed": true
   },
   "outputs": [],
   "source": [
    "alice = nltk.corpus.gutenberg.words(\"carroll-alice.txt\")"
   ]
  },
  {
   "cell_type": "code",
   "execution_count": 36,
   "metadata": {
    "collapsed": false
   },
   "outputs": [
    {
     "data": {
      "text/plain": [
       "{'new', 'newspapers'}"
      ]
     },
     "execution_count": 36,
     "metadata": {},
     "output_type": "execute_result"
    }
   ],
   "source": [
    "# find unique words that starts with \"new\"\n",
    "set([word for word in alice if re.search(\"^new\", word)])"
   ]
  },
  {
   "cell_type": "code",
   "execution_count": 37,
   "metadata": {
    "collapsed": false
   },
   "outputs": [
    {
     "data": {
      "text/plain": [
       "{'Beautiful',\n",
       " 'barrowful',\n",
       " 'beautiful',\n",
       " 'delightful',\n",
       " 'doubtful',\n",
       " 'dreadful',\n",
       " 'graceful',\n",
       " 'hopeful',\n",
       " 'mournful',\n",
       " 'ootiful',\n",
       " 'respectful',\n",
       " 'sorrowful',\n",
       " 'truthful',\n",
       " 'useful',\n",
       " 'wonderful'}"
      ]
     },
     "execution_count": 37,
     "metadata": {},
     "output_type": "execute_result"
    }
   ],
   "source": [
    "# fin all words that ends with \"ful\"\n",
    "set([word for word in alice if re.search(\"ful$\", word)])"
   ]
  },
  {
   "cell_type": "code",
   "execution_count": 39,
   "metadata": {
    "collapsed": false
   },
   "outputs": [
    {
     "data": {
      "text/plain": [
       "{'cannot', 'dinner', 'fanned', 'manner', 'tunnel'}"
      ]
     },
     "execution_count": 39,
     "metadata": {},
     "output_type": "execute_result"
    }
   ],
   "source": [
    "# find 6-letter words wich has to n in the middle\n",
    "set([word for word in alice if re.search(\"^..nn..$\", word)])"
   ]
  },
  {
   "cell_type": "code",
   "execution_count": 40,
   "metadata": {
    "collapsed": false
   },
   "outputs": [
    {
     "data": {
      "text/plain": [
       "{'cat', 'hat', 'rat'}"
      ]
     },
     "execution_count": 40,
     "metadata": {},
     "output_type": "execute_result"
    }
   ],
   "source": [
    "# find, if there are the words cat, hat and rat\n",
    "set([word for word in alice if re.search(\"^[chr]at$\", word)])"
   ]
  },
  {
   "cell_type": "code",
   "execution_count": 41,
   "metadata": {
    "collapsed": false
   },
   "outputs": [
    {
     "data": {
      "text/plain": [
       "{'Ann',\n",
       " 'Dinn',\n",
       " 'Pennyworth',\n",
       " 'annoy',\n",
       " 'annoyed',\n",
       " 'beginning',\n",
       " 'cannot',\n",
       " 'cunning',\n",
       " 'dinn',\n",
       " 'dinner',\n",
       " 'fanned',\n",
       " 'fanning',\n",
       " 'funny',\n",
       " 'grinned',\n",
       " 'grinning',\n",
       " 'manner',\n",
       " 'manners',\n",
       " 'planning',\n",
       " 'running',\n",
       " 'tunnel'}"
      ]
     },
     "execution_count": 41,
     "metadata": {},
     "output_type": "execute_result"
    }
   ],
   "source": [
    "# find words, regardless lentgh, that has two nn\n",
    "set([word for word in alice if re.search(\"^.*nn.*$\", word)])"
   ]
  },
  {
   "cell_type": "code",
   "execution_count": 45,
   "metadata": {
    "collapsed": false
   },
   "outputs": [
    {
     "data": {
      "text/plain": [
       "{'accidentally', 'actually', 'occasionally'}"
      ]
     },
     "execution_count": 45,
     "metadata": {},
     "output_type": "execute_result"
    }
   ],
   "source": [
    "# starws with vowel, second letter c, and ends with y\n",
    "set([word for word in alice if re.search(\"^[aeiou]c.+y$\", word)])"
   ]
  },
  {
   "cell_type": "code",
   "execution_count": null,
   "metadata": {
    "collapsed": true
   },
   "outputs": [],
   "source": []
  }
 ],
 "metadata": {
  "anaconda-cloud": {},
  "kernelspec": {
   "display_name": "Python [conda env:datascience]",
   "language": "python",
   "name": "conda-env-datascience-py"
  },
  "language_info": {
   "codemirror_mode": {
    "name": "ipython",
    "version": 3
   },
   "file_extension": ".py",
   "mimetype": "text/x-python",
   "name": "python",
   "nbconvert_exporter": "python",
   "pygments_lexer": "ipython3",
   "version": "3.5.2"
  }
 },
 "nbformat": 4,
 "nbformat_minor": 1
}
