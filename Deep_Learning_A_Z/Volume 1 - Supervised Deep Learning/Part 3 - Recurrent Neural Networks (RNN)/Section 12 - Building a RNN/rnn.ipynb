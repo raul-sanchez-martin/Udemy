{
 "cells": [
  {
   "cell_type": "markdown",
   "metadata": {},
   "source": [
    "# RNN - LSTM\n",
    "\n",
    "## 1. Data Preprocessing"
   ]
  },
  {
   "cell_type": "code",
   "execution_count": 1,
   "metadata": {
    "collapsed": true
   },
   "outputs": [],
   "source": [
    "import numpy as np\n",
    "import matplotlib.pyplot as plt\n",
    "import pandas as pd\n",
    "%matplotlib inline"
   ]
  },
  {
   "cell_type": "code",
   "execution_count": 2,
   "metadata": {
    "collapsed": true
   },
   "outputs": [],
   "source": [
    "dataset_train = pd.read_csv('Google_Stock_Price_Train.csv')"
   ]
  },
  {
   "cell_type": "code",
   "execution_count": 3,
   "metadata": {
    "collapsed": true
   },
   "outputs": [],
   "source": [
    "training_set = dataset_train.iloc[:,1:2].values"
   ]
  },
  {
   "cell_type": "code",
   "execution_count": 4,
   "metadata": {
    "collapsed": false
   },
   "outputs": [
    {
     "data": {
      "text/plain": [
       "(1258, 1)"
      ]
     },
     "execution_count": 4,
     "metadata": {},
     "output_type": "execute_result"
    }
   ],
   "source": [
    "training_set.shape"
   ]
  },
  {
   "cell_type": "code",
   "execution_count": 5,
   "metadata": {
    "collapsed": false
   },
   "outputs": [
    {
     "data": {
      "text/plain": [
       "array([[ 331.27],\n",
       "       [ 329.83],\n",
       "       [ 328.34],\n",
       "       [ 322.04],\n",
       "       [ 313.7 ],\n",
       "       [ 310.59],\n",
       "       [ 314.43],\n",
       "       [ 311.96],\n",
       "       [ 314.81]])"
      ]
     },
     "execution_count": 5,
     "metadata": {},
     "output_type": "execute_result"
    }
   ],
   "source": [
    "training_set[1:10]"
   ]
  },
  {
   "cell_type": "markdown",
   "metadata": {},
   "source": [
    "Feature scaling: Normalisation"
   ]
  },
  {
   "cell_type": "code",
   "execution_count": 6,
   "metadata": {
    "collapsed": true
   },
   "outputs": [],
   "source": [
    "from sklearn.preprocessing import MinMaxScaler\n",
    "sc = MinMaxScaler(feature_range=(0,1))"
   ]
  },
  {
   "cell_type": "code",
   "execution_count": 7,
   "metadata": {
    "collapsed": true
   },
   "outputs": [],
   "source": [
    "training_set_scaled = sc.fit_transform(training_set)"
   ]
  },
  {
   "cell_type": "code",
   "execution_count": 8,
   "metadata": {
    "collapsed": false
   },
   "outputs": [
    {
     "data": {
      "text/plain": [
       "array([[ 0.09701243],\n",
       "       [ 0.09433366],\n",
       "       [ 0.09156187],\n",
       "       [ 0.07984225],\n",
       "       [ 0.0643277 ],\n",
       "       [ 0.0585423 ],\n",
       "       [ 0.06568569],\n",
       "       [ 0.06109085],\n",
       "       [ 0.06639259]])"
      ]
     },
     "execution_count": 8,
     "metadata": {},
     "output_type": "execute_result"
    }
   ],
   "source": [
    "training_set_scaled[1:10]"
   ]
  },
  {
   "cell_type": "markdown",
   "metadata": {},
   "source": [
    "** Creating a data structure with 60 timesteps and 1 output **"
   ]
  },
  {
   "cell_type": "code",
   "execution_count": 9,
   "metadata": {
    "collapsed": true
   },
   "outputs": [],
   "source": [
    "X_train = []\n",
    "y_train = []"
   ]
  },
  {
   "cell_type": "code",
   "execution_count": 10,
   "metadata": {
    "collapsed": false
   },
   "outputs": [],
   "source": [
    "for i in range(60, len(training_set_scaled)):\n",
    "    X_train.append(training_set_scaled[i-60:i, 0])\n",
    "    y_train.append(training_set_scaled[i, 0])"
   ]
  },
  {
   "cell_type": "code",
   "execution_count": 11,
   "metadata": {
    "collapsed": true
   },
   "outputs": [],
   "source": [
    "X_train, y_train = np.array(X_train), np.array(y_train)"
   ]
  },
  {
   "cell_type": "code",
   "execution_count": 12,
   "metadata": {
    "collapsed": false
   },
   "outputs": [
    {
     "data": {
      "text/plain": [
       "((1198, 60), (1198,))"
      ]
     },
     "execution_count": 12,
     "metadata": {},
     "output_type": "execute_result"
    }
   ],
   "source": [
    "X_train.shape, y_train.shape"
   ]
  },
  {
   "cell_type": "markdown",
   "metadata": {},
   "source": [
    "**Reshaping the data**\n",
    "\n",
    "https://keras.io/layers/recurrent/\n",
    "\n",
    "To add new indicators"
   ]
  },
  {
   "cell_type": "code",
   "execution_count": 13,
   "metadata": {
    "collapsed": false
   },
   "outputs": [],
   "source": [
    "X_train = np.reshape(X_train, (X_train.shape[0], X_train.shape[1], 1))"
   ]
  },
  {
   "cell_type": "code",
   "execution_count": 14,
   "metadata": {
    "collapsed": false
   },
   "outputs": [
    {
     "data": {
      "text/plain": [
       "(1198, 60, 1)"
      ]
     },
     "execution_count": 14,
     "metadata": {},
     "output_type": "execute_result"
    }
   ],
   "source": [
    "X_train.shape"
   ]
  },
  {
   "cell_type": "code",
   "execution_count": 15,
   "metadata": {
    "collapsed": false
   },
   "outputs": [
    {
     "data": {
      "text/plain": [
       "array([[ 0.08581368],\n",
       "       [ 0.09701243],\n",
       "       [ 0.09433366],\n",
       "       [ 0.09156187],\n",
       "       [ 0.07984225],\n",
       "       [ 0.0643277 ],\n",
       "       [ 0.0585423 ],\n",
       "       [ 0.06568569],\n",
       "       [ 0.06109085],\n",
       "       [ 0.06639259],\n",
       "       [ 0.0614257 ],\n",
       "       [ 0.07474514],\n",
       "       [ 0.02797827],\n",
       "       [ 0.02379269],\n",
       "       [ 0.02409033],\n",
       "       [ 0.0159238 ],\n",
       "       [ 0.01078949],\n",
       "       [ 0.00967334],\n",
       "       [ 0.01642607],\n",
       "       [ 0.02100231],\n",
       "       [ 0.02280676],\n",
       "       [ 0.02273235],\n",
       "       [ 0.02810849],\n",
       "       [ 0.03212665],\n",
       "       [ 0.0433812 ],\n",
       "       [ 0.04475779],\n",
       "       [ 0.04790163],\n",
       "       [ 0.0440695 ],\n",
       "       [ 0.04648783],\n",
       "       [ 0.04745517],\n",
       "       [ 0.04873875],\n",
       "       [ 0.03936305],\n",
       "       [ 0.04137213],\n",
       "       [ 0.04034898],\n",
       "       [ 0.04784582],\n",
       "       [ 0.04325099],\n",
       "       [ 0.04356723],\n",
       "       [ 0.04286033],\n",
       "       [ 0.04602277],\n",
       "       [ 0.05398467],\n",
       "       [ 0.05738894],\n",
       "       [ 0.05714711],\n",
       "       [ 0.05569611],\n",
       "       [ 0.04421832],\n",
       "       [ 0.04514845],\n",
       "       [ 0.04605997],\n",
       "       [ 0.04412531],\n",
       "       [ 0.03675869],\n",
       "       [ 0.04486941],\n",
       "       [ 0.05065481],\n",
       "       [ 0.05214302],\n",
       "       [ 0.05612397],\n",
       "       [ 0.05818885],\n",
       "       [ 0.06540665],\n",
       "       [ 0.06882953],\n",
       "       [ 0.07243843],\n",
       "       [ 0.07993526],\n",
       "       [ 0.07846566],\n",
       "       [ 0.08034452],\n",
       "       [ 0.08497656]])"
      ]
     },
     "execution_count": 15,
     "metadata": {},
     "output_type": "execute_result"
    }
   ],
   "source": [
    "X_train[0]"
   ]
  },
  {
   "cell_type": "code",
   "execution_count": 16,
   "metadata": {
    "collapsed": false
   },
   "outputs": [
    {
     "data": {
      "text/plain": [
       "array([ 0.08627874,  0.08471612,  0.07454052,  0.07883771,  0.07238262,\n",
       "        0.06663442,  0.06315574,  0.06782499,  0.06823424,  0.07601012])"
      ]
     },
     "execution_count": 16,
     "metadata": {},
     "output_type": "execute_result"
    }
   ],
   "source": [
    "y_train[:10]"
   ]
  },
  {
   "cell_type": "markdown",
   "metadata": {},
   "source": [
    "## 2. Building the RNN"
   ]
  },
  {
   "cell_type": "code",
   "execution_count": 17,
   "metadata": {
    "collapsed": false
   },
   "outputs": [
    {
     "name": "stderr",
     "output_type": "stream",
     "text": [
      "Using TensorFlow backend.\n"
     ]
    }
   ],
   "source": [
    "from keras.models import Sequential\n",
    "from keras.layers import Dense\n",
    "from keras.layers import LSTM\n",
    "from keras.layers import Dropout"
   ]
  },
  {
   "cell_type": "markdown",
   "metadata": {},
   "source": [
    "Initializing the RNN"
   ]
  },
  {
   "cell_type": "code",
   "execution_count": 18,
   "metadata": {
    "collapsed": true
   },
   "outputs": [],
   "source": [
    "regressor = Sequential()"
   ]
  },
  {
   "cell_type": "markdown",
   "metadata": {},
   "source": [
    "Configuring the LSTM neural network\n",
    "\n",
    "* return_sequences=True if after the LSTM layer goes another LSTM layer\n",
    "* optimizer: recomended \"RMSprop\"; \"adam\" also ok "
   ]
  },
  {
   "cell_type": "code",
   "execution_count": 19,
   "metadata": {
    "collapsed": false
   },
   "outputs": [],
   "source": [
    "regressor.add(LSTM(units=50, return_sequences=True, input_shape=(X_train.shape[1], 1)))\n",
    "regressor.add(Dropout(0.20))\n",
    "regressor.add(LSTM(units=50, return_sequences=True))\n",
    "regressor.add(Dropout(0.20))\n",
    "regressor.add(LSTM(units=50, return_sequences=True))\n",
    "regressor.add(Dropout(0.20))\n",
    "regressor.add(LSTM(units=50))\n",
    "regressor.add(Dropout(0.20))\n",
    "regressor.add(Dense(units=1))\n",
    "regressor.compile(optimizer = 'adam', loss = 'mean_squared_error')"
   ]
  },
  {
   "cell_type": "code",
   "execution_count": 20,
   "metadata": {
    "collapsed": false
   },
   "outputs": [
    {
     "name": "stdout",
     "output_type": "stream",
     "text": [
      "Epoch 1/100\n",
      "1198/1198 [==============================] - 5s - loss: 0.0520     \n",
      "Epoch 2/100\n",
      "1198/1198 [==============================] - 6s - loss: 0.0069     \n",
      "Epoch 3/100\n",
      "1198/1198 [==============================] - 5s - loss: 0.0052     \n",
      "Epoch 4/100\n",
      "1198/1198 [==============================] - 7s - loss: 0.0054     \n",
      "Epoch 5/100\n",
      "1198/1198 [==============================] - 7s - loss: 0.0049     \n",
      "Epoch 6/100\n",
      "1198/1198 [==============================] - 7s - loss: 0.0044     \n",
      "Epoch 7/100\n",
      "1198/1198 [==============================] - 6s - loss: 0.0050     \n",
      "Epoch 8/100\n",
      "1198/1198 [==============================] - 5s - loss: 0.0047     \n",
      "Epoch 9/100\n",
      "1198/1198 [==============================] - 6s - loss: 0.0043     \n",
      "Epoch 10/100\n",
      "1198/1198 [==============================] - 5s - loss: 0.0047     \n",
      "Epoch 11/100\n",
      "1198/1198 [==============================] - 5s - loss: 0.0042     \n",
      "Epoch 12/100\n",
      "1198/1198 [==============================] - 7s - loss: 0.0047     \n",
      "Epoch 13/100\n",
      "1198/1198 [==============================] - 5s - loss: 0.0042     \n",
      "Epoch 14/100\n",
      "1198/1198 [==============================] - 7s - loss: 0.0044     \n",
      "Epoch 15/100\n",
      "1198/1198 [==============================] - 7s - loss: 0.0036     \n",
      "Epoch 16/100\n",
      "1198/1198 [==============================] - 7s - loss: 0.0036     \n",
      "Epoch 17/100\n",
      "1198/1198 [==============================] - 7s - loss: 0.0039     \n",
      "Epoch 18/100\n",
      "1198/1198 [==============================] - 6s - loss: 0.0043     \n",
      "Epoch 19/100\n",
      "1198/1198 [==============================] - 7s - loss: 0.0035     \n",
      "Epoch 20/100\n",
      "1198/1198 [==============================] - 6s - loss: 0.0035     \n",
      "Epoch 21/100\n",
      "1198/1198 [==============================] - 7s - loss: 0.0032     \n",
      "Epoch 22/100\n",
      "1198/1198 [==============================] - 7s - loss: 0.0030     \n",
      "Epoch 23/100\n",
      "1198/1198 [==============================] - 7s - loss: 0.0031     \n",
      "Epoch 24/100\n",
      "1198/1198 [==============================] - 7s - loss: 0.0032     \n",
      "Epoch 25/100\n",
      "1198/1198 [==============================] - 7s - loss: 0.0033     \n",
      "Epoch 26/100\n",
      "1198/1198 [==============================] - 7s - loss: 0.0030     \n",
      "Epoch 27/100\n",
      "1198/1198 [==============================] - 7s - loss: 0.0032     \n",
      "Epoch 28/100\n",
      "1198/1198 [==============================] - 7s - loss: 0.0032     \n",
      "Epoch 29/100\n",
      "1198/1198 [==============================] - 7s - loss: 0.0033     \n",
      "Epoch 30/100\n",
      "1198/1198 [==============================] - 7s - loss: 0.0028     \n",
      "Epoch 31/100\n",
      "1198/1198 [==============================] - 7s - loss: 0.0034     \n",
      "Epoch 32/100\n",
      "1198/1198 [==============================] - 5s - loss: 0.0027     \n",
      "Epoch 33/100\n",
      "1198/1198 [==============================] - 7s - loss: 0.0029     \n",
      "Epoch 34/100\n",
      "1198/1198 [==============================] - 7s - loss: 0.0029     \n",
      "Epoch 35/100\n",
      "1198/1198 [==============================] - 7s - loss: 0.0027     \n",
      "Epoch 36/100\n",
      "1198/1198 [==============================] - 7s - loss: 0.0030     \n",
      "Epoch 37/100\n",
      "1198/1198 [==============================] - 8s - loss: 0.0028     \n",
      "Epoch 38/100\n",
      "1198/1198 [==============================] - 7s - loss: 0.0032     \n",
      "Epoch 39/100\n",
      "1198/1198 [==============================] - 7s - loss: 0.0027     \n",
      "Epoch 40/100\n",
      "1198/1198 [==============================] - 7s - loss: 0.0024     \n",
      "Epoch 41/100\n",
      "1198/1198 [==============================] - 7s - loss: 0.0026     \n",
      "Epoch 42/100\n",
      "1198/1198 [==============================] - 4s - loss: 0.0031     \n",
      "Epoch 43/100\n",
      "1198/1198 [==============================] - 6s - loss: 0.0024     \n",
      "Epoch 44/100\n",
      "1198/1198 [==============================] - 7s - loss: 0.0026     \n",
      "Epoch 45/100\n",
      "1198/1198 [==============================] - 6s - loss: 0.0025     \n",
      "Epoch 46/100\n",
      "1198/1198 [==============================] - 6s - loss: 0.0024     \n",
      "Epoch 47/100\n",
      "1198/1198 [==============================] - 6s - loss: 0.0024     \n",
      "Epoch 48/100\n",
      "1198/1198 [==============================] - 5s - loss: 0.0022     \n",
      "Epoch 49/100\n",
      "1198/1198 [==============================] - 6s - loss: 0.0024     \n",
      "Epoch 50/100\n",
      "1198/1198 [==============================] - 7s - loss: 0.0024     \n",
      "Epoch 51/100\n",
      "1198/1198 [==============================] - 6s - loss: 0.0025     \n",
      "Epoch 52/100\n",
      "1198/1198 [==============================] - 7s - loss: 0.0022     \n",
      "Epoch 53/100\n",
      "1198/1198 [==============================] - 7s - loss: 0.0023     \n",
      "Epoch 54/100\n",
      "1198/1198 [==============================] - 7s - loss: 0.0020     \n",
      "Epoch 55/100\n",
      "1198/1198 [==============================] - 7s - loss: 0.0023     \n",
      "Epoch 56/100\n",
      "1198/1198 [==============================] - 7s - loss: 0.0024     \n",
      "Epoch 57/100\n",
      "1198/1198 [==============================] - 7s - loss: 0.0022     \n",
      "Epoch 58/100\n",
      "1198/1198 [==============================] - 6s - loss: 0.0021     \n",
      "Epoch 59/100\n",
      "1198/1198 [==============================] - 7s - loss: 0.0021     \n",
      "Epoch 60/100\n",
      "1198/1198 [==============================] - 6s - loss: 0.0022     \n",
      "Epoch 61/100\n",
      "1198/1198 [==============================] - 5s - loss: 0.0020     \n",
      "Epoch 62/100\n",
      "1198/1198 [==============================] - 7s - loss: 0.0019     \n",
      "Epoch 63/100\n",
      "1198/1198 [==============================] - 7s - loss: 0.0024     \n",
      "Epoch 64/100\n",
      "1198/1198 [==============================] - 7s - loss: 0.0019     \n",
      "Epoch 65/100\n",
      "1198/1198 [==============================] - 5s - loss: 0.0018     \n",
      "Epoch 66/100\n",
      "1198/1198 [==============================] - 7s - loss: 0.0019     \n",
      "Epoch 67/100\n",
      "1198/1198 [==============================] - 7s - loss: 0.0022     \n",
      "Epoch 68/100\n",
      "1198/1198 [==============================] - 7s - loss: 0.0019     \n",
      "Epoch 69/100\n",
      "1198/1198 [==============================] - 7s - loss: 0.0020     \n",
      "Epoch 70/100\n",
      "1198/1198 [==============================] - 7s - loss: 0.0019     \n",
      "Epoch 71/100\n",
      "1198/1198 [==============================] - 6s - loss: 0.0024     \n",
      "Epoch 72/100\n",
      "1198/1198 [==============================] - 5s - loss: 0.0021     \n",
      "Epoch 73/100\n",
      "1198/1198 [==============================] - 6s - loss: 0.0017     \n",
      "Epoch 74/100\n",
      "1198/1198 [==============================] - 6s - loss: 0.0017     \n",
      "Epoch 75/100\n",
      "1198/1198 [==============================] - 6s - loss: 0.0017     \n",
      "Epoch 76/100\n",
      "1198/1198 [==============================] - 6s - loss: 0.0019     \n",
      "Epoch 77/100\n",
      "1198/1198 [==============================] - 7s - loss: 0.0016     \n",
      "Epoch 78/100\n",
      "1198/1198 [==============================] - 7s - loss: 0.0018     \n",
      "Epoch 79/100\n",
      "1198/1198 [==============================] - 7s - loss: 0.0017     \n",
      "Epoch 80/100\n",
      "1198/1198 [==============================] - 7s - loss: 0.0019     \n",
      "Epoch 81/100\n",
      "1198/1198 [==============================] - 7s - loss: 0.0016     \n",
      "Epoch 82/100\n",
      "1198/1198 [==============================] - 7s - loss: 0.0015     \n",
      "Epoch 83/100\n",
      "1198/1198 [==============================] - 7s - loss: 0.0018     \n",
      "Epoch 84/100\n",
      "1198/1198 [==============================] - 7s - loss: 0.0018     \n",
      "Epoch 85/100\n",
      "1198/1198 [==============================] - 6s - loss: 0.0015     \n",
      "Epoch 86/100\n",
      "1198/1198 [==============================] - 5s - loss: 0.0016     \n",
      "Epoch 87/100\n",
      "1198/1198 [==============================] - 7s - loss: 0.0016     \n",
      "Epoch 88/100\n",
      "1198/1198 [==============================] - 5s - loss: 0.0014     \n",
      "Epoch 89/100\n",
      "1198/1198 [==============================] - 7s - loss: 0.0016     \n",
      "Epoch 90/100\n",
      "1198/1198 [==============================] - 7s - loss: 0.0017     \n",
      "Epoch 91/100\n",
      "1198/1198 [==============================] - 7s - loss: 0.0016     \n",
      "Epoch 92/100\n",
      "1198/1198 [==============================] - 7s - loss: 0.0015     \n",
      "Epoch 93/100\n",
      "1198/1198 [==============================] - 7s - loss: 0.0017     \n",
      "Epoch 94/100\n",
      "1198/1198 [==============================] - 7s - loss: 0.0015     \n",
      "Epoch 95/100\n",
      "1198/1198 [==============================] - 5s - loss: 0.0015     \n",
      "Epoch 96/100\n",
      "1198/1198 [==============================] - 7s - loss: 0.0015     \n",
      "Epoch 97/100\n",
      "1198/1198 [==============================] - 7s - loss: 0.0015     \n",
      "Epoch 98/100\n",
      "1198/1198 [==============================] - 7s - loss: 0.0013     \n",
      "Epoch 99/100\n",
      "1198/1198 [==============================] - 6s - loss: 0.0014     \n",
      "Epoch 100/100\n",
      "1198/1198 [==============================] - 7s - loss: 0.0016     \n"
     ]
    },
    {
     "data": {
      "text/plain": [
       "<keras.callbacks.History at 0x7feea6dbda90>"
      ]
     },
     "execution_count": 20,
     "metadata": {},
     "output_type": "execute_result"
    }
   ],
   "source": [
    "# epochs = 100\n",
    "\n",
    "regressor.fit(X_train, y_train, batch_size = 32, epochs = 100)"
   ]
  },
  {
   "cell_type": "markdown",
   "metadata": {},
   "source": [
    "## 3. Making the predictions and visualising the results"
   ]
  },
  {
   "cell_type": "markdown",
   "metadata": {},
   "source": [
    "Getting the real stock price of 2017"
   ]
  },
  {
   "cell_type": "code",
   "execution_count": 21,
   "metadata": {
    "collapsed": true
   },
   "outputs": [],
   "source": [
    "dataset_test = pd.read_csv('Google_Stock_Price_Test.csv')\n",
    "real_stock_price = dataset_test.iloc[:,1:2].values"
   ]
  },
  {
   "cell_type": "markdown",
   "metadata": {},
   "source": [
    "Getting the predicted stock price of 2017"
   ]
  },
  {
   "cell_type": "code",
   "execution_count": 22,
   "metadata": {
    "collapsed": true
   },
   "outputs": [],
   "source": [
    "dataset_total = pd.concat((dataset_train[\"Open\"], \n",
    "                           dataset_test[\"Open\"]), axis=0)\n",
    "\n",
    "inputs = dataset_total[len(dataset_total) - len(dataset_test) - 60:].values"
   ]
  },
  {
   "cell_type": "code",
   "execution_count": 23,
   "metadata": {
    "collapsed": false
   },
   "outputs": [
    {
     "data": {
      "text/plain": [
       "(80,)"
      ]
     },
     "execution_count": 23,
     "metadata": {},
     "output_type": "execute_result"
    }
   ],
   "source": [
    "inputs.shape"
   ]
  },
  {
   "cell_type": "code",
   "execution_count": 24,
   "metadata": {
    "collapsed": false
   },
   "outputs": [
    {
     "data": {
      "text/plain": [
       "(80, 1)"
      ]
     },
     "execution_count": 24,
     "metadata": {},
     "output_type": "execute_result"
    }
   ],
   "source": [
    "inputs = inputs.reshape(-1, 1)\n",
    "inputs.shape"
   ]
  },
  {
   "cell_type": "code",
   "execution_count": 25,
   "metadata": {
    "collapsed": true
   },
   "outputs": [],
   "source": [
    "inputs = sc.transform(inputs)"
   ]
  },
  {
   "cell_type": "code",
   "execution_count": 26,
   "metadata": {
    "collapsed": true
   },
   "outputs": [],
   "source": [
    "X_test = []\n",
    "for i in range(60, len(inputs)):\n",
    "    X_test.append(inputs[i-60:i, 0])\n",
    "X_test = np.array(X_test)"
   ]
  },
  {
   "cell_type": "code",
   "execution_count": 27,
   "metadata": {
    "collapsed": false
   },
   "outputs": [
    {
     "data": {
      "text/plain": [
       "(20, 60)"
      ]
     },
     "execution_count": 27,
     "metadata": {},
     "output_type": "execute_result"
    }
   ],
   "source": [
    "X_test.shape"
   ]
  },
  {
   "cell_type": "code",
   "execution_count": 28,
   "metadata": {
    "collapsed": false
   },
   "outputs": [
    {
     "data": {
      "text/plain": [
       "(20, 60, 1)"
      ]
     },
     "execution_count": 28,
     "metadata": {},
     "output_type": "execute_result"
    }
   ],
   "source": [
    "ini_shape = X_test.shape\n",
    "X_test = X_test.reshape(ini_shape[0], ini_shape[1], 1)\n",
    "X_test.shape"
   ]
  },
  {
   "cell_type": "code",
   "execution_count": 29,
   "metadata": {
    "collapsed": true
   },
   "outputs": [],
   "source": [
    "predicted_stock_price = regressor.predict(X_test)\n",
    "predicted_stock_price = sc.inverse_transform(predicted_stock_price)"
   ]
  },
  {
   "cell_type": "code",
   "execution_count": 30,
   "metadata": {
    "collapsed": false
   },
   "outputs": [
    {
     "data": {
      "text/plain": [
       "(20, 1)"
      ]
     },
     "execution_count": 30,
     "metadata": {},
     "output_type": "execute_result"
    }
   ],
   "source": [
    "predicted_stock_price.shape"
   ]
  },
  {
   "cell_type": "code",
   "execution_count": 31,
   "metadata": {
    "collapsed": false
   },
   "outputs": [
    {
     "data": {
      "text/plain": [
       "array([[ 787.08862305],\n",
       "       [ 784.28643799],\n",
       "       [ 784.2510376 ],\n",
       "       [ 785.66394043],\n",
       "       [ 789.11431885],\n",
       "       [ 795.14141846],\n",
       "       [ 800.9309082 ],\n",
       "       [ 803.59014893],\n",
       "       [ 803.9753418 ],\n",
       "       [ 803.44799805],\n",
       "       [ 802.85443115],\n",
       "       [ 802.36413574],\n",
       "       [ 802.07385254],\n",
       "       [ 802.53179932],\n",
       "       [ 803.50097656],\n",
       "       [ 807.95544434],\n",
       "       [ 814.9901123 ],\n",
       "       [ 822.79547119],\n",
       "       [ 827.37835693],\n",
       "       [ 823.684021  ]], dtype=float32)"
      ]
     },
     "execution_count": 31,
     "metadata": {},
     "output_type": "execute_result"
    }
   ],
   "source": [
    "predicted_stock_price"
   ]
  },
  {
   "cell_type": "markdown",
   "metadata": {},
   "source": [
    "Visualizing the final results"
   ]
  },
  {
   "cell_type": "code",
   "execution_count": 33,
   "metadata": {
    "collapsed": false
   },
   "outputs": [
    {
     "data": {
      "image/png": "[encoded data removed]",
      "text/plain": [
       "<matplotlib.figure.Figure at 0x7feea6b3c748>"
      ]
     },
     "metadata": {},
     "output_type": "display_data"
    }
   ],
   "source": [
    "plt.plot(real_stock_price, color = 'red', \n",
    "         label = 'Real Google Stock Price')\n",
    "\n",
    "plt.plot(predicted_stock_price, color = 'blue', \n",
    "         label = 'Predicted Google Stock Price')\n",
    "\n",
    "plt.title('Google Stock Price Prediction')\n",
    "plt.xlabel('Time')\n",
    "plt.ylabel('Google Stock Price')\n",
    "plt.legend(loc=2)\n",
    "plt.show()"
   ]
  },
  {
   "cell_type": "code",
   "execution_count": null,
   "metadata": {
    "collapsed": true
   },
   "outputs": [],
   "source": []
  }
 ],
 "metadata": {
  "anaconda-cloud": {},
  "kernelspec": {
   "display_name": "Python [conda env:deep_learning]",
   "language": "python",
   "name": "conda-env-deep_learning-py"
  },
  "language_info": {
   "codemirror_mode": {
    "name": "ipython",
    "version": 3
   },
   "file_extension": ".py",
   "mimetype": "text/x-python",
   "name": "python",
   "nbconvert_exporter": "python",
   "pygments_lexer": "ipython3",
   "version": "3.5.2"
  }
 },
 "nbformat": 4,
 "nbformat_minor": 1
}
