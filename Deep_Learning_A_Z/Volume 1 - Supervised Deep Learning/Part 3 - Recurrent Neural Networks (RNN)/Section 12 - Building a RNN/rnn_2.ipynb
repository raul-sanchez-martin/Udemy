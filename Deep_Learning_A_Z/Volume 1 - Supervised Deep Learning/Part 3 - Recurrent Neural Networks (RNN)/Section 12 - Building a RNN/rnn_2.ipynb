{
 "cells": [
  {
   "cell_type": "markdown",
   "metadata": {},
   "source": [
    "# RNN - LSTM\n",
    "\n",
    "## 1. Data Preprocessing"
   ]
  },
  {
   "cell_type": "code",
   "execution_count": 1,
   "metadata": {
    "collapsed": true
   },
   "outputs": [],
   "source": [
    "import numpy as np\n",
    "import matplotlib.pyplot as plt\n",
    "import pandas as pd\n",
    "%matplotlib inline"
   ]
  },
  {
   "cell_type": "code",
   "execution_count": 2,
   "metadata": {
    "collapsed": false
   },
   "outputs": [],
   "source": [
    "idx_features = range(1, 6)\n",
    "idx_predict_raw = 1\n",
    "idx_predict_for = 0\n",
    "steps = 60\n",
    "features = 5"
   ]
  },
  {
   "cell_type": "code",
   "execution_count": 3,
   "metadata": {
    "collapsed": true
   },
   "outputs": [],
   "source": [
    "dataset_train = pd.read_csv('Google_Stock_Price_Train.csv')"
   ]
  },
  {
   "cell_type": "code",
   "execution_count": 4,
   "metadata": {
    "collapsed": true
   },
   "outputs": [],
   "source": [
    "training_set = dataset_train.iloc[:,idx_features].values"
   ]
  },
  {
   "cell_type": "code",
   "execution_count": 5,
   "metadata": {
    "collapsed": false
   },
   "outputs": [
    {
     "data": {
      "text/plain": [
       "(1258, 5)"
      ]
     },
     "execution_count": 5,
     "metadata": {},
     "output_type": "execute_result"
    }
   ],
   "source": [
    "training_set.shape"
   ]
  },
  {
   "cell_type": "code",
   "execution_count": 6,
   "metadata": {
    "collapsed": false
   },
   "outputs": [
    {
     "data": {
      "text/plain": [
       "array([[325.25, 332.83, 324.97, '663.59', '7,380,500'],\n",
       "       [331.27, 333.87, 329.08, '666.45', '5,749,400'],\n",
       "       [329.83, 330.75, 326.89, '657.21', '6,590,300'],\n",
       "       [328.34, 328.77, 323.68, '648.24', '5,405,900'],\n",
       "       [322.04, 322.29, 309.46, '620.76', '11,688,800'],\n",
       "       [313.7, 315.72, 307.3, '621.43', '8,824,000'],\n",
       "       [310.59, 313.52, 309.4, '624.25', '4,817,800'],\n",
       "       [314.43, 315.26, 312.08, '627.92', '3,764,400'],\n",
       "       [311.96, 312.3, 309.37, '623.28', '4,631,800'],\n",
       "       [314.81, 314.81, 311.67, '626.86', '3,832,800']], dtype=object)"
      ]
     },
     "execution_count": 6,
     "metadata": {},
     "output_type": "execute_result"
    }
   ],
   "source": [
    "training_set[:10]"
   ]
  },
  {
   "cell_type": "code",
   "execution_count": 7,
   "metadata": {
    "collapsed": false
   },
   "outputs": [
    {
     "data": {
      "text/plain": [
       "array([[  3.25250000e+02,   3.32830000e+02,   3.24970000e+02,\n",
       "          6.63590000e+02,   7.38050000e+06],\n",
       "       [  3.31270000e+02,   3.33870000e+02,   3.29080000e+02,\n",
       "          6.66450000e+02,   5.74940000e+06],\n",
       "       [  3.29830000e+02,   3.30750000e+02,   3.26890000e+02,\n",
       "          6.57210000e+02,   6.59030000e+06],\n",
       "       [  3.28340000e+02,   3.28770000e+02,   3.23680000e+02,\n",
       "          6.48240000e+02,   5.40590000e+06],\n",
       "       [  3.22040000e+02,   3.22290000e+02,   3.09460000e+02,\n",
       "          6.20760000e+02,   1.16888000e+07],\n",
       "       [  3.13700000e+02,   3.15720000e+02,   3.07300000e+02,\n",
       "          6.21430000e+02,   8.82400000e+06],\n",
       "       [  3.10590000e+02,   3.13520000e+02,   3.09400000e+02,\n",
       "          6.24250000e+02,   4.81780000e+06],\n",
       "       [  3.14430000e+02,   3.15260000e+02,   3.12080000e+02,\n",
       "          6.27920000e+02,   3.76440000e+06],\n",
       "       [  3.11960000e+02,   3.12300000e+02,   3.09370000e+02,\n",
       "          6.23280000e+02,   4.63180000e+06],\n",
       "       [  3.14810000e+02,   3.14810000e+02,   3.11670000e+02,\n",
       "          6.26860000e+02,   3.83280000e+06]])"
      ]
     },
     "execution_count": 7,
     "metadata": {},
     "output_type": "execute_result"
    }
   ],
   "source": [
    "transform = lambda item: item.replace(\",\", \"\") if type(item)==np.str else item\n",
    "vfunc = np.vectorize(transform, otypes=[np.float])\n",
    "training_set =  vfunc(training_set)\n",
    "training_set[:10]"
   ]
  },
  {
   "cell_type": "markdown",
   "metadata": {},
   "source": [
    "Feature scaling: Normalisation"
   ]
  },
  {
   "cell_type": "code",
   "execution_count": 8,
   "metadata": {
    "collapsed": true
   },
   "outputs": [],
   "source": [
    "from sklearn.preprocessing import MinMaxScaler\n",
    "sc = MinMaxScaler(feature_range=(0,1))"
   ]
  },
  {
   "cell_type": "code",
   "execution_count": 9,
   "metadata": {
    "collapsed": true
   },
   "outputs": [],
   "source": [
    "training_set_scaled = np.zeros(training_set.shape)"
   ]
  },
  {
   "cell_type": "code",
   "execution_count": 10,
   "metadata": {
    "collapsed": false
   },
   "outputs": [],
   "source": [
    "sc_dict = {}\n",
    "for idx in range(features):\n",
    "    sc_dict[idx] = MinMaxScaler(feature_range=(0,1))\n",
    "    new_value = sc_dict[idx].fit_transform(training_set[:,idx].reshape(-1,1))\n",
    "    new_value = new_value.reshape((len(new_value),))\n",
    "    training_set_scaled[:,idx] = new_value"
   ]
  },
  {
   "cell_type": "code",
   "execution_count": 11,
   "metadata": {
    "collapsed": false
   },
   "outputs": [
    {
     "data": {
      "text/plain": [
       "array([[ 0.09701243,  0.09834351,  0.09823458,  0.24151427,  0.22993592],\n",
       "       [ 0.09433366,  0.09251685,  0.09408623,  0.22878051,  0.26361233],\n",
       "       [ 0.09156187,  0.08881917,  0.08800576,  0.21641884,  0.21617942],\n",
       "       [ 0.07984225,  0.07671765,  0.06106986,  0.1785483 ,  0.46779736],\n",
       "       [ 0.0643277 ,  0.06444805,  0.05697833,  0.17947163,  0.35306768],\n",
       "       [ 0.0585423 ,  0.06033951,  0.06095621,  0.18335791,  0.19262715],\n",
       "       [ 0.06568569,  0.063589  ,  0.06603273,  0.18841558,  0.15044053],\n",
       "       [ 0.06109085,  0.05806114,  0.06089938,  0.18202114,  0.18517821],\n",
       "       [ 0.06639259,  0.06274861,  0.0652561 ,  0.18695478,  0.15317982]])"
      ]
     },
     "execution_count": 11,
     "metadata": {},
     "output_type": "execute_result"
    }
   ],
   "source": [
    "training_set_scaled[1:10]"
   ]
  },
  {
   "cell_type": "markdown",
   "metadata": {},
   "source": [
    "** Creating a data structure with 60 timesteps and 1 output **"
   ]
  },
  {
   "cell_type": "code",
   "execution_count": 12,
   "metadata": {
    "collapsed": true
   },
   "outputs": [],
   "source": [
    "X_train = np.zeros((len(training_set_scaled) - steps, steps, features))\n",
    "y_train = np.zeros(len(training_set_scaled) - steps)"
   ]
  },
  {
   "cell_type": "code",
   "execution_count": 13,
   "metadata": {
    "collapsed": false
   },
   "outputs": [],
   "source": [
    "for idx in range(steps, len(training_set_scaled)):\n",
    "    for jdx in range(steps):\n",
    "        for kdx in range(features):\n",
    "            X_train[idx - steps, jdx, kdx] = training_set_scaled[idx - steps + jdx, kdx]\n",
    "    y_train[idx - steps] = training_set_scaled[idx, 0]"
   ]
  },
  {
   "cell_type": "code",
   "execution_count": 14,
   "metadata": {
    "collapsed": false
   },
   "outputs": [
    {
     "data": {
      "text/plain": [
       "((1198, 60, 5), (1198,))"
      ]
     },
     "execution_count": 14,
     "metadata": {},
     "output_type": "execute_result"
    }
   ],
   "source": [
    "X_train.shape, y_train.shape"
   ]
  },
  {
   "cell_type": "code",
   "execution_count": 15,
   "metadata": {
    "collapsed": false
   },
   "outputs": [
    {
     "data": {
      "text/plain": [
       "array([[ 0.08581368,  0.09640129,  0.09044931,  0.23757287,  0.29525831],\n",
       "       [ 0.09701243,  0.09834351,  0.09823458,  0.24151427,  0.22993592],\n",
       "       [ 0.09433366,  0.09251685,  0.09408623,  0.22878051,  0.26361233],\n",
       "       [ 0.09156187,  0.08881917,  0.08800576,  0.21641884,  0.21617942],\n",
       "       [ 0.07984225,  0.07671765,  0.06106986,  0.1785483 ,  0.46779736],\n",
       "       [ 0.0643277 ,  0.06444805,  0.05697833,  0.17947163,  0.35306768],\n",
       "       [ 0.0585423 ,  0.06033951,  0.06095621,  0.18335791,  0.19262715],\n",
       "       [ 0.06568569,  0.063589  ,  0.06603273,  0.18841558,  0.15044053],\n",
       "       [ 0.06109085,  0.05806114,  0.06089938,  0.18202114,  0.18517821],\n",
       "       [ 0.06639259,  0.06274861,  0.0652561 ,  0.18695478,  0.15317982],\n",
       "       [ 0.0614257 ,  0.06463481,  0.06190332,  0.19290823,  0.22171005],\n",
       "       [ 0.07474514,  0.07113377,  0.07071147,  0.2020589 ,  0.50660392],\n",
       "       [ 0.02797827,  0.02463257,  0.0237536 ,  0.12842633,  0.84997597],\n",
       "       [ 0.02379269,  0.02244757,  0.02513638,  0.12777862,  0.27406488],\n",
       "       [ 0.02409033,  0.02153249,  0.02026822,  0.12146686,  0.24535443],\n",
       "       [ 0.0159238 ,  0.01318468,  0.00930065,  0.1057426 ,  0.40067281],\n",
       "       [ 0.01078949,  0.00926289,  0.00757691,  0.10382702,  0.25905487],\n",
       "       [ 0.00967334,  0.01469737,  0.01208516,  0.12015766,  0.29051262],\n",
       "       [ 0.01642607,  0.01439857,  0.01593044,  0.11701556,  0.18704445],\n",
       "       [ 0.02100231,  0.01811493,  0.01757842,  0.12033681,  0.1719183 ],\n",
       "       [ 0.02280676,  0.01951557,  0.02134793,  0.12132905,  0.18625551],\n",
       "       [ 0.02273235,  0.02035595,  0.0241135 ,  0.12721359,  0.19381258],\n",
       "       [ 0.02810849,  0.03027247,  0.0297583 ,  0.14263468,  0.2544173 ],\n",
       "       [ 0.03212665,  0.04306497,  0.03538415,  0.16016427,  0.29550661],\n",
       "       [ 0.0433812 ,  0.04173903,  0.04457115,  0.15698083,  0.16787345],\n",
       "       [ 0.04475779,  0.04355053,  0.04549932,  0.16121164,  0.14731678],\n",
       "       [ 0.04790163,  0.04648253,  0.04951508,  0.1634304 ,  0.1817541 ],\n",
       "       [ 0.0440695 ,  0.0405625 ,  0.04479845,  0.15579565,  0.18661594],\n",
       "       [ 0.04648783,  0.04586625,  0.05048113,  0.16443642,  0.14570284],\n",
       "       [ 0.04745517,  0.04416681,  0.04551826,  0.16108761,  0.14469363],\n",
       "       [ 0.04873875,  0.04502587,  0.04343461,  0.15531331,  0.19471366],\n",
       "       [ 0.03936305,  0.04119745,  0.03888847,  0.1566363 ,  0.20315579],\n",
       "       [ 0.04137213,  0.04009562,  0.04330202,  0.15404545,  0.19657589],\n",
       "       [ 0.04034898,  0.04963864,  0.04373769,  0.16691702,  0.19912695],\n",
       "       [ 0.04784582,  0.0486115 ,  0.04735566,  0.15859322,  0.15782139],\n",
       "       [ 0.04325099,  0.04037574,  0.04135096,  0.15607128,  0.16489387],\n",
       "       [ 0.04356723,  0.04383065,  0.04621912,  0.16128054,  0.15529435],\n",
       "       [ 0.04286033,  0.04450296,  0.04580239,  0.16046746,  0.14551061],\n",
       "       [ 0.04602277,  0.0513941 ,  0.04828383,  0.17295316,  0.22861434],\n",
       "       [ 0.05398467,  0.05680991,  0.05565237,  0.17276022,  0.25187425],\n",
       "       [ 0.05738894,  0.05690328,  0.05815275,  0.17846561,  0.1795795 ],\n",
       "       [ 0.05714711,  0.05531589,  0.06019851,  0.17688078,  0.1261674 ],\n",
       "       [ 0.05569611,  0.05391525,  0.05176921,  0.16726155,  0.12777333],\n",
       "       [ 0.04421832,  0.04119745,  0.03521367,  0.15448645,  0.25488987],\n",
       "       [ 0.04514845,  0.04340112,  0.04656008,  0.15702217,  0.10134161],\n",
       "       [ 0.04605997,  0.04369993,  0.0470147 ,  0.15749073,  0.10784942],\n",
       "       [ 0.04412531,  0.04407343,  0.04102894,  0.1480231 ,  0.21438526],\n",
       "       [ 0.03675869,  0.03951669,  0.04032808,  0.15474829,  0.13386063],\n",
       "       [ 0.04486941,  0.04960128,  0.04625701,  0.17211251,  0.18023228],\n",
       "       [ 0.05065481,  0.05419538,  0.05372026,  0.16964569,  0.23579495],\n",
       "       [ 0.05214302,  0.05486769,  0.05502728,  0.17671541,  0.19545054],\n",
       "       [ 0.05612397,  0.05710871,  0.05995227,  0.18209005,  0.24492992],\n",
       "       [ 0.05818885,  0.06767886,  0.06106986,  0.19436903,  0.17436524],\n",
       "       [ 0.06540665,  0.06653968,  0.06675254,  0.19370754,  0.12352823],\n",
       "       [ 0.06882953,  0.07709115,  0.07169647,  0.20262393,  0.19822587],\n",
       "       [ 0.07243843,  0.07839842,  0.0702758 ,  0.21096151,  0.19345214],\n",
       "       [ 0.07993526,  0.07811829,  0.07961434,  0.20620702,  0.1556628 ],\n",
       "       [ 0.07846566,  0.07903337,  0.0783452 ,  0.21546794,  0.14593512],\n",
       "       [ 0.08034452,  0.08276841,  0.08330808,  0.21229828,  0.16105326],\n",
       "       [ 0.08497656,  0.08751191,  0.08921806,  0.22430164,  0.20379656]])"
      ]
     },
     "execution_count": 15,
     "metadata": {},
     "output_type": "execute_result"
    }
   ],
   "source": [
    "X_train[0]"
   ]
  },
  {
   "cell_type": "code",
   "execution_count": 16,
   "metadata": {
    "collapsed": false
   },
   "outputs": [
    {
     "data": {
      "text/plain": [
       "array([ 0.08627874,  0.08471612,  0.07454052,  0.07883771,  0.07238262,\n",
       "        0.06663442,  0.06315574,  0.06782499,  0.06823424,  0.07601012])"
      ]
     },
     "execution_count": 16,
     "metadata": {},
     "output_type": "execute_result"
    }
   ],
   "source": [
    "y_train[:10]"
   ]
  },
  {
   "cell_type": "markdown",
   "metadata": {},
   "source": [
    "**Reshaping the data**\n",
    "\n",
    "https://keras.io/layers/recurrent/\n",
    "\n",
    "To add new indicators"
   ]
  },
  {
   "cell_type": "code",
   "execution_count": 17,
   "metadata": {
    "collapsed": false
   },
   "outputs": [
    {
     "data": {
      "text/plain": [
       "(1198, 60, 5)"
      ]
     },
     "execution_count": 17,
     "metadata": {},
     "output_type": "execute_result"
    }
   ],
   "source": [
    "X_train.shape"
   ]
  },
  {
   "cell_type": "markdown",
   "metadata": {},
   "source": [
    "## 2. Building the RNN"
   ]
  },
  {
   "cell_type": "code",
   "execution_count": 18,
   "metadata": {
    "collapsed": false
   },
   "outputs": [
    {
     "name": "stderr",
     "output_type": "stream",
     "text": [
      "Using TensorFlow backend.\n"
     ]
    }
   ],
   "source": [
    "from keras.models import Sequential\n",
    "from keras.layers import Dense\n",
    "from keras.layers import LSTM\n",
    "from keras.layers import Dropout"
   ]
  },
  {
   "cell_type": "markdown",
   "metadata": {},
   "source": [
    "Initializing the RNN"
   ]
  },
  {
   "cell_type": "code",
   "execution_count": 19,
   "metadata": {
    "collapsed": true
   },
   "outputs": [],
   "source": [
    "regressor = Sequential()"
   ]
  },
  {
   "cell_type": "markdown",
   "metadata": {},
   "source": [
    "Configuring the LSTM neural network\n",
    "\n",
    "* return_sequences=True if after the LSTM layer goes another LSTM layer\n",
    "* optimizer: recomended \"RMSprop\"; \"adam\" also ok "
   ]
  },
  {
   "cell_type": "code",
   "execution_count": 20,
   "metadata": {
    "collapsed": false
   },
   "outputs": [],
   "source": [
    "regressor.add(LSTM(units=50, return_sequences=True, input_shape=(X_train.shape[1], features)))\n",
    "regressor.add(Dropout(0.20))\n",
    "regressor.add(LSTM(units=50, return_sequences=True))\n",
    "regressor.add(Dropout(0.20))\n",
    "regressor.add(LSTM(units=50, return_sequences=True))\n",
    "regressor.add(Dropout(0.20))\n",
    "regressor.add(LSTM(units=50))\n",
    "regressor.add(Dropout(0.20))\n",
    "regressor.add(Dense(units=1))\n",
    "regressor.compile(optimizer = 'adam', loss = 'mean_squared_error')"
   ]
  },
  {
   "cell_type": "code",
   "execution_count": 21,
   "metadata": {
    "collapsed": false
   },
   "outputs": [
    {
     "name": "stdout",
     "output_type": "stream",
     "text": [
      "Epoch 1/100\n",
      "1198/1198 [==============================] - 5s - loss: 0.0413     \n",
      "Epoch 2/100\n",
      "1198/1198 [==============================] - 6s - loss: 0.0060     \n",
      "Epoch 3/100\n",
      "1198/1198 [==============================] - 4s - loss: 0.0049     \n",
      "Epoch 4/100\n",
      "1198/1198 [==============================] - 6s - loss: 0.0050     \n",
      "Epoch 5/100\n",
      "1198/1198 [==============================] - 6s - loss: 0.0050     \n",
      "Epoch 6/100\n",
      "1198/1198 [==============================] - 6s - loss: 0.0045     \n",
      "Epoch 7/100\n",
      "1198/1198 [==============================] - 6s - loss: 0.0049     \n",
      "Epoch 8/100\n",
      "1198/1198 [==============================] - 6s - loss: 0.0050     \n",
      "Epoch 9/100\n",
      "1198/1198 [==============================] - 8s - loss: 0.0040     \n",
      "Epoch 10/100\n",
      "1198/1198 [==============================] - 6s - loss: 0.0039     \n",
      "Epoch 11/100\n",
      "1198/1198 [==============================] - 5s - loss: 0.0039     \n",
      "Epoch 12/100\n",
      "1198/1198 [==============================] - 7s - loss: 0.0036     \n",
      "Epoch 13/100\n",
      "1198/1198 [==============================] - 5s - loss: 0.0036     \n",
      "Epoch 14/100\n",
      "1198/1198 [==============================] - 7s - loss: 0.0038     \n",
      "Epoch 15/100\n",
      "1198/1198 [==============================] - 7s - loss: 0.0036     \n",
      "Epoch 16/100\n",
      "1198/1198 [==============================] - 7s - loss: 0.0038     \n",
      "Epoch 17/100\n",
      "1198/1198 [==============================] - 7s - loss: 0.0035     \n",
      "Epoch 18/100\n",
      "1198/1198 [==============================] - 6s - loss: 0.0035     \n",
      "Epoch 19/100\n",
      "1198/1198 [==============================] - 5s - loss: 0.0035     \n",
      "Epoch 20/100\n",
      "1198/1198 [==============================] - 6s - loss: 0.0032     \n",
      "Epoch 21/100\n",
      "1198/1198 [==============================] - 7s - loss: 0.0033     \n",
      "Epoch 22/100\n",
      "1198/1198 [==============================] - 6s - loss: 0.0034     \n",
      "Epoch 23/100\n",
      "1198/1198 [==============================] - 6s - loss: 0.0031     \n",
      "Epoch 24/100\n",
      "1198/1198 [==============================] - 7s - loss: 0.0030     \n",
      "Epoch 25/100\n",
      "1198/1198 [==============================] - 6s - loss: 0.0033     \n",
      "Epoch 26/100\n",
      "1198/1198 [==============================] - 7s - loss: 0.0029     \n",
      "Epoch 27/100\n",
      "1198/1198 [==============================] - 7s - loss: 0.0029     \n",
      "Epoch 28/100\n",
      "1198/1198 [==============================] - 6s - loss: 0.0030     \n",
      "Epoch 29/100\n",
      "1198/1198 [==============================] - 5s - loss: 0.0029     \n",
      "Epoch 30/100\n",
      "1198/1198 [==============================] - 7s - loss: 0.0028     \n",
      "Epoch 31/100\n",
      "1198/1198 [==============================] - 7s - loss: 0.0027     \n",
      "Epoch 32/100\n",
      "1198/1198 [==============================] - 7s - loss: 0.0026     \n",
      "Epoch 33/100\n",
      "1198/1198 [==============================] - 6s - loss: 0.0027     \n",
      "Epoch 34/100\n",
      "1198/1198 [==============================] - 6s - loss: 0.0031     \n",
      "Epoch 35/100\n",
      "1198/1198 [==============================] - 5s - loss: 0.0028     \n",
      "Epoch 36/100\n",
      "1198/1198 [==============================] - 7s - loss: 0.0026     \n",
      "Epoch 37/100\n",
      "1198/1198 [==============================] - 6s - loss: 0.0025     \n",
      "Epoch 38/100\n",
      "1198/1198 [==============================] - 6s - loss: 0.0023     \n",
      "Epoch 39/100\n",
      "1198/1198 [==============================] - 6s - loss: 0.0024     \n",
      "Epoch 40/100\n",
      "1198/1198 [==============================] - 7s - loss: 0.0025     \n",
      "Epoch 41/100\n",
      "1198/1198 [==============================] - 7s - loss: 0.0025     \n",
      "Epoch 42/100\n",
      "1198/1198 [==============================] - 7s - loss: 0.0024     \n",
      "Epoch 43/100\n",
      "1198/1198 [==============================] - 7s - loss: 0.0023     \n",
      "Epoch 44/100\n",
      "1198/1198 [==============================] - 7s - loss: 0.0020     \n",
      "Epoch 45/100\n",
      "1198/1198 [==============================] - 7s - loss: 0.0022     \n",
      "Epoch 46/100\n",
      "1198/1198 [==============================] - 5s - loss: 0.0023     \n",
      "Epoch 47/100\n",
      "1198/1198 [==============================] - 7s - loss: 0.0022     \n",
      "Epoch 48/100\n",
      "1198/1198 [==============================] - 7s - loss: 0.0023     \n",
      "Epoch 49/100\n",
      "1198/1198 [==============================] - 7s - loss: 0.0021     \n",
      "Epoch 50/100\n",
      "1198/1198 [==============================] - 6s - loss: 0.0022     \n",
      "Epoch 51/100\n",
      "1198/1198 [==============================] - 6s - loss: 0.0021     \n",
      "Epoch 52/100\n",
      "1198/1198 [==============================] - 6s - loss: 0.0019     \n",
      "Epoch 53/100\n",
      "1198/1198 [==============================] - 7s - loss: 0.0025     \n",
      "Epoch 54/100\n",
      "1198/1198 [==============================] - 7s - loss: 0.0020     \n",
      "Epoch 55/100\n",
      "1198/1198 [==============================] - 7s - loss: 0.0021     \n",
      "Epoch 56/100\n",
      "1198/1198 [==============================] - 7s - loss: 0.0022     \n",
      "Epoch 57/100\n",
      "1198/1198 [==============================] - 7s - loss: 0.0019     \n",
      "Epoch 58/100\n",
      "1198/1198 [==============================] - 7s - loss: 0.0022     \n",
      "Epoch 59/100\n",
      "1198/1198 [==============================] - 7s - loss: 0.0021     \n",
      "Epoch 60/100\n",
      "1198/1198 [==============================] - 7s - loss: 0.0018     \n",
      "Epoch 61/100\n",
      "1198/1198 [==============================] - 8s - loss: 0.0019     \n",
      "Epoch 62/100\n",
      "1198/1198 [==============================] - 8s - loss: 0.0022     \n",
      "Epoch 63/100\n",
      "1198/1198 [==============================] - 7s - loss: 0.0018     \n",
      "Epoch 64/100\n",
      "1198/1198 [==============================] - 8s - loss: 0.0019     \n",
      "Epoch 65/100\n",
      "1198/1198 [==============================] - 8s - loss: 0.0020     \n",
      "Epoch 66/100\n",
      "1198/1198 [==============================] - 7s - loss: 0.0019     \n",
      "Epoch 67/100\n",
      "1198/1198 [==============================] - 6s - loss: 0.0019     \n",
      "Epoch 68/100\n",
      "1198/1198 [==============================] - 8s - loss: 0.0020     \n",
      "Epoch 69/100\n",
      "1198/1198 [==============================] - 8s - loss: 0.0018     \n",
      "Epoch 70/100\n",
      "1198/1198 [==============================] - 8s - loss: 0.0018     \n",
      "Epoch 71/100\n",
      "1198/1198 [==============================] - 8s - loss: 0.0017     \n",
      "Epoch 72/100\n",
      "1198/1198 [==============================] - 7s - loss: 0.0016     \n",
      "Epoch 73/100\n",
      "1198/1198 [==============================] - 7s - loss: 0.0015     \n",
      "Epoch 74/100\n",
      "1198/1198 [==============================] - 8s - loss: 0.0017     \n",
      "Epoch 75/100\n",
      "1198/1198 [==============================] - 8s - loss: 0.0017     \n",
      "Epoch 76/100\n",
      "1198/1198 [==============================] - 8s - loss: 0.0016     \n",
      "Epoch 77/100\n",
      "1198/1198 [==============================] - 8s - loss: 0.0016     \n",
      "Epoch 78/100\n",
      "1198/1198 [==============================] - 8s - loss: 0.0024     \n",
      "Epoch 79/100\n",
      "1198/1198 [==============================] - 8s - loss: 0.0018     \n",
      "Epoch 80/100\n",
      "1198/1198 [==============================] - 8s - loss: 0.0015     \n",
      "Epoch 81/100\n",
      "1198/1198 [==============================] - 6s - loss: 0.0015     \n",
      "Epoch 82/100\n",
      "1198/1198 [==============================] - 8s - loss: 0.0017     \n",
      "Epoch 83/100\n",
      "1198/1198 [==============================] - 8s - loss: 0.0015     \n",
      "Epoch 84/100\n",
      "1198/1198 [==============================] - 8s - loss: 0.0015     \n",
      "Epoch 85/100\n",
      "1198/1198 [==============================] - 7s - loss: 0.0013     \n",
      "Epoch 86/100\n",
      "1198/1198 [==============================] - 7s - loss: 0.0014     \n",
      "Epoch 87/100\n",
      "1198/1198 [==============================] - 8s - loss: 0.0014     \n",
      "Epoch 88/100\n",
      "1198/1198 [==============================] - 8s - loss: 0.0015     \n",
      "Epoch 89/100\n",
      "1198/1198 [==============================] - 8s - loss: 0.0013     \n",
      "Epoch 90/100\n",
      "1198/1198 [==============================] - 7s - loss: 0.0014     \n",
      "Epoch 91/100\n",
      "1198/1198 [==============================] - 7s - loss: 0.0015     \n",
      "Epoch 92/100\n",
      "1198/1198 [==============================] - 7s - loss: 0.0018     \n",
      "Epoch 93/100\n",
      "1198/1198 [==============================] - 7s - loss: 0.0014     \n",
      "Epoch 94/100\n",
      "1198/1198 [==============================] - 8s - loss: 0.0013     \n",
      "Epoch 95/100\n",
      "1198/1198 [==============================] - 8s - loss: 0.0014     \n",
      "Epoch 96/100\n",
      "1198/1198 [==============================] - 7s - loss: 0.0013     \n",
      "Epoch 97/100\n",
      "1198/1198 [==============================] - 6s - loss: 0.0014     \n",
      "Epoch 98/100\n",
      "1198/1198 [==============================] - 8s - loss: 0.0014     \n",
      "Epoch 99/100\n",
      "1198/1198 [==============================] - 8s - loss: 0.0013     \n",
      "Epoch 100/100\n",
      "1198/1198 [==============================] - 8s - loss: 0.0013     \n"
     ]
    },
    {
     "data": {
      "text/plain": [
       "<keras.callbacks.History at 0x7fb739f55d30>"
      ]
     },
     "execution_count": 21,
     "metadata": {},
     "output_type": "execute_result"
    }
   ],
   "source": [
    "# epochs = 100\n",
    "\n",
    "regressor.fit(X_train, y_train, batch_size = 32, epochs = 100)"
   ]
  },
  {
   "cell_type": "markdown",
   "metadata": {},
   "source": [
    "## 3. Making the predictions and visualising the results"
   ]
  },
  {
   "cell_type": "markdown",
   "metadata": {},
   "source": [
    "Getting the real stock price of 2017"
   ]
  },
  {
   "cell_type": "code",
   "execution_count": 22,
   "metadata": {
    "collapsed": true
   },
   "outputs": [],
   "source": [
    "dataset_test = pd.read_csv('Google_Stock_Price_Test.csv')\n",
    "real_stock_price = dataset_test.iloc[:,idx_predict_raw].values"
   ]
  },
  {
   "cell_type": "markdown",
   "metadata": {},
   "source": [
    "Getting the predicted stock price of 2017"
   ]
  },
  {
   "cell_type": "code",
   "execution_count": 23,
   "metadata": {
    "collapsed": false
   },
   "outputs": [],
   "source": [
    "dataset_total = pd.concat((dataset_train, dataset_test), axis=0)\n",
    "\n",
    "inputs = dataset_total.iloc[len(dataset_total) - len(dataset_test) - 60:,idx_features].values"
   ]
  },
  {
   "cell_type": "code",
   "execution_count": 24,
   "metadata": {
    "collapsed": false
   },
   "outputs": [
    {
     "data": {
      "text/plain": [
       "(80, 5)"
      ]
     },
     "execution_count": 24,
     "metadata": {},
     "output_type": "execute_result"
    }
   ],
   "source": [
    "inputs.shape"
   ]
  },
  {
   "cell_type": "code",
   "execution_count": 25,
   "metadata": {
    "collapsed": false
   },
   "outputs": [
    {
     "data": {
      "text/plain": [
       "array([[779.0, 780.48, 775.54, '776.86', '1,070,700'],\n",
       "       [779.66, 779.66, 770.75, '775.08', '933,200'],\n",
       "       [777.71, 789.38, 775.87, '785.94', '1,174,900'],\n",
       "       [786.66, 792.28, 780.58, '783.07', '1,372,500'],\n",
       "       [783.76, 788.13, 782.06, '786.14', '937,400'],\n",
       "       [781.22, 781.22, 773.0, '778.19', '1,365,300'],\n",
       "       [781.65, 783.95, 776.0, '778.53', '852,500'],\n",
       "       [779.8, 785.85, 777.5, '779.96', '1,093,000'],\n",
       "       [787.85, 801.61, 785.57, '795.26', '2,056,900'],\n",
       "       [798.24, 804.6, 798.03, '801.5', '1,766,800']], dtype=object)"
      ]
     },
     "execution_count": 25,
     "metadata": {},
     "output_type": "execute_result"
    }
   ],
   "source": [
    "inputs[:10]"
   ]
  },
  {
   "cell_type": "code",
   "execution_count": 26,
   "metadata": {
    "collapsed": false
   },
   "outputs": [
    {
     "data": {
      "text/plain": [
       "array([[  7.79000000e+02,   7.80480000e+02,   7.75540000e+02,\n",
       "          7.76860000e+02,   1.07070000e+06],\n",
       "       [  7.79660000e+02,   7.79660000e+02,   7.70750000e+02,\n",
       "          7.75080000e+02,   9.33200000e+05],\n",
       "       [  7.77710000e+02,   7.89380000e+02,   7.75870000e+02,\n",
       "          7.85940000e+02,   1.17490000e+06],\n",
       "       [  7.86660000e+02,   7.92280000e+02,   7.80580000e+02,\n",
       "          7.83070000e+02,   1.37250000e+06],\n",
       "       [  7.83760000e+02,   7.88130000e+02,   7.82060000e+02,\n",
       "          7.86140000e+02,   9.37400000e+05],\n",
       "       [  7.81220000e+02,   7.81220000e+02,   7.73000000e+02,\n",
       "          7.78190000e+02,   1.36530000e+06],\n",
       "       [  7.81650000e+02,   7.83950000e+02,   7.76000000e+02,\n",
       "          7.78530000e+02,   8.52500000e+05],\n",
       "       [  7.79800000e+02,   7.85850000e+02,   7.77500000e+02,\n",
       "          7.79960000e+02,   1.09300000e+06],\n",
       "       [  7.87850000e+02,   8.01610000e+02,   7.85570000e+02,\n",
       "          7.95260000e+02,   2.05690000e+06],\n",
       "       [  7.98240000e+02,   8.04600000e+02,   7.98030000e+02,\n",
       "          8.01500000e+02,   1.76680000e+06]])"
      ]
     },
     "execution_count": 26,
     "metadata": {},
     "output_type": "execute_result"
    }
   ],
   "source": [
    "inputs =  vfunc(inputs)\n",
    "inputs[:10]"
   ]
  },
  {
   "cell_type": "code",
   "execution_count": 27,
   "metadata": {
    "collapsed": true
   },
   "outputs": [],
   "source": [
    "for idx in range(features):\n",
    "    new_value = sc_dict[idx].fit_transform(inputs[:,idx].reshape(-1,1))\n",
    "    new_value = new_value.reshape((len(new_value),))\n",
    "    inputs[:,idx] = new_value"
   ]
  },
  {
   "cell_type": "code",
   "execution_count": 28,
   "metadata": {
    "collapsed": false
   },
   "outputs": [
    {
     "data": {
      "text/plain": [
       "array([[ 0.3691268 ,  0.30108016,  0.48255756,  0.40947886,  0.11623936],\n",
       "       [ 0.37620682,  0.29175668,  0.43440233,  0.39160558,  0.08316898],\n",
       "       [ 0.35528856,  0.40227402,  0.48587514,  0.50065268,  0.14130069],\n",
       "       [ 0.451298  ,  0.4352473 ,  0.5332261 ,  0.47183452,  0.18882582],\n",
       "       [ 0.4201888 ,  0.3880614 ,  0.54810496,  0.50266091,  0.08417913],\n",
       "       [ 0.39294143,  0.30949403,  0.45702222,  0.42283362,  0.18709414],\n",
       "       [ 0.39755417,  0.34053439,  0.48718206,  0.42624762,  0.06375968],\n",
       "       [ 0.37770865,  0.36213758,  0.50226199,  0.44060649,  0.12160277],\n",
       "       [ 0.46406351,  0.5413303 ,  0.58339198,  0.59423637,  0.3534321 ],\n",
       "       [ 0.57552027,  0.57532689,  0.70865588,  0.65689326,  0.28365963]])"
      ]
     },
     "execution_count": 28,
     "metadata": {},
     "output_type": "execute_result"
    }
   ],
   "source": [
    "inputs[:10]"
   ]
  },
  {
   "cell_type": "code",
   "execution_count": 29,
   "metadata": {
    "collapsed": true
   },
   "outputs": [],
   "source": [
    "X_test = np.zeros((len(inputs) - steps, steps, features))"
   ]
  },
  {
   "cell_type": "code",
   "execution_count": 30,
   "metadata": {
    "collapsed": false
   },
   "outputs": [],
   "source": [
    "for idx in range(steps, len(inputs)):\n",
    "    for jdx in range(steps):\n",
    "        for kdx in range(features):\n",
    "            X_test[idx - steps, jdx, kdx] = inputs[idx - steps + jdx, kdx]"
   ]
  },
  {
   "cell_type": "code",
   "execution_count": 31,
   "metadata": {
    "collapsed": true
   },
   "outputs": [],
   "source": [
    "# X_test = []\n",
    "# for i in range(60, len(inputs)):\n",
    "#     X_test.append(inputs[i-60:i, 0])\n",
    "# X_test = np.array(X_test)"
   ]
  },
  {
   "cell_type": "code",
   "execution_count": 32,
   "metadata": {
    "collapsed": false
   },
   "outputs": [
    {
     "data": {
      "text/plain": [
       "(20, 60, 5)"
      ]
     },
     "execution_count": 32,
     "metadata": {},
     "output_type": "execute_result"
    }
   ],
   "source": [
    "X_test.shape"
   ]
  },
  {
   "cell_type": "code",
   "execution_count": 33,
   "metadata": {
    "collapsed": false
   },
   "outputs": [],
   "source": [
    "predicted_stock_price = regressor.predict(X_test)"
   ]
  },
  {
   "cell_type": "code",
   "execution_count": 34,
   "metadata": {
    "collapsed": true
   },
   "outputs": [],
   "source": [
    "predicted_stock_price = sc_dict[idx_predict_for].inverse_transform(predicted_stock_price)"
   ]
  },
  {
   "cell_type": "code",
   "execution_count": 35,
   "metadata": {
    "collapsed": false
   },
   "outputs": [
    {
     "data": {
      "text/plain": [
       "(20, 1)"
      ]
     },
     "execution_count": 35,
     "metadata": {},
     "output_type": "execute_result"
    }
   ],
   "source": [
    "predicted_stock_price.shape"
   ]
  },
  {
   "cell_type": "code",
   "execution_count": 36,
   "metadata": {
    "collapsed": false
   },
   "outputs": [
    {
     "data": {
      "text/plain": [
       "array([[ 786.63781738],\n",
       "       [ 784.10943604],\n",
       "       [ 784.16046143],\n",
       "       [ 786.72680664],\n",
       "       [ 792.32971191],\n",
       "       [ 799.12689209],\n",
       "       [ 803.68682861],\n",
       "       [ 805.10565186],\n",
       "       [ 804.50079346],\n",
       "       [ 804.29046631],\n",
       "       [ 804.05993652],\n",
       "       [ 803.80627441],\n",
       "       [ 803.81018066],\n",
       "       [ 804.24591064],\n",
       "       [ 806.9072876 ],\n",
       "       [ 812.42028809],\n",
       "       [ 819.95898438],\n",
       "       [ 825.46044922],\n",
       "       [ 826.15167236],\n",
       "       [ 819.36645508]], dtype=float32)"
      ]
     },
     "execution_count": 36,
     "metadata": {},
     "output_type": "execute_result"
    }
   ],
   "source": [
    "predicted_stock_price"
   ]
  },
  {
   "cell_type": "markdown",
   "metadata": {},
   "source": [
    "Visualizing the final results"
   ]
  },
  {
   "cell_type": "code",
   "execution_count": 39,
   "metadata": {
    "collapsed": false
   },
   "outputs": [
    {
     "data": {
      "image/png": "[encoded data removed]",
      "text/plain": [
       "<matplotlib.figure.Figure at 0x7fb739c9ce10>"
      ]
     },
     "metadata": {},
     "output_type": "display_data"
    }
   ],
   "source": [
    "plt.plot(real_stock_price, color = 'red', \n",
    "         label = 'Real Google Stock Price')\n",
    "\n",
    "plt.plot(predicted_stock_price, color = 'blue', \n",
    "         label = 'Predicted Google Stock Price')\n",
    "\n",
    "plt.title('Google Stock Price Prediction')\n",
    "plt.xlabel('Time')\n",
    "plt.ylabel('Google Stock Price')\n",
    "plt.legend(loc=2)\n",
    "plt.show()"
   ]
  },
  {
   "cell_type": "code",
   "execution_count": null,
   "metadata": {
    "collapsed": true
   },
   "outputs": [],
   "source": []
  }
 ],
 "metadata": {
  "anaconda-cloud": {},
  "kernelspec": {
   "display_name": "Python [conda env:deep_learning]",
   "language": "python",
   "name": "conda-env-deep_learning-py"
  },
  "language_info": {
   "codemirror_mode": {
    "name": "ipython",
    "version": 3
   },
   "file_extension": ".py",
   "mimetype": "text/x-python",
   "name": "python",
   "nbconvert_exporter": "python",
   "pygments_lexer": "ipython3",
   "version": "3.5.2"
  }
 },
 "nbformat": 4,
 "nbformat_minor": 1
}
