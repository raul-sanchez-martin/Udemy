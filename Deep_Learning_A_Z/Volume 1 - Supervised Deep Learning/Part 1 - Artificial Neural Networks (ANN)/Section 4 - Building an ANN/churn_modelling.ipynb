{
 "cells": [
  {
   "cell_type": "markdown",
   "metadata": {},
   "source": [
    "# Building an Artificial Neural Network: Churn Modelling"
   ]
  },
  {
   "cell_type": "markdown",
   "metadata": {},
   "source": [
    "# 1. Data Preprocessing"
   ]
  },
  {
   "cell_type": "code",
   "execution_count": 43,
   "metadata": {},
   "outputs": [],
   "source": [
    "import numpy as np\n",
    "import matplotlib.pyplot as plt\n",
    "import pandas as pd\n",
    "from sklearn.cross_validation import train_test_split\n",
    "from sklearn.preprocessing import LabelEncoder, OneHotEncoder\n",
    "from sklearn.preprocessing import StandardScaler\n",
    "from sklearn.metrics import confusion_matrix, accuracy_score"
   ]
  },
  {
   "cell_type": "markdown",
   "metadata": {},
   "source": [
    "Load the raw data"
   ]
  },
  {
   "cell_type": "code",
   "execution_count": 49,
   "metadata": {},
   "outputs": [],
   "source": [
    "data_set = pd.read_csv(\"Churn_Modelling.csv\")\n",
    "X = data_set.iloc[:,3:13].values\n",
    "y = data_set.iloc[:,13].values"
   ]
  },
  {
   "cell_type": "code",
   "execution_count": 55,
   "metadata": {},
   "outputs": [
    {
     "data": {
      "text/html": [
       "<div>\n",
       "<style scoped>\n",
       "    .dataframe tbody tr th:only-of-type {\n",
       "        vertical-align: middle;\n",
       "    }\n",
       "\n",
       "    .dataframe tbody tr th {\n",
       "        vertical-align: top;\n",
       "    }\n",
       "\n",
       "    .dataframe thead th {\n",
       "        text-align: right;\n",
       "    }\n",
       "</style>\n",
       "<table border=\"1\" class=\"dataframe\">\n",
       "  <thead>\n",
       "    <tr style=\"text-align: right;\">\n",
       "      <th></th>\n",
       "      <th>RowNumber</th>\n",
       "      <th>CustomerId</th>\n",
       "      <th>Surname</th>\n",
       "      <th>CreditScore</th>\n",
       "      <th>Geography</th>\n",
       "      <th>Gender</th>\n",
       "      <th>Age</th>\n",
       "      <th>Tenure</th>\n",
       "      <th>Balance</th>\n",
       "      <th>NumOfProducts</th>\n",
       "      <th>HasCrCard</th>\n",
       "      <th>IsActiveMember</th>\n",
       "      <th>EstimatedSalary</th>\n",
       "      <th>Exited</th>\n",
       "    </tr>\n",
       "  </thead>\n",
       "  <tbody>\n",
       "    <tr>\n",
       "      <th>0</th>\n",
       "      <td>1</td>\n",
       "      <td>15634602</td>\n",
       "      <td>Hargrave</td>\n",
       "      <td>619</td>\n",
       "      <td>France</td>\n",
       "      <td>Female</td>\n",
       "      <td>42</td>\n",
       "      <td>2</td>\n",
       "      <td>0.00</td>\n",
       "      <td>1</td>\n",
       "      <td>1</td>\n",
       "      <td>1</td>\n",
       "      <td>101348.88</td>\n",
       "      <td>1</td>\n",
       "    </tr>\n",
       "    <tr>\n",
       "      <th>1</th>\n",
       "      <td>2</td>\n",
       "      <td>15647311</td>\n",
       "      <td>Hill</td>\n",
       "      <td>608</td>\n",
       "      <td>Spain</td>\n",
       "      <td>Female</td>\n",
       "      <td>41</td>\n",
       "      <td>1</td>\n",
       "      <td>83807.86</td>\n",
       "      <td>1</td>\n",
       "      <td>0</td>\n",
       "      <td>1</td>\n",
       "      <td>112542.58</td>\n",
       "      <td>0</td>\n",
       "    </tr>\n",
       "    <tr>\n",
       "      <th>2</th>\n",
       "      <td>3</td>\n",
       "      <td>15619304</td>\n",
       "      <td>Onio</td>\n",
       "      <td>502</td>\n",
       "      <td>France</td>\n",
       "      <td>Female</td>\n",
       "      <td>42</td>\n",
       "      <td>8</td>\n",
       "      <td>159660.80</td>\n",
       "      <td>3</td>\n",
       "      <td>1</td>\n",
       "      <td>0</td>\n",
       "      <td>113931.57</td>\n",
       "      <td>1</td>\n",
       "    </tr>\n",
       "    <tr>\n",
       "      <th>3</th>\n",
       "      <td>4</td>\n",
       "      <td>15701354</td>\n",
       "      <td>Boni</td>\n",
       "      <td>699</td>\n",
       "      <td>France</td>\n",
       "      <td>Female</td>\n",
       "      <td>39</td>\n",
       "      <td>1</td>\n",
       "      <td>0.00</td>\n",
       "      <td>2</td>\n",
       "      <td>0</td>\n",
       "      <td>0</td>\n",
       "      <td>93826.63</td>\n",
       "      <td>0</td>\n",
       "    </tr>\n",
       "    <tr>\n",
       "      <th>4</th>\n",
       "      <td>5</td>\n",
       "      <td>15737888</td>\n",
       "      <td>Mitchell</td>\n",
       "      <td>850</td>\n",
       "      <td>Spain</td>\n",
       "      <td>Female</td>\n",
       "      <td>43</td>\n",
       "      <td>2</td>\n",
       "      <td>125510.82</td>\n",
       "      <td>1</td>\n",
       "      <td>1</td>\n",
       "      <td>1</td>\n",
       "      <td>79084.10</td>\n",
       "      <td>0</td>\n",
       "    </tr>\n",
       "    <tr>\n",
       "      <th>5</th>\n",
       "      <td>6</td>\n",
       "      <td>15574012</td>\n",
       "      <td>Chu</td>\n",
       "      <td>645</td>\n",
       "      <td>Spain</td>\n",
       "      <td>Male</td>\n",
       "      <td>44</td>\n",
       "      <td>8</td>\n",
       "      <td>113755.78</td>\n",
       "      <td>2</td>\n",
       "      <td>1</td>\n",
       "      <td>0</td>\n",
       "      <td>149756.71</td>\n",
       "      <td>1</td>\n",
       "    </tr>\n",
       "    <tr>\n",
       "      <th>6</th>\n",
       "      <td>7</td>\n",
       "      <td>15592531</td>\n",
       "      <td>Bartlett</td>\n",
       "      <td>822</td>\n",
       "      <td>France</td>\n",
       "      <td>Male</td>\n",
       "      <td>50</td>\n",
       "      <td>7</td>\n",
       "      <td>0.00</td>\n",
       "      <td>2</td>\n",
       "      <td>1</td>\n",
       "      <td>1</td>\n",
       "      <td>10062.80</td>\n",
       "      <td>0</td>\n",
       "    </tr>\n",
       "    <tr>\n",
       "      <th>7</th>\n",
       "      <td>8</td>\n",
       "      <td>15656148</td>\n",
       "      <td>Obinna</td>\n",
       "      <td>376</td>\n",
       "      <td>Germany</td>\n",
       "      <td>Female</td>\n",
       "      <td>29</td>\n",
       "      <td>4</td>\n",
       "      <td>115046.74</td>\n",
       "      <td>4</td>\n",
       "      <td>1</td>\n",
       "      <td>0</td>\n",
       "      <td>119346.88</td>\n",
       "      <td>1</td>\n",
       "    </tr>\n",
       "    <tr>\n",
       "      <th>8</th>\n",
       "      <td>9</td>\n",
       "      <td>15792365</td>\n",
       "      <td>He</td>\n",
       "      <td>501</td>\n",
       "      <td>France</td>\n",
       "      <td>Male</td>\n",
       "      <td>44</td>\n",
       "      <td>4</td>\n",
       "      <td>142051.07</td>\n",
       "      <td>2</td>\n",
       "      <td>0</td>\n",
       "      <td>1</td>\n",
       "      <td>74940.50</td>\n",
       "      <td>0</td>\n",
       "    </tr>\n",
       "    <tr>\n",
       "      <th>9</th>\n",
       "      <td>10</td>\n",
       "      <td>15592389</td>\n",
       "      <td>H?</td>\n",
       "      <td>684</td>\n",
       "      <td>France</td>\n",
       "      <td>Male</td>\n",
       "      <td>27</td>\n",
       "      <td>2</td>\n",
       "      <td>134603.88</td>\n",
       "      <td>1</td>\n",
       "      <td>1</td>\n",
       "      <td>1</td>\n",
       "      <td>71725.73</td>\n",
       "      <td>0</td>\n",
       "    </tr>\n",
       "  </tbody>\n",
       "</table>\n",
       "</div>"
      ],
      "text/plain": [
       "   RowNumber  CustomerId   Surname  CreditScore Geography  Gender  Age  \\\n",
       "0          1    15634602  Hargrave          619    France  Female   42   \n",
       "1          2    15647311      Hill          608     Spain  Female   41   \n",
       "2          3    15619304      Onio          502    France  Female   42   \n",
       "3          4    15701354      Boni          699    France  Female   39   \n",
       "4          5    15737888  Mitchell          850     Spain  Female   43   \n",
       "5          6    15574012       Chu          645     Spain    Male   44   \n",
       "6          7    15592531  Bartlett          822    France    Male   50   \n",
       "7          8    15656148    Obinna          376   Germany  Female   29   \n",
       "8          9    15792365        He          501    France    Male   44   \n",
       "9         10    15592389        H?          684    France    Male   27   \n",
       "\n",
       "   Tenure    Balance  NumOfProducts  HasCrCard  IsActiveMember  \\\n",
       "0       2       0.00              1          1               1   \n",
       "1       1   83807.86              1          0               1   \n",
       "2       8  159660.80              3          1               0   \n",
       "3       1       0.00              2          0               0   \n",
       "4       2  125510.82              1          1               1   \n",
       "5       8  113755.78              2          1               0   \n",
       "6       7       0.00              2          1               1   \n",
       "7       4  115046.74              4          1               0   \n",
       "8       4  142051.07              2          0               1   \n",
       "9       2  134603.88              1          1               1   \n",
       "\n",
       "   EstimatedSalary  Exited  \n",
       "0        101348.88       1  \n",
       "1        112542.58       0  \n",
       "2        113931.57       1  \n",
       "3         93826.63       0  \n",
       "4         79084.10       0  \n",
       "5        149756.71       1  \n",
       "6         10062.80       0  \n",
       "7        119346.88       1  \n",
       "8         74940.50       0  \n",
       "9         71725.73       0  "
      ]
     },
     "execution_count": 55,
     "metadata": {},
     "output_type": "execute_result"
    }
   ],
   "source": [
    "data_set.head(10)"
   ]
  },
  {
   "cell_type": "markdown",
   "metadata": {},
   "source": [
    "Transform the categorical data to numerical"
   ]
  },
  {
   "cell_type": "code",
   "execution_count": 51,
   "metadata": {},
   "outputs": [],
   "source": [
    "labelencoder_X_1 = LabelEncoder()\n",
    "X[:, 1] = labelencoder_X_1.fit_transform(X[:, 1])"
   ]
  },
  {
   "cell_type": "code",
   "execution_count": 52,
   "metadata": {},
   "outputs": [],
   "source": [
    "labelencoder_X_2 = LabelEncoder()\n",
    "X[:, 2] = labelencoder_X_2.fit_transform(X[:, 2])"
   ]
  },
  {
   "cell_type": "code",
   "execution_count": 53,
   "metadata": {},
   "outputs": [],
   "source": [
    "onehotencoder = OneHotEncoder(categorical_features=[1])\n",
    "X = onehotencoder.fit_transform(X).toarray()"
   ]
  },
  {
   "cell_type": "code",
   "execution_count": 58,
   "metadata": {},
   "outputs": [
    {
     "data": {
      "text/plain": [
       "array([  0.00000000e+00,   1.00000000e+00,   0.00000000e+00,\n",
       "         3.76000000e+02,   0.00000000e+00,   2.90000000e+01,\n",
       "         4.00000000e+00,   1.15046740e+05,   4.00000000e+00,\n",
       "         1.00000000e+00,   0.00000000e+00,   1.19346880e+05])"
      ]
     },
     "execution_count": 58,
     "metadata": {},
     "output_type": "execute_result"
    }
   ],
   "source": [
    "X[7]"
   ]
  },
  {
   "cell_type": "code",
   "execution_count": 12,
   "metadata": {},
   "outputs": [],
   "source": [
    "X = X[:,1:]"
   ]
  },
  {
   "cell_type": "markdown",
   "metadata": {},
   "source": [
    "Split data in train and test dataset"
   ]
  },
  {
   "cell_type": "code",
   "execution_count": 13,
   "metadata": {},
   "outputs": [],
   "source": [
    "X_train, X_test, y_train, y_test = train_test_split(X, y, test_size = 0.2, \n",
    "                                                    random_state = 42)"
   ]
  },
  {
   "cell_type": "markdown",
   "metadata": {},
   "source": [
    "Apply of feature scaling"
   ]
  },
  {
   "cell_type": "code",
   "execution_count": 15,
   "metadata": {},
   "outputs": [],
   "source": [
    "sc = StandardScaler()\n",
    "X_train = sc.fit_transform(X_train)\n",
    "X_test = sc.transform(X_test)"
   ]
  },
  {
   "cell_type": "code",
   "execution_count": 20,
   "metadata": {},
   "outputs": [
    {
     "data": {
      "text/plain": [
       "(8000, 11)"
      ]
     },
     "execution_count": 20,
     "metadata": {},
     "output_type": "execute_result"
    }
   ],
   "source": [
    "X_train.shape"
   ]
  },
  {
   "cell_type": "markdown",
   "metadata": {},
   "source": [
    "# 2. Building the ANN"
   ]
  },
  {
   "cell_type": "code",
   "execution_count": 18,
   "metadata": {},
   "outputs": [],
   "source": [
    "import keras\n",
    "from keras.models import Sequential\n",
    "from keras.layers import Dense"
   ]
  },
  {
   "cell_type": "markdown",
   "metadata": {},
   "source": [
    "Initialize the ANN"
   ]
  },
  {
   "cell_type": "code",
   "execution_count": 32,
   "metadata": {},
   "outputs": [],
   "source": [
    "classifier = Sequential()"
   ]
  },
  {
   "cell_type": "markdown",
   "metadata": {},
   "source": [
    "Configuration of the ANN:\n",
    "\n",
    "* Hidden layer 1: inputs --> 11, units(output) --> 6, activation --> Relu\n",
    "* Hidden layer 2: units(output) --> 6, activation --> Relu\n",
    "* Output layer: units(output) --> 1, activation -->\n",
    "\n",
    "**Tip1**: number of units in the hidden(s) layer: average between input and output layers\n",
    "\n",
    "**Tip2**: activation function for the output layer:\n",
    "    * binary: \"sigmoid\"\n",
    "    * multiclass: \"softmax\"\n"
   ]
  },
  {
   "cell_type": "code",
   "execution_count": 33,
   "metadata": {},
   "outputs": [],
   "source": [
    "classifier.add(Dense(units = 6, kernel_initializer=\"uniform\", \n",
    "                     activation = \"relu\", input_dim = 11))\n",
    "classifier.add(Dense(units = 6, kernel_initializer=\"uniform\", \n",
    "                     activation = \"relu\"))\n",
    "classifier.add(Dense(units = 1, kernel_initializer=\"uniform\", \n",
    "                     activation = \"sigmoid\"))"
   ]
  },
  {
   "cell_type": "markdown",
   "metadata": {},
   "source": [
    "Compile the ANN\n",
    "\n",
    "* Optimizer: stocastic gradient descent \"adam\"\n",
    "* Loss: \"binary_crossentropy\"\n",
    "* Metrics: \"accuracy\"\n",
    "\n",
    "\n",
    "**Tip1**: loss function: \n",
    "* \"binary_crossentropy\" for binary categorical outputs\n",
    "* \"categorical_crossentropy\" for multiclass categorical outputs"
   ]
  },
  {
   "cell_type": "code",
   "execution_count": 34,
   "metadata": {},
   "outputs": [],
   "source": [
    "classifier.compile(optimizer=\"adam\", loss=\"binary_crossentropy\", metrics=['accuracy'])"
   ]
  },
  {
   "cell_type": "markdown",
   "metadata": {},
   "source": [
    "Fit the neural network"
   ]
  },
  {
   "cell_type": "code",
   "execution_count": 35,
   "metadata": {},
   "outputs": [
    {
     "name": "stdout",
     "output_type": "stream",
     "text": [
      "Epoch 1/100\n",
      "8000/8000 [==============================] - 2s 218us/step - loss: 0.4801 - acc: 0.7945\n",
      "Epoch 2/100\n",
      "8000/8000 [==============================] - 1s 160us/step - loss: 0.4301 - acc: 0.7945\n",
      "Epoch 3/100\n",
      "8000/8000 [==============================] - 1s 150us/step - loss: 0.4242 - acc: 0.8011\n",
      "Epoch 4/100\n",
      "8000/8000 [==============================] - 1s 182us/step - loss: 0.4209 - acc: 0.8250\n",
      "Epoch 5/100\n",
      "8000/8000 [==============================] - 1s 157us/step - loss: 0.4182 - acc: 0.8291\n",
      "Epoch 6/100\n",
      "8000/8000 [==============================] - 1s 168us/step - loss: 0.4162 - acc: 0.8305\n",
      "Epoch 7/100\n",
      "8000/8000 [==============================] - 1s 158us/step - loss: 0.4141 - acc: 0.8321\n",
      "Epoch 8/100\n",
      "8000/8000 [==============================] - 1s 158us/step - loss: 0.4127 - acc: 0.8324\n",
      "Epoch 9/100\n",
      "8000/8000 [==============================] - 1s 158us/step - loss: 0.4117 - acc: 0.8332\n",
      "Epoch 10/100\n",
      "8000/8000 [==============================] - 1s 177us/step - loss: 0.4110 - acc: 0.8314\n",
      "Epoch 11/100\n",
      "8000/8000 [==============================] - 1s 177us/step - loss: 0.4092 - acc: 0.8331\n",
      "Epoch 12/100\n",
      "8000/8000 [==============================] - 1s 163us/step - loss: 0.4090 - acc: 0.8330\n",
      "Epoch 13/100\n",
      "8000/8000 [==============================] - 1s 160us/step - loss: 0.4085 - acc: 0.8339\n",
      "Epoch 14/100\n",
      "8000/8000 [==============================] - 1s 177us/step - loss: 0.4073 - acc: 0.8352\n",
      "Epoch 15/100\n",
      "8000/8000 [==============================] - 1s 187us/step - loss: 0.4076 - acc: 0.8345\n",
      "Epoch 16/100\n",
      "8000/8000 [==============================] - 1s 176us/step - loss: 0.4067 - acc: 0.8360\n",
      "Epoch 17/100\n",
      "8000/8000 [==============================] - 2s 198us/step - loss: 0.4064 - acc: 0.8360\n",
      "Epoch 18/100\n",
      "8000/8000 [==============================] - 1s 169us/step - loss: 0.4067 - acc: 0.8340\n",
      "Epoch 19/100\n",
      "8000/8000 [==============================] - 1s 176us/step - loss: 0.4057 - acc: 0.8339\n",
      "Epoch 20/100\n",
      "8000/8000 [==============================] - 1s 163us/step - loss: 0.4055 - acc: 0.8357\n",
      "Epoch 21/100\n",
      "8000/8000 [==============================] - 1s 179us/step - loss: 0.4052 - acc: 0.8355\n",
      "Epoch 22/100\n",
      "8000/8000 [==============================] - 1s 164us/step - loss: 0.4051 - acc: 0.8349\n",
      "Epoch 23/100\n",
      "8000/8000 [==============================] - 1s 172us/step - loss: 0.4048 - acc: 0.8349\n",
      "Epoch 24/100\n",
      "8000/8000 [==============================] - 1s 172us/step - loss: 0.4046 - acc: 0.8361\n",
      "Epoch 25/100\n",
      "8000/8000 [==============================] - 1s 166us/step - loss: 0.4046 - acc: 0.8335\n",
      "Epoch 26/100\n",
      "8000/8000 [==============================] - 1s 165us/step - loss: 0.4044 - acc: 0.8352\n",
      "Epoch 27/100\n",
      "8000/8000 [==============================] - 1s 166us/step - loss: 0.4042 - acc: 0.8355\n",
      "Epoch 28/100\n",
      "8000/8000 [==============================] - 1s 181us/step - loss: 0.4043 - acc: 0.8329\n",
      "Epoch 29/100\n",
      "8000/8000 [==============================] - 1s 179us/step - loss: 0.4042 - acc: 0.8340\n",
      "Epoch 30/100\n",
      "8000/8000 [==============================] - 1s 169us/step - loss: 0.4038 - acc: 0.8337\n",
      "Epoch 31/100\n",
      "8000/8000 [==============================] - 1s 171us/step - loss: 0.4037 - acc: 0.8336\n",
      "Epoch 32/100\n",
      "8000/8000 [==============================] - 1s 170us/step - loss: 0.4041 - acc: 0.8350\n",
      "Epoch 33/100\n",
      "8000/8000 [==============================] - 2s 188us/step - loss: 0.4038 - acc: 0.8346\n",
      "Epoch 34/100\n",
      "8000/8000 [==============================] - 2s 218us/step - loss: 0.4039 - acc: 0.8332\n",
      "Epoch 35/100\n",
      "8000/8000 [==============================] - 2s 236us/step - loss: 0.4035 - acc: 0.8339\n",
      "Epoch 36/100\n",
      "8000/8000 [==============================] - 1s 183us/step - loss: 0.4035 - acc: 0.8355\n",
      "Epoch 37/100\n",
      "8000/8000 [==============================] - 1s 177us/step - loss: 0.4038 - acc: 0.8339\n",
      "Epoch 38/100\n",
      "8000/8000 [==============================] - 2s 229us/step - loss: 0.4032 - acc: 0.8351\n",
      "Epoch 39/100\n",
      "8000/8000 [==============================] - 2s 247us/step - loss: 0.4034 - acc: 0.8342\n",
      "Epoch 40/100\n",
      "8000/8000 [==============================] - 1s 180us/step - loss: 0.4031 - acc: 0.8341\n",
      "Epoch 41/100\n",
      "8000/8000 [==============================] - 2s 191us/step - loss: 0.4034 - acc: 0.8350\n",
      "Epoch 42/100\n",
      "8000/8000 [==============================] - 2s 206us/step - loss: 0.4034 - acc: 0.8347\n",
      "Epoch 43/100\n",
      "8000/8000 [==============================] - 2s 191us/step - loss: 0.4030 - acc: 0.8365\n",
      "Epoch 44/100\n",
      "8000/8000 [==============================] - 2s 203us/step - loss: 0.4034 - acc: 0.8354\n",
      "Epoch 45/100\n",
      "8000/8000 [==============================] - 1s 171us/step - loss: 0.4023 - acc: 0.8350\n",
      "Epoch 46/100\n",
      "8000/8000 [==============================] - 1s 182us/step - loss: 0.4031 - acc: 0.8341\n",
      "Epoch 47/100\n",
      "8000/8000 [==============================] - 2s 257us/step - loss: 0.4030 - acc: 0.8347\n",
      "Epoch 48/100\n",
      "8000/8000 [==============================] - 2s 261us/step - loss: 0.4027 - acc: 0.8369\n",
      "Epoch 49/100\n",
      "8000/8000 [==============================] - 2s 192us/step - loss: 0.4024 - acc: 0.8342\n",
      "Epoch 50/100\n",
      "8000/8000 [==============================] - 2s 200us/step - loss: 0.4030 - acc: 0.8351\n",
      "Epoch 51/100\n",
      "8000/8000 [==============================] - 2s 197us/step - loss: 0.4026 - acc: 0.8349\n",
      "Epoch 52/100\n",
      "8000/8000 [==============================] - 1s 175us/step - loss: 0.4029 - acc: 0.8339\n",
      "Epoch 53/100\n",
      "8000/8000 [==============================] - 2s 196us/step - loss: 0.4032 - acc: 0.8355\n",
      "Epoch 54/100\n",
      "8000/8000 [==============================] - 2s 212us/step - loss: 0.4033 - acc: 0.8349\n",
      "Epoch 55/100\n",
      "8000/8000 [==============================] - 2s 194us/step - loss: 0.4032 - acc: 0.8351\n",
      "Epoch 56/100\n",
      "8000/8000 [==============================] - 1s 176us/step - loss: 0.4026 - acc: 0.8361\n",
      "Epoch 57/100\n",
      "8000/8000 [==============================] - 1s 185us/step - loss: 0.4022 - acc: 0.8350\n",
      "Epoch 58/100\n",
      "8000/8000 [==============================] - 2s 207us/step - loss: 0.4024 - acc: 0.8360\n",
      "Epoch 59/100\n",
      "8000/8000 [==============================] - 2s 190us/step - loss: 0.4027 - acc: 0.8359\n",
      "Epoch 60/100\n",
      "8000/8000 [==============================] - 2s 189us/step - loss: 0.4024 - acc: 0.8341\n",
      "Epoch 61/100\n",
      "8000/8000 [==============================] - 1s 174us/step - loss: 0.4024 - acc: 0.8342\n",
      "Epoch 62/100\n",
      "8000/8000 [==============================] - 1s 184us/step - loss: 0.4027 - acc: 0.8342\n",
      "Epoch 63/100\n",
      "8000/8000 [==============================] - 1s 178us/step - loss: 0.4027 - acc: 0.8350\n",
      "Epoch 64/100\n",
      "8000/8000 [==============================] - 1s 183us/step - loss: 0.4026 - acc: 0.8347\n",
      "Epoch 65/100\n",
      "8000/8000 [==============================] - 2s 197us/step - loss: 0.4025 - acc: 0.8351\n",
      "Epoch 66/100\n",
      "8000/8000 [==============================] - 2s 256us/step - loss: 0.4026 - acc: 0.8345\n",
      "Epoch 67/100\n",
      "8000/8000 [==============================] - 1s 185us/step - loss: 0.4024 - acc: 0.8350\n",
      "Epoch 68/100\n",
      "8000/8000 [==============================] - 2s 233us/step - loss: 0.4022 - acc: 0.8346\n",
      "Epoch 69/100\n",
      "8000/8000 [==============================] - 2s 215us/step - loss: 0.4022 - acc: 0.8349\n",
      "Epoch 70/100\n",
      "8000/8000 [==============================] - 2s 284us/step - loss: 0.4028 - acc: 0.8346\n",
      "Epoch 71/100\n",
      "8000/8000 [==============================] - 2s 195us/step - loss: 0.4018 - acc: 0.8360\n",
      "Epoch 72/100\n",
      "8000/8000 [==============================] - 2s 296us/step - loss: 0.4023 - acc: 0.8341\n",
      "Epoch 73/100\n",
      "8000/8000 [==============================] - 2s 275us/step - loss: 0.4017 - acc: 0.8360\n",
      "Epoch 74/100\n",
      "8000/8000 [==============================] - 1s 183us/step - loss: 0.4017 - acc: 0.8362\n",
      "Epoch 75/100\n",
      "8000/8000 [==============================] - 1s 184us/step - loss: 0.4023 - acc: 0.8347\n",
      "Epoch 76/100\n",
      "8000/8000 [==============================] - 2s 214us/step - loss: 0.4012 - acc: 0.8360\n",
      "Epoch 77/100\n",
      "8000/8000 [==============================] - 2s 215us/step - loss: 0.4010 - acc: 0.8349\n",
      "Epoch 78/100\n",
      "8000/8000 [==============================] - 2s 198us/step - loss: 0.4008 - acc: 0.8357\n",
      "Epoch 79/100\n",
      "8000/8000 [==============================] - 2s 220us/step - loss: 0.3999 - acc: 0.8359\n",
      "Epoch 80/100\n",
      "8000/8000 [==============================] - 2s 209us/step - loss: 0.3999 - acc: 0.8340\n",
      "Epoch 81/100\n",
      "8000/8000 [==============================] - 1s 186us/step - loss: 0.3998 - acc: 0.8367\n",
      "Epoch 82/100\n"
     ]
    },
    {
     "name": "stdout",
     "output_type": "stream",
     "text": [
      "8000/8000 [==============================] - 1s 160us/step - loss: 0.3989 - acc: 0.8372\n",
      "Epoch 83/100\n",
      "8000/8000 [==============================] - 1s 156us/step - loss: 0.3988 - acc: 0.8371\n",
      "Epoch 84/100\n",
      "8000/8000 [==============================] - 1s 174us/step - loss: 0.3989 - acc: 0.8360\n",
      "Epoch 85/100\n",
      "8000/8000 [==============================] - 2s 194us/step - loss: 0.3987 - acc: 0.8369\n",
      "Epoch 86/100\n",
      "8000/8000 [==============================] - 1s 164us/step - loss: 0.3981 - acc: 0.8350\n",
      "Epoch 87/100\n",
      "8000/8000 [==============================] - 1s 183us/step - loss: 0.3979 - acc: 0.8381\n",
      "Epoch 88/100\n",
      "8000/8000 [==============================] - 1s 180us/step - loss: 0.3969 - acc: 0.8370\n",
      "Epoch 89/100\n",
      "8000/8000 [==============================] - 2s 195us/step - loss: 0.3975 - acc: 0.8362\n",
      "Epoch 90/100\n",
      "8000/8000 [==============================] - 2s 208us/step - loss: 0.3968 - acc: 0.8384\n",
      "Epoch 91/100\n",
      "8000/8000 [==============================] - 2s 218us/step - loss: 0.3969 - acc: 0.8384\n",
      "Epoch 92/100\n",
      "8000/8000 [==============================] - 2s 225us/step - loss: 0.3960 - acc: 0.8382\n",
      "Epoch 93/100\n",
      "8000/8000 [==============================] - 1s 165us/step - loss: 0.3965 - acc: 0.8386\n",
      "Epoch 94/100\n",
      "8000/8000 [==============================] - 1s 180us/step - loss: 0.3960 - acc: 0.8376\n",
      "Epoch 95/100\n",
      "8000/8000 [==============================] - 1s 182us/step - loss: 0.3961 - acc: 0.8384\n",
      "Epoch 96/100\n",
      "8000/8000 [==============================] - 1s 181us/step - loss: 0.3957 - acc: 0.8375\n",
      "Epoch 97/100\n",
      "8000/8000 [==============================] - 2s 235us/step - loss: 0.3956 - acc: 0.8366\n",
      "Epoch 98/100\n",
      "8000/8000 [==============================] - 2s 228us/step - loss: 0.3955 - acc: 0.8375\n",
      "Epoch 99/100\n",
      "8000/8000 [==============================] - 2s 238us/step - loss: 0.3949 - acc: 0.8394\n",
      "Epoch 100/100\n",
      "8000/8000 [==============================] - 2s 242us/step - loss: 0.3949 - acc: 0.8389\n"
     ]
    },
    {
     "data": {
      "text/plain": [
       "<keras.callbacks.History at 0x7f0a0bee27b8>"
      ]
     },
     "execution_count": 35,
     "metadata": {},
     "output_type": "execute_result"
    }
   ],
   "source": [
    "classifier.fit(x=X_train, y=y_train, batch_size=10, epochs=100)"
   ]
  },
  {
   "cell_type": "markdown",
   "metadata": {},
   "source": [
    "## 3. Evaluation of the model (I)"
   ]
  },
  {
   "cell_type": "code",
   "execution_count": 76,
   "metadata": {},
   "outputs": [],
   "source": [
    "y_pred = classifier.predict(X_test)\n",
    "y_pred = y_pred > 0.5"
   ]
  },
  {
   "cell_type": "code",
   "execution_count": 77,
   "metadata": {},
   "outputs": [
    {
     "data": {
      "text/plain": [
       "array([[False],\n",
       "       [False],\n",
       "       [False],\n",
       "       [False],\n",
       "       [False],\n",
       "       [False],\n",
       "       [False],\n",
       "       [False],\n",
       "       [False],\n",
       "       [False]], dtype=bool)"
      ]
     },
     "execution_count": 77,
     "metadata": {},
     "output_type": "execute_result"
    }
   ],
   "source": [
    "y_pred[:10]"
   ]
  },
  {
   "cell_type": "code",
   "execution_count": 78,
   "metadata": {},
   "outputs": [],
   "source": [
    "cm = confusion_matrix(y_test, y_pred)"
   ]
  },
  {
   "cell_type": "code",
   "execution_count": 79,
   "metadata": {},
   "outputs": [
    {
     "data": {
      "text/plain": [
       "array([[1551,   56],\n",
       "       [ 264,  129]])"
      ]
     },
     "execution_count": 79,
     "metadata": {},
     "output_type": "execute_result"
    }
   ],
   "source": [
    "cm"
   ]
  },
  {
   "cell_type": "code",
   "execution_count": 80,
   "metadata": {},
   "outputs": [],
   "source": [
    "accuracy_test = accuracy_score(y_test, y_pred)"
   ]
  },
  {
   "cell_type": "code",
   "execution_count": 81,
   "metadata": {},
   "outputs": [
    {
     "data": {
      "text/plain": [
       "0.83999999999999997"
      ]
     },
     "execution_count": 81,
     "metadata": {},
     "output_type": "execute_result"
    }
   ],
   "source": [
    "accuracy_test"
   ]
  },
  {
   "cell_type": "markdown",
   "metadata": {},
   "source": [
    "## 4. Single prediction"
   ]
  },
  {
   "cell_type": "code",
   "execution_count": 96,
   "metadata": {},
   "outputs": [],
   "source": [
    "features = np.array([[0.0, 0, 600, 1, 40, 3, 60000, 2, 1, 1, 50000]])"
   ]
  },
  {
   "cell_type": "code",
   "execution_count": 97,
   "metadata": {},
   "outputs": [
    {
     "data": {
      "text/plain": [
       "(1, 11)"
      ]
     },
     "execution_count": 97,
     "metadata": {},
     "output_type": "execute_result"
    }
   ],
   "source": [
    "features.shape"
   ]
  },
  {
   "cell_type": "markdown",
   "metadata": {},
   "source": [
    "We have to rescale the features"
   ]
  },
  {
   "cell_type": "code",
   "execution_count": 98,
   "metadata": {},
   "outputs": [],
   "source": [
    "features = sc.transform(features)"
   ]
  },
  {
   "cell_type": "code",
   "execution_count": 99,
   "metadata": {},
   "outputs": [],
   "source": [
    "new_prediction = classifier.predict(features)[0]"
   ]
  },
  {
   "cell_type": "code",
   "execution_count": 100,
   "metadata": {},
   "outputs": [
    {
     "data": {
      "text/plain": [
       "array([False], dtype=bool)"
      ]
     },
     "execution_count": 100,
     "metadata": {},
     "output_type": "execute_result"
    }
   ],
   "source": [
    "new_prediction > 0.5"
   ]
  },
  {
   "cell_type": "code",
   "execution_count": null,
   "metadata": {},
   "outputs": [],
   "source": []
  }
 ],
 "metadata": {
  "kernelspec": {
   "display_name": "Python 3",
   "language": "python",
   "name": "python3"
  },
  "language_info": {
   "codemirror_mode": {
    "name": "ipython",
    "version": 3
   },
   "file_extension": ".py",
   "mimetype": "text/x-python",
   "name": "python",
   "nbconvert_exporter": "python",
   "pygments_lexer": "ipython3",
   "version": "3.5.2"
  }
 },
 "nbformat": 4,
 "nbformat_minor": 2
}
