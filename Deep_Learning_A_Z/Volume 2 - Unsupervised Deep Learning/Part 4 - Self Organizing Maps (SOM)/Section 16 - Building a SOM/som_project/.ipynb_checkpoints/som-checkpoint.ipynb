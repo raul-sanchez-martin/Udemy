{
 "cells": [
  {
   "cell_type": "markdown",
   "metadata": {},
   "source": [
    "# Self Organizing Maps"
   ]
  },
  {
   "cell_type": "markdown",
   "metadata": {},
   "source": [
    "## 1. Importing the Libraries"
   ]
  },
  {
   "cell_type": "code",
   "execution_count": 46,
   "metadata": {},
   "outputs": [],
   "source": [
    "import numpy as pd\n",
    "import matplotlib.pyplot as plt\n",
    "import pandas as pd\n",
    "from sklearn.preprocessing import MinMaxScaler\n",
    "import numpy as np\n",
    "%matplotlib inline"
   ]
  },
  {
   "cell_type": "markdown",
   "metadata": {},
   "source": [
    "## 2. Data Processing\n",
    "\n",
    "Import the data"
   ]
  },
  {
   "cell_type": "code",
   "execution_count": 3,
   "metadata": {},
   "outputs": [],
   "source": [
    "dataset = pd.read_csv(\"Credit_Card_Applications.csv\")"
   ]
  },
  {
   "cell_type": "markdown",
   "metadata": {},
   "source": [
    "Feature and label extraction"
   ]
  },
  {
   "cell_type": "code",
   "execution_count": 4,
   "metadata": {},
   "outputs": [],
   "source": [
    "X = dataset.iloc[:, :-1].values\n",
    "y = dataset.iloc[:, -1].values"
   ]
  },
  {
   "cell_type": "code",
   "execution_count": 7,
   "metadata": {},
   "outputs": [
    {
     "name": "stdout",
     "output_type": "stream",
     "text": [
      "X shape: (690, 15); y shape: (690,)\n"
     ]
    }
   ],
   "source": [
    "print(\"X shape: {0}; y shape: {1}\".format(X.shape, y.shape))"
   ]
  },
  {
   "cell_type": "markdown",
   "metadata": {},
   "source": [
    "Feature extraction"
   ]
  },
  {
   "cell_type": "code",
   "execution_count": 11,
   "metadata": {},
   "outputs": [],
   "source": [
    "sc = MinMaxScaler(feature_range = (0,1))\n",
    "X_norm = sc.fit_transform(X)"
   ]
  },
  {
   "cell_type": "markdown",
   "metadata": {},
   "source": [
    "## 3. Training the SOM\n",
    "[Library link: MiniSom](https://pypi.python.org/pypi/MiniSom/1.1.1)"
   ]
  },
  {
   "cell_type": "code",
   "execution_count": 13,
   "metadata": {},
   "outputs": [],
   "source": [
    "from minisom import MiniSom"
   ]
  },
  {
   "cell_type": "markdown",
   "metadata": {},
   "source": [
    "Initialize the model object"
   ]
  },
  {
   "cell_type": "code",
   "execution_count": 38,
   "metadata": {},
   "outputs": [],
   "source": [
    "som = MiniSom(x = 10, y = 10, input_len=15, sigma=1.0, learning_rate=0.5)\n",
    "# input_len  = number of features"
   ]
  },
  {
   "cell_type": "markdown",
   "metadata": {},
   "source": [
    "Initialize the weigths"
   ]
  },
  {
   "cell_type": "code",
   "execution_count": 39,
   "metadata": {},
   "outputs": [],
   "source": [
    "som.random_weights_init(X)"
   ]
  },
  {
   "cell_type": "markdown",
   "metadata": {},
   "source": [
    "Train the model"
   ]
  },
  {
   "cell_type": "code",
   "execution_count": 40,
   "metadata": {},
   "outputs": [],
   "source": [
    "som.train_random(data = X, num_iteration=100)"
   ]
  },
  {
   "cell_type": "markdown",
   "metadata": {},
   "source": [
    "## 4. Visualizing the Results"
   ]
  },
  {
   "cell_type": "code",
   "execution_count": 41,
   "metadata": {},
   "outputs": [],
   "source": [
    "from pylab import bone, pcolor, colorbar, plot, show"
   ]
  },
  {
   "cell_type": "code",
   "execution_count": 42,
   "metadata": {},
   "outputs": [
    {
     "data": {
      "image/png": "[encoded data removed]",
      "text/plain": [
       "<matplotlib.figure.Figure at 0x7ff572365128>"
      ]
     },
     "metadata": {},
     "output_type": "display_data"
    }
   ],
   "source": [
    "bone() # Initiliaze the plot\n",
    "pcolor(som.distance_map().T)\n",
    "colorbar()\n",
    "markers = ['o', 's']\n",
    "colors = ['r', 'g']\n",
    "for i, x in enumerate(X):\n",
    "    w = som.winner(x)\n",
    "    plot(w[0]+0.5,\n",
    "         w[1]+0.5,\n",
    "         markers[y[i]],\n",
    "         markeredgecolor = colors[y[i]],\n",
    "         markerfacecolor = \"None\",\n",
    "         markersize = 10,\n",
    "         markeredgewidth = 2)\n",
    "show()"
   ]
  },
  {
   "cell_type": "markdown",
   "metadata": {},
   "source": [
    "## 5. Finding the Frauds\n"
   ]
  },
  {
   "cell_type": "code",
   "execution_count": 54,
   "metadata": {},
   "outputs": [],
   "source": [
    "mappings = som.win_map(X)"
   ]
  },
  {
   "cell_type": "code",
   "execution_count": 57,
   "metadata": {},
   "outputs": [],
   "source": [
    "frauds = np.concatenate(((mappings[(2,7)]), mappings[(2,7)]), axis = 0)\n",
    "frauds = sc.inverse_transform(frauds)"
   ]
  },
  {
   "cell_type": "code",
   "execution_count": 58,
   "metadata": {},
   "outputs": [
    {
     "data": {
      "text/plain": [
       "array([[  3.92178001e+12,   1.00000000e+00,   1.68755500e+03,\n",
       "          9.80000000e+01,   5.00000000e+00,   1.70000000e+02,\n",
       "          3.30000000e+01,   1.78125000e+01,   1.00000000e+00,\n",
       "          1.00000000e+00,   4.69000000e+02,   0.00000000e+00,\n",
       "          5.00000000e+00,   0.00000000e+00,   7.06000001e+08],\n",
       "       [  3.89339906e+12,   0.00000000e+00,   1.67625000e+03,\n",
       "          2.45000000e+01,   5.00000000e+00,   1.83000000e+02,\n",
       "          6.50000000e+01,   2.96400000e+01,   1.00000000e+00,\n",
       "          0.00000000e+00,   0.00000000e+00,   1.00000000e+00,\n",
       "          5.00000000e+00,   3.20000000e+05,   5.86100001e+08],\n",
       "       [  3.89517263e+12,   1.00000000e+00,   1.85380500e+03,\n",
       "          5.60000000e+01,   5.00000000e+00,   1.83000000e+02,\n",
       "          6.50000000e+01,   2.85000000e+01,   1.00000000e+00,\n",
       "          1.00000000e+00,   2.68000000e+02,   0.00000000e+00,\n",
       "          5.00000000e+00,   2.80000000e+05,   7.54500001e+08],\n",
       "       [  3.91983362e+12,   0.00000000e+00,   3.89868000e+03,\n",
       "          5.88000000e+02,   5.00000000e+00,   4.00000000e+01,\n",
       "          4.10000000e+01,   2.85000000e+02,   1.00000000e+00,\n",
       "          1.00000000e+00,   8.71000000e+02,   0.00000000e+00,\n",
       "          5.00000000e+00,   0.00000000e+00,   6.70100001e+08],\n",
       "       [  3.93175993e+12,   1.00000000e+00,   1.55987500e+03,\n",
       "          3.53500000e+02,   5.00000000e+00,   1.05000000e+02,\n",
       "          3.30000000e+01,   3.56250000e+00,   0.00000000e+00,\n",
       "          1.00000000e+00,   1.34000000e+02,   0.00000000e+00,\n",
       "          5.00000000e+00,   0.00000000e+00,   5.55300001e+08],\n",
       "       [  3.90741610e+12,   1.00000000e+00,   1.78730500e+03,\n",
       "          4.90000000e+01,   3.00000000e+00,   1.05000000e+02,\n",
       "          3.30000000e+01,   2.85000000e+01,   1.00000000e+00,\n",
       "          1.00000000e+00,   3.35000000e+02,   1.00000000e+00,\n",
       "          5.00000000e+00,   3.20000000e+05,   5.77800001e+08],\n",
       "       [  3.93918487e+12,   0.00000000e+00,   2.36918000e+03,\n",
       "          3.36000000e+02,   5.00000000e+00,   1.44000000e+02,\n",
       "          6.50000000e+01,   3.99000000e+02,   1.00000000e+00,\n",
       "          1.00000000e+00,   5.36000000e+02,   0.00000000e+00,\n",
       "          5.00000000e+00,   0.00000000e+00,   6.59100001e+08],\n",
       "       [  3.92178001e+12,   1.00000000e+00,   1.68755500e+03,\n",
       "          9.80000000e+01,   5.00000000e+00,   1.70000000e+02,\n",
       "          3.30000000e+01,   1.78125000e+01,   1.00000000e+00,\n",
       "          1.00000000e+00,   4.69000000e+02,   0.00000000e+00,\n",
       "          5.00000000e+00,   0.00000000e+00,   7.06000001e+08],\n",
       "       [  3.89339906e+12,   0.00000000e+00,   1.67625000e+03,\n",
       "          2.45000000e+01,   5.00000000e+00,   1.83000000e+02,\n",
       "          6.50000000e+01,   2.96400000e+01,   1.00000000e+00,\n",
       "          0.00000000e+00,   0.00000000e+00,   1.00000000e+00,\n",
       "          5.00000000e+00,   3.20000000e+05,   5.86100001e+08],\n",
       "       [  3.89517263e+12,   1.00000000e+00,   1.85380500e+03,\n",
       "          5.60000000e+01,   5.00000000e+00,   1.83000000e+02,\n",
       "          6.50000000e+01,   2.85000000e+01,   1.00000000e+00,\n",
       "          1.00000000e+00,   2.68000000e+02,   0.00000000e+00,\n",
       "          5.00000000e+00,   2.80000000e+05,   7.54500001e+08],\n",
       "       [  3.91983362e+12,   0.00000000e+00,   3.89868000e+03,\n",
       "          5.88000000e+02,   5.00000000e+00,   4.00000000e+01,\n",
       "          4.10000000e+01,   2.85000000e+02,   1.00000000e+00,\n",
       "          1.00000000e+00,   8.71000000e+02,   0.00000000e+00,\n",
       "          5.00000000e+00,   0.00000000e+00,   6.70100001e+08],\n",
       "       [  3.93175993e+12,   1.00000000e+00,   1.55987500e+03,\n",
       "          3.53500000e+02,   5.00000000e+00,   1.05000000e+02,\n",
       "          3.30000000e+01,   3.56250000e+00,   0.00000000e+00,\n",
       "          1.00000000e+00,   1.34000000e+02,   0.00000000e+00,\n",
       "          5.00000000e+00,   0.00000000e+00,   5.55300001e+08],\n",
       "       [  3.90741610e+12,   1.00000000e+00,   1.78730500e+03,\n",
       "          4.90000000e+01,   3.00000000e+00,   1.05000000e+02,\n",
       "          3.30000000e+01,   2.85000000e+01,   1.00000000e+00,\n",
       "          1.00000000e+00,   3.35000000e+02,   1.00000000e+00,\n",
       "          5.00000000e+00,   3.20000000e+05,   5.77800001e+08],\n",
       "       [  3.93918487e+12,   0.00000000e+00,   2.36918000e+03,\n",
       "          3.36000000e+02,   5.00000000e+00,   1.44000000e+02,\n",
       "          6.50000000e+01,   3.99000000e+02,   1.00000000e+00,\n",
       "          1.00000000e+00,   5.36000000e+02,   0.00000000e+00,\n",
       "          5.00000000e+00,   0.00000000e+00,   6.59100001e+08]])"
      ]
     },
     "execution_count": 58,
     "metadata": {},
     "output_type": "execute_result"
    }
   ],
   "source": [
    "frauds"
   ]
  },
  {
   "cell_type": "code",
   "execution_count": null,
   "metadata": {},
   "outputs": [],
   "source": []
  }
 ],
 "metadata": {
  "kernelspec": {
   "display_name": "Python 3",
   "language": "python",
   "name": "python3"
  },
  "language_info": {
   "codemirror_mode": {
    "name": "ipython",
    "version": 3
   },
   "file_extension": ".py",
   "mimetype": "text/x-python",
   "name": "python",
   "nbconvert_exporter": "python",
   "pygments_lexer": "ipython3",
   "version": "3.5.2"
  }
 },
 "nbformat": 4,
 "nbformat_minor": 2
}
